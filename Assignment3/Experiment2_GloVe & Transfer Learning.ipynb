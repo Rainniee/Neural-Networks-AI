{
  "nbformat": 4,
  "nbformat_minor": 0,
  "metadata": {
    "colab": {
      "name": "Experiment2_GloVe With IMDB & Transfer Learning.ipynb",
      "version": "0.3.2",
      "provenance": [],
      "include_colab_link": true
    },
    "kernelspec": {
      "name": "python3",
      "display_name": "Python 3"
    },
    "accelerator": "GPU"
  },
  "cells": [
    {
      "cell_type": "markdown",
      "metadata": {
        "id": "view-in-github",
        "colab_type": "text"
      },
      "source": [
        "<a href=\"https://colab.research.google.com/github/Rainniee/Neural-Networks-AI/blob/master/Experiment2_GloVe%20%26%20Transfer%20Learning.ipynb\" target=\"_parent\"><img src=\"https://colab.research.google.com/assets/colab-badge.svg\" alt=\"Open In Colab\"/></a>"
      ]
    },
    {
      "metadata": {
        "id": "Vg_ADbmSABAL",
        "colab_type": "code",
        "colab": {
          "base_uri": "https://localhost:8080/",
          "height": 34
        },
        "outputId": "8d33d885-09d7-4852-8144-de7e2bb3a762"
      },
      "cell_type": "code",
      "source": [
        "from __future__ import division\n",
        "from __future__ import print_function\n",
        "\n",
        "import pandas as pd\n",
        "import numpy as np\n",
        "\n",
        "import itertools\n",
        "import os\n",
        "\n",
        "import nltk\n",
        "from nltk.corpus import stopwords\n",
        "from sklearn.metrics import confusion_matrix, accuracy_score\n",
        "\n",
        "from keras.preprocessing.text import Tokenizer\n",
        "from sklearn.preprocessing import LabelBinarizer, LabelEncoder\n",
        "from keras import optimizers\n",
        "\n",
        "%matplotlib inline\n",
        "import matplotlib.pyplot as plt\n",
        "import tensorflow as tf\n",
        "from tensorflow.python.keras.datasets import imdb\n",
        "from tensorflow import keras\n",
        "from keras.layers import Embedding, Flatten, Dense, SimpleRNN, LSTM, Activation, Dropout\n",
        "from keras.layers import LSTM, CuDNNLSTM\n",
        "\n",
        "from keras import regularizers\n",
        "from keras.layers import Conv1D, MaxPooling1D, GlobalMaxPooling1D \n",
        "\n",
        "from keras import optimizers\n",
        "from keras.models import Sequential\n",
        "from keras.models import load_model\n",
        "from keras.preprocessing import text, sequence\n",
        "from keras import utils\n",
        "from tensorflow.keras.callbacks import EarlyStopping\n",
        "\n",
        "# This code was tested with TensorFlow v1.4\n",
        "print(\"You have TensorFlow version\", tf.__version__)\n",
        "\n",
        "from distutils.version import LooseVersion as LV\n",
        "from keras import __version__\n",
        "from keras import backend as K\n",
        "\n",
        "from IPython.display import SVG\n",
        "from keras.utils.vis_utils import model_to_dot\n",
        "\n",
        "import seaborn as sns\n",
        "sns.set()"
      ],
      "execution_count": 20,
      "outputs": [
        {
          "output_type": "stream",
          "text": [
            "You have TensorFlow version 1.13.1\n"
          ],
          "name": "stdout"
        }
      ]
    },
    {
      "metadata": {
        "id": "lZcQt2WuAjqt",
        "colab_type": "text"
      },
      "cell_type": "markdown",
      "source": [
        "### Load the IMDB Dataset"
      ]
    },
    {
      "metadata": {
        "id": "kW-SqDU4AZ5G",
        "colab_type": "code",
        "colab": {
          "base_uri": "https://localhost:8080/",
          "height": 168
        },
        "outputId": "8cb15360-b5e7-4c0a-cd10-e04022114f5f"
      },
      "cell_type": "code",
      "source": [
        "# number of most-frequent words to use\n",
        "nb_words = 10000\n",
        "# cut texts after this number of words\n",
        "maxlen = 1000\n",
        "\n",
        "print('Loading data...')\n",
        "(x_train, y_train), (x_test, y_test) = imdb.load_data(num_words=nb_words)\n",
        "print('x_train:', x_train.shape)\n",
        "print('x_test:', x_test.shape)\n",
        "print()\n",
        "\n",
        "print('Pad sequences (samples x time)')\n",
        "x_train = sequence.pad_sequences(x_train, maxlen=maxlen)\n",
        "x_test = sequence.pad_sequences(x_test, maxlen=maxlen)\n",
        "print('x_train shape:', x_train.shape)\n",
        "print('x_test shape:', x_test.shape)"
      ],
      "execution_count": 2,
      "outputs": [
        {
          "output_type": "stream",
          "text": [
            "Loading data...\n",
            "Downloading data from https://storage.googleapis.com/tensorflow/tf-keras-datasets/imdb.npz\n",
            "17465344/17464789 [==============================] - 1s 0us/step\n",
            "x_train: (25000,)\n",
            "x_test: (25000,)\n",
            "\n",
            "Pad sequences (samples x time)\n",
            "x_train shape: (25000, 1000)\n",
            "x_test shape: (25000, 1000)\n"
          ],
          "name": "stdout"
        }
      ]
    },
    {
      "metadata": {
        "id": "e5rhG9k9A3Ve",
        "colab_type": "text"
      },
      "cell_type": "markdown",
      "source": [
        "### Doawload the GloVe"
      ]
    },
    {
      "metadata": {
        "id": "MddB6ulTAZ7p",
        "colab_type": "code",
        "colab": {
          "base_uri": "https://localhost:8080/",
          "height": 353
        },
        "outputId": "ae3a7761-e449-4c6e-da18-ec2a73796af1"
      },
      "cell_type": "code",
      "source": [
        "if not os.path.exists('glove.6B.zip'):\n",
        "    ! wget http://nlp.stanford.edu/data/glove.6B.zip\n",
        "if not os.path.exists('glove.6B.50d.txt'):\n",
        "    ! unzip glove.6B.zip"
      ],
      "execution_count": 3,
      "outputs": [
        {
          "output_type": "stream",
          "text": [
            "--2019-03-28 06:36:12--  http://nlp.stanford.edu/data/glove.6B.zip\n",
            "Resolving nlp.stanford.edu (nlp.stanford.edu)... 171.64.67.140\n",
            "Connecting to nlp.stanford.edu (nlp.stanford.edu)|171.64.67.140|:80... connected.\n",
            "HTTP request sent, awaiting response... 302 Found\n",
            "Location: https://nlp.stanford.edu/data/glove.6B.zip [following]\n",
            "--2019-03-28 06:36:12--  https://nlp.stanford.edu/data/glove.6B.zip\n",
            "Connecting to nlp.stanford.edu (nlp.stanford.edu)|171.64.67.140|:443... connected.\n",
            "HTTP request sent, awaiting response... 200 OK\n",
            "Length: 862182613 (822M) [application/zip]\n",
            "Saving to: ‘glove.6B.zip’\n",
            "\n",
            "glove.6B.zip        100%[===================>] 822.24M  5.57MB/s    in 4m 6s   \n",
            "\n",
            "2019-03-28 06:40:19 (3.34 MB/s) - ‘glove.6B.zip’ saved [862182613/862182613]\n",
            "\n",
            "Archive:  glove.6B.zip\n",
            "  inflating: glove.6B.50d.txt        \n",
            "  inflating: glove.6B.100d.txt       \n",
            "  inflating: glove.6B.200d.txt       \n",
            "  inflating: glove.6B.300d.txt       \n"
          ],
          "name": "stdout"
        }
      ]
    },
    {
      "metadata": {
        "id": "80HW6CVdAZ_B",
        "colab_type": "code",
        "colab": {
          "base_uri": "https://localhost:8080/",
          "height": 67
        },
        "outputId": "b0e3c8ad-07ea-44c6-8cff-de43c3192976"
      },
      "cell_type": "code",
      "source": [
        "vocab_size = 5000\n",
        "embedding_size = 50\n",
        "word_index = imdb.get_word_index()\n",
        "\n",
        "def load_glove_embeddings(path):\n",
        "    embeddings = {}\n",
        "    with open(path, 'r', encoding='utf-8') as f:\n",
        "        for line in f:\n",
        "            values = line.strip().split()\n",
        "            w = values[0]\n",
        "            vectors = np.asarray(values[1:], dtype='float32')\n",
        "            embeddings[w] = vectors\n",
        "\n",
        "    embedding_matrix = np.random.uniform(-1, 1, size=(vocab_size, embedding_size))\n",
        "    num_loaded = 0\n",
        "    for w, i in word_index.items():\n",
        "        v = embeddings.get(w)\n",
        "        if v is not None and i < vocab_size:\n",
        "            embedding_matrix[i] = v\n",
        "            num_loaded += 1\n",
        "    print('Successfully loaded pretrained embeddings for '\n",
        "          f'{num_loaded}/{vocab_size} words.')\n",
        "    embedding_matrix = embedding_matrix.astype(np.float32)\n",
        "    return embedding_matrix\n",
        "\n",
        "embedding_matrix = load_glove_embeddings('glove.6B.50d.txt')"
      ],
      "execution_count": 4,
      "outputs": [
        {
          "output_type": "stream",
          "text": [
            "Downloading data from https://storage.googleapis.com/tensorflow/tf-keras-datasets/imdb_word_index.json\n",
            "1646592/1641221 [==============================] - 0s 0us/step\n",
            "Successfully loaded pretrained embeddings for 4920/5000 words.\n"
          ],
          "name": "stdout"
        }
      ]
    },
    {
      "metadata": {
        "id": "6dpX6vAhBLs1",
        "colab_type": "code",
        "colab": {
          "base_uri": "https://localhost:8080/",
          "height": 302
        },
        "outputId": "8f56581e-5b0e-46a8-ea9a-91abafb8e19e"
      },
      "cell_type": "code",
      "source": [
        "max_words = 5000\n",
        "embedding_dims = 50\n",
        "maxlen = 1000\n",
        "\n",
        "model = Sequential()\n",
        "model.add(Embedding(max_words,\n",
        "                    embedding_dims,\n",
        "                    weights = [embedding_matrix],\n",
        "                    trainable = False,\n",
        "                    input_length=maxlen))\n",
        "model.add(Dropout(0.2))\n",
        "model.add(Flatten())\n",
        "model.add(Dense(32, activation='relu'))\n",
        "model.add(Dense(1, activation='sigmoid'))\n",
        "\n",
        "model.compile(optimizer='rmsprop',\n",
        "              loss='binary_crossentropy',\n",
        "              metrics=['acc'])\n",
        "\n",
        "model.summary()"
      ],
      "execution_count": 12,
      "outputs": [
        {
          "output_type": "stream",
          "text": [
            "_________________________________________________________________\n",
            "Layer (type)                 Output Shape              Param #   \n",
            "=================================================================\n",
            "embedding_5 (Embedding)      (None, 1000, 50)          250000    \n",
            "_________________________________________________________________\n",
            "dropout_4 (Dropout)          (None, 1000, 50)          0         \n",
            "_________________________________________________________________\n",
            "flatten_4 (Flatten)          (None, 50000)             0         \n",
            "_________________________________________________________________\n",
            "dense_7 (Dense)              (None, 32)                1600032   \n",
            "_________________________________________________________________\n",
            "dense_8 (Dense)              (None, 1)                 33        \n",
            "=================================================================\n",
            "Total params: 1,850,065\n",
            "Trainable params: 1,600,065\n",
            "Non-trainable params: 250,000\n",
            "_________________________________________________________________\n"
          ],
          "name": "stdout"
        }
      ]
    },
    {
      "metadata": {
        "id": "Ntj84EkbDboY",
        "colab_type": "code",
        "colab": {
          "base_uri": "https://localhost:8080/",
          "height": 634
        },
        "outputId": "8e776327-42da-4bb6-ba16-39d96a73668f"
      },
      "cell_type": "code",
      "source": [
        "SVG(model_to_dot(model, show_shapes=True).create(prog='dot', format='svg'))"
      ],
      "execution_count": 13,
      "outputs": [
        {
          "output_type": "execute_result",
          "data": {
            "text/plain": [
              "<IPython.core.display.SVG object>"
            ],
            "image/svg+xml": "<svg height=\"460pt\" viewBox=\"0.00 0.00 354.00 460.00\" width=\"354pt\" xmlns=\"http://www.w3.org/2000/svg\" xmlns:xlink=\"http://www.w3.org/1999/xlink\">\n<g class=\"graph\" id=\"graph0\" transform=\"scale(1 1) rotate(0) translate(4 456)\">\n<title>G</title>\n<polygon fill=\"#ffffff\" points=\"-4,4 -4,-456 350,-456 350,4 -4,4\" stroke=\"transparent\"/>\n<!-- 139711074974912 -->\n<g class=\"node\" id=\"node1\">\n<title>139711074974912</title>\n<polygon fill=\"none\" points=\"0,-332.5 0,-378.5 346,-378.5 346,-332.5 0,-332.5\" stroke=\"#000000\"/>\n<text fill=\"#000000\" font-family=\"Times,serif\" font-size=\"14.00\" text-anchor=\"middle\" x=\"85.5\" y=\"-351.8\">embedding_5: Embedding</text>\n<polyline fill=\"none\" points=\"171,-332.5 171,-378.5 \" stroke=\"#000000\"/>\n<text fill=\"#000000\" font-family=\"Times,serif\" font-size=\"14.00\" text-anchor=\"middle\" x=\"200\" y=\"-363.3\">input:</text>\n<polyline fill=\"none\" points=\"171,-355.5 229,-355.5 \" stroke=\"#000000\"/>\n<text fill=\"#000000\" font-family=\"Times,serif\" font-size=\"14.00\" text-anchor=\"middle\" x=\"200\" y=\"-340.3\">output:</text>\n<polyline fill=\"none\" points=\"229,-332.5 229,-378.5 \" stroke=\"#000000\"/>\n<text fill=\"#000000\" font-family=\"Times,serif\" font-size=\"14.00\" text-anchor=\"middle\" x=\"287.5\" y=\"-363.3\">(None, 1000)</text>\n<polyline fill=\"none\" points=\"229,-355.5 346,-355.5 \" stroke=\"#000000\"/>\n<text fill=\"#000000\" font-family=\"Times,serif\" font-size=\"14.00\" text-anchor=\"middle\" x=\"287.5\" y=\"-340.3\">(None, 1000, 50)</text>\n</g>\n<!-- 139711075491288 -->\n<g class=\"node\" id=\"node2\">\n<title>139711075491288</title>\n<polygon fill=\"none\" points=\"18.5,-249.5 18.5,-295.5 327.5,-295.5 327.5,-249.5 18.5,-249.5\" stroke=\"#000000\"/>\n<text fill=\"#000000\" font-family=\"Times,serif\" font-size=\"14.00\" text-anchor=\"middle\" x=\"85.5\" y=\"-268.8\">dropout_4: Dropout</text>\n<polyline fill=\"none\" points=\"152.5,-249.5 152.5,-295.5 \" stroke=\"#000000\"/>\n<text fill=\"#000000\" font-family=\"Times,serif\" font-size=\"14.00\" text-anchor=\"middle\" x=\"181.5\" y=\"-280.3\">input:</text>\n<polyline fill=\"none\" points=\"152.5,-272.5 210.5,-272.5 \" stroke=\"#000000\"/>\n<text fill=\"#000000\" font-family=\"Times,serif\" font-size=\"14.00\" text-anchor=\"middle\" x=\"181.5\" y=\"-257.3\">output:</text>\n<polyline fill=\"none\" points=\"210.5,-249.5 210.5,-295.5 \" stroke=\"#000000\"/>\n<text fill=\"#000000\" font-family=\"Times,serif\" font-size=\"14.00\" text-anchor=\"middle\" x=\"269\" y=\"-280.3\">(None, 1000, 50)</text>\n<polyline fill=\"none\" points=\"210.5,-272.5 327.5,-272.5 \" stroke=\"#000000\"/>\n<text fill=\"#000000\" font-family=\"Times,serif\" font-size=\"14.00\" text-anchor=\"middle\" x=\"269\" y=\"-257.3\">(None, 1000, 50)</text>\n</g>\n<!-- 139711074974912&#45;&gt;139711075491288 -->\n<g class=\"edge\" id=\"edge2\">\n<title>139711074974912-&gt;139711075491288</title>\n<path d=\"M173,-332.3799C173,-324.1745 173,-314.7679 173,-305.8786\" fill=\"none\" stroke=\"#000000\"/>\n<polygon fill=\"#000000\" points=\"176.5001,-305.784 173,-295.784 169.5001,-305.784 176.5001,-305.784\" stroke=\"#000000\"/>\n</g>\n<!-- 139711075490784 -->\n<g class=\"node\" id=\"node3\">\n<title>139711075490784</title>\n<polygon fill=\"none\" points=\"29,-166.5 29,-212.5 317,-212.5 317,-166.5 29,-166.5\" stroke=\"#000000\"/>\n<text fill=\"#000000\" font-family=\"Times,serif\" font-size=\"14.00\" text-anchor=\"middle\" x=\"85.5\" y=\"-185.8\">flatten_4: Flatten</text>\n<polyline fill=\"none\" points=\"142,-166.5 142,-212.5 \" stroke=\"#000000\"/>\n<text fill=\"#000000\" font-family=\"Times,serif\" font-size=\"14.00\" text-anchor=\"middle\" x=\"171\" y=\"-197.3\">input:</text>\n<polyline fill=\"none\" points=\"142,-189.5 200,-189.5 \" stroke=\"#000000\"/>\n<text fill=\"#000000\" font-family=\"Times,serif\" font-size=\"14.00\" text-anchor=\"middle\" x=\"171\" y=\"-174.3\">output:</text>\n<polyline fill=\"none\" points=\"200,-166.5 200,-212.5 \" stroke=\"#000000\"/>\n<text fill=\"#000000\" font-family=\"Times,serif\" font-size=\"14.00\" text-anchor=\"middle\" x=\"258.5\" y=\"-197.3\">(None, 1000, 50)</text>\n<polyline fill=\"none\" points=\"200,-189.5 317,-189.5 \" stroke=\"#000000\"/>\n<text fill=\"#000000\" font-family=\"Times,serif\" font-size=\"14.00\" text-anchor=\"middle\" x=\"258.5\" y=\"-174.3\">(None, 50000)</text>\n</g>\n<!-- 139711075491288&#45;&gt;139711075490784 -->\n<g class=\"edge\" id=\"edge3\">\n<title>139711075491288-&gt;139711075490784</title>\n<path d=\"M173,-249.3799C173,-241.1745 173,-231.7679 173,-222.8786\" fill=\"none\" stroke=\"#000000\"/>\n<polygon fill=\"#000000\" points=\"176.5001,-222.784 173,-212.784 169.5001,-222.784 176.5001,-222.784\" stroke=\"#000000\"/>\n</g>\n<!-- 139711075490056 -->\n<g class=\"node\" id=\"node4\">\n<title>139711075490056</title>\n<polygon fill=\"none\" points=\"39.5,-83.5 39.5,-129.5 306.5,-129.5 306.5,-83.5 39.5,-83.5\" stroke=\"#000000\"/>\n<text fill=\"#000000\" font-family=\"Times,serif\" font-size=\"14.00\" text-anchor=\"middle\" x=\"93\" y=\"-102.8\">dense_7: Dense</text>\n<polyline fill=\"none\" points=\"146.5,-83.5 146.5,-129.5 \" stroke=\"#000000\"/>\n<text fill=\"#000000\" font-family=\"Times,serif\" font-size=\"14.00\" text-anchor=\"middle\" x=\"175.5\" y=\"-114.3\">input:</text>\n<polyline fill=\"none\" points=\"146.5,-106.5 204.5,-106.5 \" stroke=\"#000000\"/>\n<text fill=\"#000000\" font-family=\"Times,serif\" font-size=\"14.00\" text-anchor=\"middle\" x=\"175.5\" y=\"-91.3\">output:</text>\n<polyline fill=\"none\" points=\"204.5,-83.5 204.5,-129.5 \" stroke=\"#000000\"/>\n<text fill=\"#000000\" font-family=\"Times,serif\" font-size=\"14.00\" text-anchor=\"middle\" x=\"255.5\" y=\"-114.3\">(None, 50000)</text>\n<polyline fill=\"none\" points=\"204.5,-106.5 306.5,-106.5 \" stroke=\"#000000\"/>\n<text fill=\"#000000\" font-family=\"Times,serif\" font-size=\"14.00\" text-anchor=\"middle\" x=\"255.5\" y=\"-91.3\">(None, 32)</text>\n</g>\n<!-- 139711075490784&#45;&gt;139711075490056 -->\n<g class=\"edge\" id=\"edge4\">\n<title>139711075490784-&gt;139711075490056</title>\n<path d=\"M173,-166.3799C173,-158.1745 173,-148.7679 173,-139.8786\" fill=\"none\" stroke=\"#000000\"/>\n<polygon fill=\"#000000\" points=\"176.5001,-139.784 173,-129.784 169.5001,-139.784 176.5001,-139.784\" stroke=\"#000000\"/>\n</g>\n<!-- 139711075488096 -->\n<g class=\"node\" id=\"node5\">\n<title>139711075488096</title>\n<polygon fill=\"none\" points=\"50.5,-.5 50.5,-46.5 295.5,-46.5 295.5,-.5 50.5,-.5\" stroke=\"#000000\"/>\n<text fill=\"#000000\" font-family=\"Times,serif\" font-size=\"14.00\" text-anchor=\"middle\" x=\"104\" y=\"-19.8\">dense_8: Dense</text>\n<polyline fill=\"none\" points=\"157.5,-.5 157.5,-46.5 \" stroke=\"#000000\"/>\n<text fill=\"#000000\" font-family=\"Times,serif\" font-size=\"14.00\" text-anchor=\"middle\" x=\"186.5\" y=\"-31.3\">input:</text>\n<polyline fill=\"none\" points=\"157.5,-23.5 215.5,-23.5 \" stroke=\"#000000\"/>\n<text fill=\"#000000\" font-family=\"Times,serif\" font-size=\"14.00\" text-anchor=\"middle\" x=\"186.5\" y=\"-8.3\">output:</text>\n<polyline fill=\"none\" points=\"215.5,-.5 215.5,-46.5 \" stroke=\"#000000\"/>\n<text fill=\"#000000\" font-family=\"Times,serif\" font-size=\"14.00\" text-anchor=\"middle\" x=\"255.5\" y=\"-31.3\">(None, 32)</text>\n<polyline fill=\"none\" points=\"215.5,-23.5 295.5,-23.5 \" stroke=\"#000000\"/>\n<text fill=\"#000000\" font-family=\"Times,serif\" font-size=\"14.00\" text-anchor=\"middle\" x=\"255.5\" y=\"-8.3\">(None, 1)</text>\n</g>\n<!-- 139711075490056&#45;&gt;139711075488096 -->\n<g class=\"edge\" id=\"edge5\">\n<title>139711075490056-&gt;139711075488096</title>\n<path d=\"M173,-83.3799C173,-75.1745 173,-65.7679 173,-56.8786\" fill=\"none\" stroke=\"#000000\"/>\n<polygon fill=\"#000000\" points=\"176.5001,-56.784 173,-46.784 169.5001,-56.784 176.5001,-56.784\" stroke=\"#000000\"/>\n</g>\n<!-- 139711074974968 -->\n<g class=\"node\" id=\"node6\">\n<title>139711074974968</title>\n<polygon fill=\"none\" points=\"109,-415.5 109,-451.5 237,-451.5 237,-415.5 109,-415.5\" stroke=\"#000000\"/>\n<text fill=\"#000000\" font-family=\"Times,serif\" font-size=\"14.00\" text-anchor=\"middle\" x=\"173\" y=\"-429.8\">139711074974968</text>\n</g>\n<!-- 139711074974968&#45;&gt;139711074974912 -->\n<g class=\"edge\" id=\"edge1\">\n<title>139711074974968-&gt;139711074974912</title>\n<path d=\"M173,-415.4092C173,-407.4308 173,-397.795 173,-388.606\" fill=\"none\" stroke=\"#000000\"/>\n<polygon fill=\"#000000\" points=\"176.5001,-388.5333 173,-378.5333 169.5001,-388.5334 176.5001,-388.5333\" stroke=\"#000000\"/>\n</g>\n</g>\n</svg>"
          },
          "metadata": {
            "tags": []
          },
          "execution_count": 13
        }
      ]
    },
    {
      "metadata": {
        "id": "M8RxXRTJDnv0",
        "colab_type": "text"
      },
      "cell_type": "markdown",
      "source": [
        "### Train the Model"
      ]
    },
    {
      "metadata": {
        "id": "oKlrby5vDgVb",
        "colab_type": "code",
        "colab": {
          "base_uri": "https://localhost:8080/",
          "height": 235
        },
        "outputId": "32f799ee-504f-45fc-a857-2e0566e32f44"
      },
      "cell_type": "code",
      "source": [
        "%%time\n",
        "epochs = 5\n",
        "validation_split = 0.2\n",
        "\n",
        "history = model.fit(x_train, y_train, batch_size=128,\n",
        "          epochs=epochs, \n",
        "          validation_split=validation_split)"
      ],
      "execution_count": 15,
      "outputs": [
        {
          "output_type": "stream",
          "text": [
            "Train on 20000 samples, validate on 5000 samples\n",
            "Epoch 1/5\n",
            "20000/20000 [==============================] - 2s 85us/step - loss: 8.0840 - acc: 0.4985 - val_loss: 7.9591 - val_acc: 0.5062\n",
            "Epoch 2/5\n",
            "20000/20000 [==============================] - 2s 79us/step - loss: 8.0840 - acc: 0.4985 - val_loss: 7.9591 - val_acc: 0.5062\n",
            "Epoch 3/5\n",
            "20000/20000 [==============================] - 2s 79us/step - loss: 8.0840 - acc: 0.4985 - val_loss: 7.9591 - val_acc: 0.5062\n",
            "Epoch 4/5\n",
            "20000/20000 [==============================] - 2s 80us/step - loss: 8.0840 - acc: 0.4985 - val_loss: 7.9591 - val_acc: 0.5062\n",
            "Epoch 5/5\n",
            "20000/20000 [==============================] - 2s 79us/step - loss: 8.0840 - acc: 0.4985 - val_loss: 7.9591 - val_acc: 0.5062\n",
            "CPU times: user 6.28 s, sys: 1.33 s, total: 7.61 s\n",
            "Wall time: 8.04 s\n"
          ],
          "name": "stdout"
        }
      ]
    },
    {
      "metadata": {
        "id": "_DV0KFoVEahS",
        "colab_type": "code",
        "colab": {
          "base_uri": "https://localhost:8080/",
          "height": 34
        },
        "outputId": "464069e4-dd0b-49bc-a329-9a8b5a923180"
      },
      "cell_type": "code",
      "source": [
        "score, acc = model.evaluate(x_test, y_test, verbose=0)\n",
        "print(\"Accuracy: %.2f%%\" % (acc*100))"
      ],
      "execution_count": 17,
      "outputs": [
        {
          "output_type": "stream",
          "text": [
            "Accuracy: 50.00%\n"
          ],
          "name": "stdout"
        }
      ]
    },
    {
      "metadata": {
        "id": "O7aVskGjEGEb",
        "colab_type": "code",
        "colab": {
          "base_uri": "https://localhost:8080/",
          "height": 628
        },
        "outputId": "8d30b544-86d8-43a3-80ba-d904c2e4f7e8"
      },
      "cell_type": "code",
      "source": [
        "import pandas as pd\n",
        "import seaborn as sns\n",
        "\n",
        "from sklearn.metrics import classification_report,confusion_matrix\n",
        "y_pred = model.predict_classes(np.array(x_test))\n",
        "\n",
        "from sklearn import metrics\n",
        "print(metrics.accuracy_score(y_test, y_pred))\n",
        "target_names = ['pos', 'neg']\n",
        "cnf_matrix_test = confusion_matrix(y_test, y_pred)\n",
        "\n",
        "print(classification_report(y_test, y_pred, target_names=target_names))\n",
        "print(cnf_matrix_test)\n",
        "\n",
        "df_cm = pd.DataFrame(cnf_matrix_test, range(2), range(2))\n",
        "\n",
        "sns.set(font_scale=1.4)\n",
        "sns.heatmap(df_cm, annot=True, fmt='d')\n"
      ],
      "execution_count": 18,
      "outputs": [
        {
          "output_type": "stream",
          "text": [
            "0.5\n",
            "              precision    recall  f1-score   support\n",
            "\n",
            "         pos       0.50      1.00      0.67     12500\n",
            "         neg       0.00      0.00      0.00     12500\n",
            "\n",
            "   micro avg       0.50      0.50      0.50     25000\n",
            "   macro avg       0.25      0.50      0.33     25000\n",
            "weighted avg       0.25      0.50      0.33     25000\n",
            "\n",
            "[[12500     0]\n",
            " [12500     0]]\n"
          ],
          "name": "stdout"
        },
        {
          "output_type": "stream",
          "text": [
            "/usr/local/lib/python3.6/dist-packages/sklearn/metrics/classification.py:1143: UndefinedMetricWarning: Precision and F-score are ill-defined and being set to 0.0 in labels with no predicted samples.\n",
            "  'precision', 'predicted', average, warn_for)\n"
          ],
          "name": "stderr"
        },
        {
          "output_type": "execute_result",
          "data": {
            "text/plain": [
              "<matplotlib.axes._subplots.AxesSubplot at 0x7f110209f0f0>"
            ]
          },
          "metadata": {
            "tags": []
          },
          "execution_count": 18
        },
        {
          "output_type": "display_data",
          "data": {
            "image/png": "[encoded data removed]",
            "text/plain": [
              "<Figure size 576x396 with 2 Axes>"
            ]
          },
          "metadata": {
            "tags": []
          }
        }
      ]
    },
    {
      "metadata": {
        "id": "KP0YCLi0GJMm",
        "colab_type": "text"
      },
      "cell_type": "markdown",
      "source": [
        "### CNN With GloVe"
      ]
    },
    {
      "metadata": {
        "id": "AbqmxE3oEz97",
        "colab_type": "code",
        "colab": {
          "base_uri": "https://localhost:8080/",
          "height": 403
        },
        "outputId": "23624d4f-efd5-4db2-f1fc-548ab3b26820"
      },
      "cell_type": "code",
      "source": [
        "num_filters = 64 \n",
        "max_words = 5000\n",
        "embedding_dims = 50\n",
        "maxlen = 1000\n",
        "weight_decay = 1e-4\n",
        "\n",
        "model = Sequential()\n",
        "model.add(Embedding(max_words,\n",
        "                    embedding_dims,\n",
        "                    weights = [embedding_matrix],\n",
        "                    input_length=maxlen))\n",
        "model.add(Conv1D(num_filters, 7, activation='relu', padding='same'))\n",
        "model.add(MaxPooling1D(2))\n",
        "model.add(Conv1D(num_filters, 7, activation='relu', padding='same'))\n",
        "model.add(GlobalMaxPooling1D())\n",
        "model.add(Dropout(0.5))\n",
        "model.add(Dense(32, activation='relu', kernel_regularizer=regularizers.l2(weight_decay)))\n",
        "model.add(Dense(1, activation='sigmoid'))  \n",
        "\n",
        "model.compile(loss='binary_crossentropy', optimizer=optimizers.Adam(lr=0.001), metrics=['accuracy'])\n",
        "model.summary()\n"
      ],
      "execution_count": 25,
      "outputs": [
        {
          "output_type": "stream",
          "text": [
            "_________________________________________________________________\n",
            "Layer (type)                 Output Shape              Param #   \n",
            "=================================================================\n",
            "embedding_9 (Embedding)      (None, 1000, 50)          250000    \n",
            "_________________________________________________________________\n",
            "conv1d_3 (Conv1D)            (None, 1000, 64)          22464     \n",
            "_________________________________________________________________\n",
            "max_pooling1d_2 (MaxPooling1 (None, 500, 64)           0         \n",
            "_________________________________________________________________\n",
            "conv1d_4 (Conv1D)            (None, 500, 64)           28736     \n",
            "_________________________________________________________________\n",
            "global_max_pooling1d_2 (Glob (None, 64)                0         \n",
            "_________________________________________________________________\n",
            "dropout_6 (Dropout)          (None, 64)                0         \n",
            "_________________________________________________________________\n",
            "dense_11 (Dense)             (None, 32)                2080      \n",
            "_________________________________________________________________\n",
            "dense_12 (Dense)             (None, 1)                 33        \n",
            "=================================================================\n",
            "Total params: 303,313\n",
            "Trainable params: 303,313\n",
            "Non-trainable params: 0\n",
            "_________________________________________________________________\n"
          ],
          "name": "stdout"
        }
      ]
    },
    {
      "metadata": {
        "id": "6WT1Gj2QF1nr",
        "colab_type": "code",
        "colab": {
          "base_uri": "https://localhost:8080/",
          "height": 966
        },
        "outputId": "c0a89780-c17d-4636-ab64-eb00e794eace"
      },
      "cell_type": "code",
      "source": [
        "SVG(model_to_dot(model, show_shapes=True).create(prog='dot', format='svg'))"
      ],
      "execution_count": 23,
      "outputs": [
        {
          "output_type": "execute_result",
          "data": {
            "text/plain": [
              "<IPython.core.display.SVG object>"
            ],
            "image/svg+xml": "<svg height=\"709pt\" viewBox=\"0.00 0.00 480.00 709.00\" width=\"480pt\" xmlns=\"http://www.w3.org/2000/svg\" xmlns:xlink=\"http://www.w3.org/1999/xlink\">\n<g class=\"graph\" id=\"graph0\" transform=\"scale(1 1) rotate(0) translate(4 705)\">\n<title>G</title>\n<polygon fill=\"#ffffff\" points=\"-4,4 -4,-705 476,-705 476,4 -4,4\" stroke=\"transparent\"/>\n<!-- 139711029213952 -->\n<g class=\"node\" id=\"node1\">\n<title>139711029213952</title>\n<polygon fill=\"none\" points=\"63,-581.5 63,-627.5 409,-627.5 409,-581.5 63,-581.5\" stroke=\"#000000\"/>\n<text fill=\"#000000\" font-family=\"Times,serif\" font-size=\"14.00\" text-anchor=\"middle\" x=\"148.5\" y=\"-600.8\">embedding_8: Embedding</text>\n<polyline fill=\"none\" points=\"234,-581.5 234,-627.5 \" stroke=\"#000000\"/>\n<text fill=\"#000000\" font-family=\"Times,serif\" font-size=\"14.00\" text-anchor=\"middle\" x=\"263\" y=\"-612.3\">input:</text>\n<polyline fill=\"none\" points=\"234,-604.5 292,-604.5 \" stroke=\"#000000\"/>\n<text fill=\"#000000\" font-family=\"Times,serif\" font-size=\"14.00\" text-anchor=\"middle\" x=\"263\" y=\"-589.3\">output:</text>\n<polyline fill=\"none\" points=\"292,-581.5 292,-627.5 \" stroke=\"#000000\"/>\n<text fill=\"#000000\" font-family=\"Times,serif\" font-size=\"14.00\" text-anchor=\"middle\" x=\"350.5\" y=\"-612.3\">(None, 1000)</text>\n<polyline fill=\"none\" points=\"292,-604.5 409,-604.5 \" stroke=\"#000000\"/>\n<text fill=\"#000000\" font-family=\"Times,serif\" font-size=\"14.00\" text-anchor=\"middle\" x=\"350.5\" y=\"-589.3\">(None, 1000, 50)</text>\n</g>\n<!-- 139711029214008 -->\n<g class=\"node\" id=\"node2\">\n<title>139711029214008</title>\n<polygon fill=\"none\" points=\"82,-498.5 82,-544.5 390,-544.5 390,-498.5 82,-498.5\" stroke=\"#000000\"/>\n<text fill=\"#000000\" font-family=\"Times,serif\" font-size=\"14.00\" text-anchor=\"middle\" x=\"148.5\" y=\"-517.8\">conv1d_1: Conv1D</text>\n<polyline fill=\"none\" points=\"215,-498.5 215,-544.5 \" stroke=\"#000000\"/>\n<text fill=\"#000000\" font-family=\"Times,serif\" font-size=\"14.00\" text-anchor=\"middle\" x=\"244\" y=\"-529.3\">input:</text>\n<polyline fill=\"none\" points=\"215,-521.5 273,-521.5 \" stroke=\"#000000\"/>\n<text fill=\"#000000\" font-family=\"Times,serif\" font-size=\"14.00\" text-anchor=\"middle\" x=\"244\" y=\"-506.3\">output:</text>\n<polyline fill=\"none\" points=\"273,-498.5 273,-544.5 \" stroke=\"#000000\"/>\n<text fill=\"#000000\" font-family=\"Times,serif\" font-size=\"14.00\" text-anchor=\"middle\" x=\"331.5\" y=\"-529.3\">(None, 1000, 50)</text>\n<polyline fill=\"none\" points=\"273,-521.5 390,-521.5 \" stroke=\"#000000\"/>\n<text fill=\"#000000\" font-family=\"Times,serif\" font-size=\"14.00\" text-anchor=\"middle\" x=\"331.5\" y=\"-506.3\">(None, 1000, 64)</text>\n</g>\n<!-- 139711029213952&#45;&gt;139711029214008 -->\n<g class=\"edge\" id=\"edge2\">\n<title>139711029213952-&gt;139711029214008</title>\n<path d=\"M236,-581.3799C236,-573.1745 236,-563.7679 236,-554.8786\" fill=\"none\" stroke=\"#000000\"/>\n<polygon fill=\"#000000\" points=\"239.5001,-554.784 236,-544.784 232.5001,-554.784 239.5001,-554.784\" stroke=\"#000000\"/>\n</g>\n<!-- 139711029214848 -->\n<g class=\"node\" id=\"node3\">\n<title>139711029214848</title>\n<polygon fill=\"none\" points=\"38,-415.5 38,-461.5 434,-461.5 434,-415.5 38,-415.5\" stroke=\"#000000\"/>\n<text fill=\"#000000\" font-family=\"Times,serif\" font-size=\"14.00\" text-anchor=\"middle\" x=\"148.5\" y=\"-434.8\">max_pooling1d_1: MaxPooling1D</text>\n<polyline fill=\"none\" points=\"259,-415.5 259,-461.5 \" stroke=\"#000000\"/>\n<text fill=\"#000000\" font-family=\"Times,serif\" font-size=\"14.00\" text-anchor=\"middle\" x=\"288\" y=\"-446.3\">input:</text>\n<polyline fill=\"none\" points=\"259,-438.5 317,-438.5 \" stroke=\"#000000\"/>\n<text fill=\"#000000\" font-family=\"Times,serif\" font-size=\"14.00\" text-anchor=\"middle\" x=\"288\" y=\"-423.3\">output:</text>\n<polyline fill=\"none\" points=\"317,-415.5 317,-461.5 \" stroke=\"#000000\"/>\n<text fill=\"#000000\" font-family=\"Times,serif\" font-size=\"14.00\" text-anchor=\"middle\" x=\"375.5\" y=\"-446.3\">(None, 1000, 64)</text>\n<polyline fill=\"none\" points=\"317,-438.5 434,-438.5 \" stroke=\"#000000\"/>\n<text fill=\"#000000\" font-family=\"Times,serif\" font-size=\"14.00\" text-anchor=\"middle\" x=\"375.5\" y=\"-423.3\">(None, 500, 64)</text>\n</g>\n<!-- 139711029214008&#45;&gt;139711029214848 -->\n<g class=\"edge\" id=\"edge3\">\n<title>139711029214008-&gt;139711029214848</title>\n<path d=\"M236,-498.3799C236,-490.1745 236,-480.7679 236,-471.8786\" fill=\"none\" stroke=\"#000000\"/>\n<polygon fill=\"#000000\" points=\"239.5001,-471.784 236,-461.784 232.5001,-471.784 239.5001,-471.784\" stroke=\"#000000\"/>\n</g>\n<!-- 139711024526168 -->\n<g class=\"node\" id=\"node4\">\n<title>139711024526168</title>\n<polygon fill=\"none\" points=\"85.5,-332.5 85.5,-378.5 386.5,-378.5 386.5,-332.5 85.5,-332.5\" stroke=\"#000000\"/>\n<text fill=\"#000000\" font-family=\"Times,serif\" font-size=\"14.00\" text-anchor=\"middle\" x=\"152\" y=\"-351.8\">conv1d_2: Conv1D</text>\n<polyline fill=\"none\" points=\"218.5,-332.5 218.5,-378.5 \" stroke=\"#000000\"/>\n<text fill=\"#000000\" font-family=\"Times,serif\" font-size=\"14.00\" text-anchor=\"middle\" x=\"247.5\" y=\"-363.3\">input:</text>\n<polyline fill=\"none\" points=\"218.5,-355.5 276.5,-355.5 \" stroke=\"#000000\"/>\n<text fill=\"#000000\" font-family=\"Times,serif\" font-size=\"14.00\" text-anchor=\"middle\" x=\"247.5\" y=\"-340.3\">output:</text>\n<polyline fill=\"none\" points=\"276.5,-332.5 276.5,-378.5 \" stroke=\"#000000\"/>\n<text fill=\"#000000\" font-family=\"Times,serif\" font-size=\"14.00\" text-anchor=\"middle\" x=\"331.5\" y=\"-363.3\">(None, 500, 64)</text>\n<polyline fill=\"none\" points=\"276.5,-355.5 386.5,-355.5 \" stroke=\"#000000\"/>\n<text fill=\"#000000\" font-family=\"Times,serif\" font-size=\"14.00\" text-anchor=\"middle\" x=\"331.5\" y=\"-340.3\">(None, 500, 64)</text>\n</g>\n<!-- 139711029214848&#45;&gt;139711024526168 -->\n<g class=\"edge\" id=\"edge4\">\n<title>139711029214848-&gt;139711024526168</title>\n<path d=\"M236,-415.3799C236,-407.1745 236,-397.7679 236,-388.8786\" fill=\"none\" stroke=\"#000000\"/>\n<polygon fill=\"#000000\" points=\"239.5001,-388.784 236,-378.784 232.5001,-388.784 239.5001,-388.784\" stroke=\"#000000\"/>\n</g>\n<!-- 139711029214288 -->\n<g class=\"node\" id=\"node5\">\n<title>139711029214288</title>\n<polygon fill=\"none\" points=\"0,-249.5 0,-295.5 472,-295.5 472,-249.5 0,-249.5\" stroke=\"#000000\"/>\n<text fill=\"#000000\" font-family=\"Times,serif\" font-size=\"14.00\" text-anchor=\"middle\" x=\"152\" y=\"-268.8\">global_max_pooling1d_1: GlobalMaxPooling1D</text>\n<polyline fill=\"none\" points=\"304,-249.5 304,-295.5 \" stroke=\"#000000\"/>\n<text fill=\"#000000\" font-family=\"Times,serif\" font-size=\"14.00\" text-anchor=\"middle\" x=\"333\" y=\"-280.3\">input:</text>\n<polyline fill=\"none\" points=\"304,-272.5 362,-272.5 \" stroke=\"#000000\"/>\n<text fill=\"#000000\" font-family=\"Times,serif\" font-size=\"14.00\" text-anchor=\"middle\" x=\"333\" y=\"-257.3\">output:</text>\n<polyline fill=\"none\" points=\"362,-249.5 362,-295.5 \" stroke=\"#000000\"/>\n<text fill=\"#000000\" font-family=\"Times,serif\" font-size=\"14.00\" text-anchor=\"middle\" x=\"417\" y=\"-280.3\">(None, 500, 64)</text>\n<polyline fill=\"none\" points=\"362,-272.5 472,-272.5 \" stroke=\"#000000\"/>\n<text fill=\"#000000\" font-family=\"Times,serif\" font-size=\"14.00\" text-anchor=\"middle\" x=\"417\" y=\"-257.3\">(None, 64)</text>\n</g>\n<!-- 139711024526168&#45;&gt;139711029214288 -->\n<g class=\"edge\" id=\"edge5\">\n<title>139711024526168-&gt;139711029214288</title>\n<path d=\"M236,-332.3799C236,-324.1745 236,-314.7679 236,-305.8786\" fill=\"none\" stroke=\"#000000\"/>\n<polygon fill=\"#000000\" points=\"239.5001,-305.784 236,-295.784 232.5001,-305.784 239.5001,-305.784\" stroke=\"#000000\"/>\n</g>\n<!-- 139711023822832 -->\n<g class=\"node\" id=\"node6\">\n<title>139711023822832</title>\n<polygon fill=\"none\" points=\"100,-166.5 100,-212.5 372,-212.5 372,-166.5 100,-166.5\" stroke=\"#000000\"/>\n<text fill=\"#000000\" font-family=\"Times,serif\" font-size=\"14.00\" text-anchor=\"middle\" x=\"167\" y=\"-185.8\">dropout_5: Dropout</text>\n<polyline fill=\"none\" points=\"234,-166.5 234,-212.5 \" stroke=\"#000000\"/>\n<text fill=\"#000000\" font-family=\"Times,serif\" font-size=\"14.00\" text-anchor=\"middle\" x=\"263\" y=\"-197.3\">input:</text>\n<polyline fill=\"none\" points=\"234,-189.5 292,-189.5 \" stroke=\"#000000\"/>\n<text fill=\"#000000\" font-family=\"Times,serif\" font-size=\"14.00\" text-anchor=\"middle\" x=\"263\" y=\"-174.3\">output:</text>\n<polyline fill=\"none\" points=\"292,-166.5 292,-212.5 \" stroke=\"#000000\"/>\n<text fill=\"#000000\" font-family=\"Times,serif\" font-size=\"14.00\" text-anchor=\"middle\" x=\"332\" y=\"-197.3\">(None, 64)</text>\n<polyline fill=\"none\" points=\"292,-189.5 372,-189.5 \" stroke=\"#000000\"/>\n<text fill=\"#000000\" font-family=\"Times,serif\" font-size=\"14.00\" text-anchor=\"middle\" x=\"332\" y=\"-174.3\">(None, 64)</text>\n</g>\n<!-- 139711029214288&#45;&gt;139711023822832 -->\n<g class=\"edge\" id=\"edge6\">\n<title>139711029214288-&gt;139711023822832</title>\n<path d=\"M236,-249.3799C236,-241.1745 236,-231.7679 236,-222.8786\" fill=\"none\" stroke=\"#000000\"/>\n<polygon fill=\"#000000\" points=\"239.5001,-222.784 236,-212.784 232.5001,-222.784 239.5001,-222.784\" stroke=\"#000000\"/>\n</g>\n<!-- 139711023822720 -->\n<g class=\"node\" id=\"node7\">\n<title>139711023822720</title>\n<polygon fill=\"none\" points=\"113.5,-83.5 113.5,-129.5 358.5,-129.5 358.5,-83.5 113.5,-83.5\" stroke=\"#000000\"/>\n<text fill=\"#000000\" font-family=\"Times,serif\" font-size=\"14.00\" text-anchor=\"middle\" x=\"167\" y=\"-102.8\">dense_9: Dense</text>\n<polyline fill=\"none\" points=\"220.5,-83.5 220.5,-129.5 \" stroke=\"#000000\"/>\n<text fill=\"#000000\" font-family=\"Times,serif\" font-size=\"14.00\" text-anchor=\"middle\" x=\"249.5\" y=\"-114.3\">input:</text>\n<polyline fill=\"none\" points=\"220.5,-106.5 278.5,-106.5 \" stroke=\"#000000\"/>\n<text fill=\"#000000\" font-family=\"Times,serif\" font-size=\"14.00\" text-anchor=\"middle\" x=\"249.5\" y=\"-91.3\">output:</text>\n<polyline fill=\"none\" points=\"278.5,-83.5 278.5,-129.5 \" stroke=\"#000000\"/>\n<text fill=\"#000000\" font-family=\"Times,serif\" font-size=\"14.00\" text-anchor=\"middle\" x=\"318.5\" y=\"-114.3\">(None, 64)</text>\n<polyline fill=\"none\" points=\"278.5,-106.5 358.5,-106.5 \" stroke=\"#000000\"/>\n<text fill=\"#000000\" font-family=\"Times,serif\" font-size=\"14.00\" text-anchor=\"middle\" x=\"318.5\" y=\"-91.3\">(None, 32)</text>\n</g>\n<!-- 139711023822832&#45;&gt;139711023822720 -->\n<g class=\"edge\" id=\"edge7\">\n<title>139711023822832-&gt;139711023822720</title>\n<path d=\"M236,-166.3799C236,-158.1745 236,-148.7679 236,-139.8786\" fill=\"none\" stroke=\"#000000\"/>\n<polygon fill=\"#000000\" points=\"239.5001,-139.784 236,-129.784 232.5001,-139.784 239.5001,-139.784\" stroke=\"#000000\"/>\n</g>\n<!-- 139711024236976 -->\n<g class=\"node\" id=\"node8\">\n<title>139711024236976</title>\n<polygon fill=\"none\" points=\"110,-.5 110,-46.5 362,-46.5 362,-.5 110,-.5\" stroke=\"#000000\"/>\n<text fill=\"#000000\" font-family=\"Times,serif\" font-size=\"14.00\" text-anchor=\"middle\" x=\"167\" y=\"-19.8\">dense_10: Dense</text>\n<polyline fill=\"none\" points=\"224,-.5 224,-46.5 \" stroke=\"#000000\"/>\n<text fill=\"#000000\" font-family=\"Times,serif\" font-size=\"14.00\" text-anchor=\"middle\" x=\"253\" y=\"-31.3\">input:</text>\n<polyline fill=\"none\" points=\"224,-23.5 282,-23.5 \" stroke=\"#000000\"/>\n<text fill=\"#000000\" font-family=\"Times,serif\" font-size=\"14.00\" text-anchor=\"middle\" x=\"253\" y=\"-8.3\">output:</text>\n<polyline fill=\"none\" points=\"282,-.5 282,-46.5 \" stroke=\"#000000\"/>\n<text fill=\"#000000\" font-family=\"Times,serif\" font-size=\"14.00\" text-anchor=\"middle\" x=\"322\" y=\"-31.3\">(None, 32)</text>\n<polyline fill=\"none\" points=\"282,-23.5 362,-23.5 \" stroke=\"#000000\"/>\n<text fill=\"#000000\" font-family=\"Times,serif\" font-size=\"14.00\" text-anchor=\"middle\" x=\"322\" y=\"-8.3\">(None, 1)</text>\n</g>\n<!-- 139711023822720&#45;&gt;139711024236976 -->\n<g class=\"edge\" id=\"edge8\">\n<title>139711023822720-&gt;139711024236976</title>\n<path d=\"M236,-83.3799C236,-75.1745 236,-65.7679 236,-56.8786\" fill=\"none\" stroke=\"#000000\"/>\n<polygon fill=\"#000000\" points=\"239.5001,-56.784 236,-46.784 232.5001,-56.784 239.5001,-56.784\" stroke=\"#000000\"/>\n</g>\n<!-- 139711029214120 -->\n<g class=\"node\" id=\"node9\">\n<title>139711029214120</title>\n<polygon fill=\"none\" points=\"172,-664.5 172,-700.5 300,-700.5 300,-664.5 172,-664.5\" stroke=\"#000000\"/>\n<text fill=\"#000000\" font-family=\"Times,serif\" font-size=\"14.00\" text-anchor=\"middle\" x=\"236\" y=\"-678.8\">139711029214120</text>\n</g>\n<!-- 139711029214120&#45;&gt;139711029213952 -->\n<g class=\"edge\" id=\"edge1\">\n<title>139711029214120-&gt;139711029213952</title>\n<path d=\"M236,-664.4092C236,-656.4308 236,-646.795 236,-637.606\" fill=\"none\" stroke=\"#000000\"/>\n<polygon fill=\"#000000\" points=\"239.5001,-637.5333 236,-627.5333 232.5001,-637.5334 239.5001,-637.5333\" stroke=\"#000000\"/>\n</g>\n</g>\n</svg>"
          },
          "metadata": {
            "tags": []
          },
          "execution_count": 23
        }
      ]
    },
    {
      "metadata": {
        "id": "hMrA6PPdGEci",
        "colab_type": "code",
        "colab": {
          "base_uri": "https://localhost:8080/",
          "height": 403
        },
        "outputId": "f64def44-3659-4172-e7c8-019709b86940"
      },
      "cell_type": "code",
      "source": [
        "%%time\n",
        "epochs = 10\n",
        "validation_split = 0.2\n",
        "\n",
        "history = model.fit(x_train, y_train, batch_size=128,\n",
        "          epochs=epochs, \n",
        "          validation_split=validation_split)"
      ],
      "execution_count": 26,
      "outputs": [
        {
          "output_type": "stream",
          "text": [
            "Train on 20000 samples, validate on 5000 samples\n",
            "Epoch 1/10\n",
            "20000/20000 [==============================] - 7s 359us/step - loss: 0.7166 - acc: 0.4982 - val_loss: 0.6957 - val_acc: 0.5308\n",
            "Epoch 2/10\n",
            "20000/20000 [==============================] - 6s 316us/step - loss: 0.6961 - acc: 0.5151 - val_loss: 0.6951 - val_acc: 0.4996\n",
            "Epoch 3/10\n",
            "20000/20000 [==============================] - 6s 315us/step - loss: 0.6827 - acc: 0.5652 - val_loss: 0.6536 - val_acc: 0.6336\n",
            "Epoch 4/10\n",
            "20000/20000 [==============================] - 6s 320us/step - loss: 0.5479 - acc: 0.7248 - val_loss: 0.4250 - val_acc: 0.8112\n",
            "Epoch 5/10\n",
            "20000/20000 [==============================] - 6s 321us/step - loss: 0.3897 - acc: 0.8320 - val_loss: 0.3649 - val_acc: 0.8456\n",
            "Epoch 6/10\n",
            "20000/20000 [==============================] - 6s 321us/step - loss: 0.3104 - acc: 0.8746 - val_loss: 0.3369 - val_acc: 0.8572\n",
            "Epoch 7/10\n",
            "20000/20000 [==============================] - 6s 321us/step - loss: 0.2545 - acc: 0.9009 - val_loss: 0.3387 - val_acc: 0.8614\n",
            "Epoch 8/10\n",
            "20000/20000 [==============================] - 6s 322us/step - loss: 0.2147 - acc: 0.9197 - val_loss: 0.3600 - val_acc: 0.8602\n",
            "Epoch 9/10\n",
            "20000/20000 [==============================] - 6s 323us/step - loss: 0.1825 - acc: 0.9347 - val_loss: 0.4123 - val_acc: 0.8548\n",
            "Epoch 10/10\n",
            "20000/20000 [==============================] - 6s 322us/step - loss: 0.1624 - acc: 0.9408 - val_loss: 0.3821 - val_acc: 0.8662\n",
            "CPU times: user 44.2 s, sys: 17.7 s, total: 1min 1s\n",
            "Wall time: 1min 5s\n"
          ],
          "name": "stdout"
        }
      ]
    },
    {
      "metadata": {
        "id": "LaDmCliXGWWa",
        "colab_type": "code",
        "colab": {
          "base_uri": "https://localhost:8080/",
          "height": 434
        },
        "outputId": "63dd6cda-a9f2-466d-bd1c-cb2c6781a6ac"
      },
      "cell_type": "code",
      "source": [
        "plt.figure(figsize=(5,3))\n",
        "plt.plot(history.epoch,history.history['loss'], label='training')\n",
        "plt.plot(history.epoch,history.history['val_loss'], label='validation')\n",
        "plt.title('loss')\n",
        "plt.legend(loc='best')\n",
        "\n",
        "plt.figure(figsize=(5,3))\n",
        "plt.plot(history.epoch,history.history['acc'], label='training')\n",
        "plt.plot(history.epoch,history.history['val_acc'], label='validation')\n",
        "plt.title('accuracy')\n",
        "plt.legend(loc='best');"
      ],
      "execution_count": 27,
      "outputs": [
        {
          "output_type": "display_data",
          "data": {
            "image/png": "[encoded data removed]",
            "text/plain": [
              "<Figure size 360x216 with 1 Axes>"
            ]
          },
          "metadata": {
            "tags": []
          }
        },
        {
          "output_type": "display_data",
          "data": {
            "image/png": "[encoded data removed]",
            "text/plain": [
              "<Figure size 360x216 with 1 Axes>"
            ]
          },
          "metadata": {
            "tags": []
          }
        }
      ]
    },
    {
      "metadata": {
        "id": "dDBkhociGZw2",
        "colab_type": "code",
        "colab": {
          "base_uri": "https://localhost:8080/",
          "height": 50
        },
        "outputId": "d8f86581-2765-49e7-825e-27388c33ef2a"
      },
      "cell_type": "code",
      "source": [
        "score, acc = model.evaluate(x_test, y_test, verbose=0)\n",
        "print(\"Accuracy: %.2f%%\" % (acc*100))\n",
        "print(\"Test score: %.2f%%\" % (score*100))"
      ],
      "execution_count": 28,
      "outputs": [
        {
          "output_type": "stream",
          "text": [
            "Accuracy: 86.25%\n",
            "Test score: 37.34%\n"
          ],
          "name": "stdout"
        }
      ]
    },
    {
      "metadata": {
        "id": "3rERBzlKGcPR",
        "colab_type": "code",
        "colab": {
          "base_uri": "https://localhost:8080/",
          "height": 570
        },
        "outputId": "f838b77d-f65c-4cca-d1cb-7a86cf65b76f"
      },
      "cell_type": "code",
      "source": [
        "import pandas as pd\n",
        "import seaborn as sns\n",
        "\n",
        "from sklearn.metrics import classification_report,confusion_matrix\n",
        "y_pred = model.predict_classes(np.array(x_test))\n",
        "\n",
        "from sklearn import metrics\n",
        "print(metrics.accuracy_score(y_test, y_pred))\n",
        "target_names = ['pos', 'neg']\n",
        "cnf_matrix_test = confusion_matrix(y_test, y_pred)\n",
        "\n",
        "print(classification_report(y_test, y_pred, target_names=target_names))\n",
        "print(cnf_matrix_test)\n",
        "\n",
        "df_cm = pd.DataFrame(cnf_matrix_test, range(2), range(2))\n",
        "\n",
        "sns.set(font_scale=1.4)\n",
        "sns.heatmap(df_cm, annot=True, fmt='d')"
      ],
      "execution_count": 29,
      "outputs": [
        {
          "output_type": "stream",
          "text": [
            "0.86252\n",
            "              precision    recall  f1-score   support\n",
            "\n",
            "         pos       0.86      0.86      0.86     12500\n",
            "         neg       0.86      0.86      0.86     12500\n",
            "\n",
            "   micro avg       0.86      0.86      0.86     25000\n",
            "   macro avg       0.86      0.86      0.86     25000\n",
            "weighted avg       0.86      0.86      0.86     25000\n",
            "\n",
            "[[10783  1717]\n",
            " [ 1720 10780]]\n"
          ],
          "name": "stdout"
        },
        {
          "output_type": "execute_result",
          "data": {
            "text/plain": [
              "<matplotlib.axes._subplots.AxesSubplot at 0x7f10f7d588d0>"
            ]
          },
          "metadata": {
            "tags": []
          },
          "execution_count": 29
        },
        {
          "output_type": "display_data",
          "data": {
            "image/png": "[encoded data removed]",
            "text/plain": [
              "<Figure size 576x396 with 2 Axes>"
            ]
          },
          "metadata": {
            "tags": []
          }
        }
      ]
    },
    {
      "metadata": {
        "id": "Nwl9zQX8Guop",
        "colab_type": "code",
        "colab": {
          "base_uri": "https://localhost:8080/",
          "height": 34
        },
        "outputId": "a4a27edd-9aaf-41ce-a830-a5841502f824"
      },
      "cell_type": "code",
      "source": [
        "TP = cnf_matrix_test[1, 1]\n",
        "TN = cnf_matrix_test[0, 0]\n",
        "FP = cnf_matrix_test[0, 1]\n",
        "FN = cnf_matrix_test[1, 0]\n",
        "\n",
        "classification_error = (FP + FN) / float(TP + TN + FP + FN)\n",
        "print(classification_error)"
      ],
      "execution_count": 30,
      "outputs": [
        {
          "output_type": "stream",
          "text": [
            "0.13748\n"
          ],
          "name": "stdout"
        }
      ]
    },
    {
      "metadata": {
        "id": "wW-KgGRmGw30",
        "colab_type": "text"
      },
      "cell_type": "markdown",
      "source": [
        "### Transfer Learning"
      ]
    },
    {
      "metadata": {
        "id": "q3oScot6GwQV",
        "colab_type": "code",
        "colab": {
          "base_uri": "https://localhost:8080/",
          "height": 50
        },
        "outputId": "ba454cf4-47db-49c3-c8b9-b22ceca02abd"
      },
      "cell_type": "code",
      "source": [
        "ls"
      ],
      "execution_count": 31,
      "outputs": [
        {
          "output_type": "stream",
          "text": [
            "cleanedfinancial_data.csv  glove.6B.200d.txt  glove.6B.50d.txt  \u001b[0m\u001b[01;34msample_data\u001b[0m/\n",
            "glove.6B.100d.txt          glove.6B.300d.txt  glove.6B.zip\n"
          ],
          "name": "stdout"
        }
      ]
    },
    {
      "metadata": {
        "id": "hqxXDkxRG8Ot",
        "colab_type": "code",
        "colab": {
          "base_uri": "https://localhost:8080/",
          "height": 54
        },
        "outputId": "231d6d35-3e47-454c-ad5f-055052d83489"
      },
      "cell_type": "code",
      "source": [
        "financial_data = pd.read_csv('cleanedfinancial_data.csv')\n",
        "financial_data.iloc[2,1]"
      ],
      "execution_count": 32,
      "outputs": [
        {
          "output_type": "execute_result",
          "data": {
            "text/plain": [
              "\"Well, we need to bring the Shanghai factory online. I think that's the biggest driver for getting to 500K plus a year. Our car is just very expensive going into China. We've got import duties. We've got transport costs. We've got higher-cost labor here. And we've never been eligible for any of the EV tax credits. A lot of people sort of dependent on incentives. In fact, we are [indiscernible] EVs, we have the least access to incentives. It's pretty crazy because there's so many companies that - countries that have put price caps on the EV incentive, which affects Tesla. And in China, which is the biggest market for EVs, we've never had any subsidies or tax incentives for vehicles.\""
            ]
          },
          "metadata": {
            "tags": []
          },
          "execution_count": 32
        }
      ]
    },
    {
      "metadata": {
        "id": "jS6XgPwRHB8s",
        "colab_type": "code",
        "colab": {
          "base_uri": "https://localhost:8080/",
          "height": 118
        },
        "outputId": "871f776a-f6aa-4c15-8f82-29d5fcd493a4"
      },
      "cell_type": "code",
      "source": [
        "financial_test = financial_data[financial_data['sentiment'] != 'neutral']\n",
        "financial_test['sentiment'] = financial_test['sentiment'].apply(lambda x: 1 if x == 'positive' else 0)"
      ],
      "execution_count": 33,
      "outputs": [
        {
          "output_type": "stream",
          "text": [
            "/usr/local/lib/python3.6/dist-packages/ipykernel_launcher.py:2: SettingWithCopyWarning: \n",
            "A value is trying to be set on a copy of a slice from a DataFrame.\n",
            "Try using .loc[row_indexer,col_indexer] = value instead\n",
            "\n",
            "See the caveats in the documentation: http://pandas.pydata.org/pandas-docs/stable/indexing.html#indexing-view-versus-copy\n",
            "  \n"
          ],
          "name": "stderr"
        }
      ]
    },
    {
      "metadata": {
        "id": "mQPyZ6keHCBL",
        "colab_type": "code",
        "colab": {}
      },
      "cell_type": "code",
      "source": [
        "tokenizer = Tokenizer(num_words=1000)\n",
        "\n",
        "financial_x_test = tokenizer.texts_to_matrix(financial_test['text'].tolist(), mode='freq')\n",
        "financial_y_test = np.asarray(financial_test['sentiment'])"
      ],
      "execution_count": 0,
      "outputs": []
    },
    {
      "metadata": {
        "id": "rftkDpEzHCF8",
        "colab_type": "code",
        "colab": {
          "base_uri": "https://localhost:8080/",
          "height": 67
        },
        "outputId": "1271075f-65b6-4853-86d6-f06ba7e5bf55"
      },
      "cell_type": "code",
      "source": [
        "score, acc = model.evaluate(financial_x_test, financial_y_test, verbose=1)\n",
        "print(\"Accuracy: %.2f%%\" % (acc*100))\n",
        "print(\"Test score: %.2f%%\" % (score*100))"
      ],
      "execution_count": 35,
      "outputs": [
        {
          "output_type": "stream",
          "text": [
            "811/811 [==============================] - 0s 189us/step\n",
            "Accuracy: 80.64%\n",
            "Test score: 53.70%\n"
          ],
          "name": "stdout"
        }
      ]
    },
    {
      "metadata": {
        "id": "cFYkYU3-HCAU",
        "colab_type": "code",
        "colab": {
          "base_uri": "https://localhost:8080/",
          "height": 623
        },
        "outputId": "4affd995-273b-4da7-af68-61411abe7c2f"
      },
      "cell_type": "code",
      "source": [
        "import pandas as pd\n",
        "import seaborn as sns\n",
        "\n",
        "from sklearn.metrics import classification_report,confusion_matrix\n",
        "y_pred = model.predict_classes(np.array(financial_x_test))\n",
        "\n",
        "from sklearn import metrics\n",
        "print(metrics.accuracy_score(financial_y_test, y_pred))\n",
        "target_names = ['pos', 'neg']\n",
        "cnf_matrix_test = confusion_matrix(financial_y_test, y_pred)\n",
        "\n",
        "print(classification_report(financial_y_test, y_pred, target_names=target_names))\n",
        "print(cnf_matrix_test)\n",
        "\n",
        "df_cm = pd.DataFrame(cnf_matrix_test, range(2), range(2))\n",
        "\n",
        "sns.set(font_scale=1.4)\n",
        "sns.heatmap(df_cm, annot=True, fmt='d')"
      ],
      "execution_count": 36,
      "outputs": [
        {
          "output_type": "stream",
          "text": [
            "0.8064118372379778\n",
            "              precision    recall  f1-score   support\n",
            "\n",
            "         pos       0.00      0.00      0.00       157\n",
            "         neg       0.81      1.00      0.89       654\n",
            "\n",
            "   micro avg       0.81      0.81      0.81       811\n",
            "   macro avg       0.40      0.50      0.45       811\n",
            "weighted avg       0.65      0.81      0.72       811\n",
            "\n",
            "[[  0 157]\n",
            " [  0 654]]\n"
          ],
          "name": "stdout"
        },
        {
          "output_type": "stream",
          "text": [
            "/usr/local/lib/python3.6/dist-packages/sklearn/metrics/classification.py:1143: UndefinedMetricWarning: Precision and F-score are ill-defined and being set to 0.0 in labels with no predicted samples.\n",
            "  'precision', 'predicted', average, warn_for)\n"
          ],
          "name": "stderr"
        },
        {
          "output_type": "execute_result",
          "data": {
            "text/plain": [
              "<matplotlib.axes._subplots.AxesSubplot at 0x7f1101d97390>"
            ]
          },
          "metadata": {
            "tags": []
          },
          "execution_count": 36
        },
        {
          "output_type": "display_data",
          "data": {
            "image/png": "[encoded data removed]",
            "text/plain": [
              "<Figure size 576x396 with 2 Axes>"
            ]
          },
          "metadata": {
            "tags": []
          }
        }
      ]
    }
  ]
}
