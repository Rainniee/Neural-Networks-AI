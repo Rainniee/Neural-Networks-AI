{
  "nbformat": 4,
  "nbformat_minor": 0,
  "metadata": {
    "colab": {
      "name": "Part 1.3_Cifar10_MLP (activation & dropout rate & Best Model).ipynb",
      "version": "0.3.2",
      "provenance": [],
      "include_colab_link": true
    },
    "kernelspec": {
      "name": "python3",
      "display_name": "Python 3"
    }
  },
  "cells": [
    {
      "cell_type": "markdown",
      "metadata": {
        "id": "view-in-github",
        "colab_type": "text"
      },
      "source": [
        "<a href=\"https://colab.research.google.com/github/Rainniee/Neural-Networks-AI/blob/master/Part_1_3_Cifar10_MLP_(activation_%26_dropout_rate_%26_Best_Model).ipynb\" target=\"_parent\"><img src=\"https://colab.research.google.com/assets/colab-badge.svg\" alt=\"Open In Colab\"/></a>"
      ]
    },
    {
      "metadata": {
        "id": "ulM-NS3DC3Yq",
        "colab_type": "text"
      },
      "cell_type": "markdown",
      "source": [
        "### Modifying Model For Cifar_10 MLP"
      ]
    },
    {
      "metadata": {
        "id": "dy1T809RC7pd",
        "colab_type": "text"
      },
      "cell_type": "markdown",
      "source": [
        "\n",
        "```\n",
        "The original configuration used to build the model:\n",
        "\n",
        "1. No of epochs: 10\n",
        "2. Batch size: 128\n",
        "3. Network configuration\n",
        "    i. Number of neurons in a layer: 512\n",
        "    ii. Number of layers: 3\n",
        "4. Learning rate: 0.001\n",
        "5. Activation functions: relu & softmax\n",
        "6. Dropout rates: 0.2\n",
        "\n",
        "The original Test loss: 1.5913666017532349\n",
        "The original Test accuracy: 0.4362\n",
        "```\n",
        "\n"
      ]
    },
    {
      "metadata": {
        "id": "65cIxMPLDAVP",
        "colab_type": "text"
      },
      "cell_type": "markdown",
      "source": [
        "***5.1 Modifying the activation function to tanh & softmax***"
      ]
    },
    {
      "metadata": {
        "id": "1ezZHQSTAKm_",
        "colab_type": "code",
        "colab": {
          "base_uri": "https://localhost:8080/",
          "height": 34
        },
        "outputId": "0805d78c-909d-491a-9ed6-2752d3d5f7c5"
      },
      "cell_type": "code",
      "source": [
        "from __future__ import print_function\n",
        "\n",
        "import keras\n",
        "from keras.datasets import mnist\n",
        "from keras.models import Sequential\n",
        "from keras.layers import Dense, Dropout\n",
        "from keras.optimizers import RMSprop\n",
        "\n",
        "from keras.datasets import cifar10"
      ],
      "execution_count": 1,
      "outputs": [
        {
          "output_type": "stream",
          "text": [
            "Using TensorFlow backend.\n"
          ],
          "name": "stderr"
        }
      ]
    },
    {
      "metadata": {
        "id": "ZnQZMNB_DqXp",
        "colab_type": "code",
        "colab": {}
      },
      "cell_type": "code",
      "source": [
        "batch_size = 128\n",
        "num_classes = 10\n",
        "epochs = 10"
      ],
      "execution_count": 0,
      "outputs": []
    },
    {
      "metadata": {
        "id": "OLZBB4yBDqfH",
        "colab_type": "code",
        "colab": {
          "base_uri": "https://localhost:8080/",
          "height": 34
        },
        "outputId": "79f5b8a7-302d-45cb-aa70-7bc82eb64578"
      },
      "cell_type": "code",
      "source": [
        "# the data, split between train and test sets\n",
        "(x_train, y_train), (x_test, y_test) = cifar10.load_data()\n",
        "\n",
        "x_train = x_train.reshape(-1, 3072)\n",
        "x_test = x_test.reshape(-1, 3072)\n",
        "x_train = x_train.astype('float32')\n",
        "x_test = x_test.astype('float32')\n",
        "x_train /= 255\n",
        "x_test /= 255\n",
        "print(x_train.shape[0], 'train samples')"
      ],
      "execution_count": 4,
      "outputs": [
        {
          "output_type": "stream",
          "text": [
            "50000 train samples\n"
          ],
          "name": "stdout"
        }
      ]
    },
    {
      "metadata": {
        "id": "N13d0cN6Dqnc",
        "colab_type": "code",
        "colab": {
          "base_uri": "https://localhost:8080/",
          "height": 306
        },
        "outputId": "1763f5c8-e7b8-4358-e6eb-1766b01d0ab1"
      },
      "cell_type": "code",
      "source": [
        "# convert class vectors to binary class matrices\n",
        "y_train = keras.utils.to_categorical(y_train, num_classes)\n",
        "y_test = keras.utils.to_categorical(y_test, num_classes)\n",
        "\n",
        "model = Sequential()\n",
        "model.add(Dense(256, activation='tanh', input_shape=(3072,)))\n",
        "model.add(Dropout(0.2))\n",
        "model.add(Dense(256, activation='tanh'))\n",
        "model.add(Dropout(0.2))\n",
        "model.add(Dense(num_classes, activation='softmax'))\n",
        "\n",
        "model.summary()"
      ],
      "execution_count": 5,
      "outputs": [
        {
          "output_type": "stream",
          "text": [
            "_________________________________________________________________\n",
            "Layer (type)                 Output Shape              Param #   \n",
            "=================================================================\n",
            "dense_1 (Dense)              (None, 256)               786688    \n",
            "_________________________________________________________________\n",
            "dropout_1 (Dropout)          (None, 256)               0         \n",
            "_________________________________________________________________\n",
            "dense_2 (Dense)              (None, 256)               65792     \n",
            "_________________________________________________________________\n",
            "dropout_2 (Dropout)          (None, 256)               0         \n",
            "_________________________________________________________________\n",
            "dense_3 (Dense)              (None, 10)                2570      \n",
            "=================================================================\n",
            "Total params: 855,050\n",
            "Trainable params: 855,050\n",
            "Non-trainable params: 0\n",
            "_________________________________________________________________\n"
          ],
          "name": "stdout"
        }
      ]
    },
    {
      "metadata": {
        "id": "mnQZbuj4Efac",
        "colab_type": "code",
        "colab": {
          "base_uri": "https://localhost:8080/",
          "height": 408
        },
        "outputId": "42874cfe-f6cd-42af-8179-056536cc10ae"
      },
      "cell_type": "code",
      "source": [
        "# initiate RMSprop optimizer\n",
        "opt = keras.optimizers.rmsprop(lr=0.001, decay=1e-6)\n",
        "\n",
        "model.compile(loss='categorical_crossentropy',\n",
        "              optimizer=opt,\n",
        "              metrics=['accuracy'])\n",
        "\n",
        "history = model.fit(x_train, y_train,\n",
        "                    batch_size=batch_size,\n",
        "                    epochs=epochs,\n",
        "                    verbose=1,\n",
        "                    validation_data=(x_test, y_test))\n",
        "score = model.evaluate(x_test, y_test, verbose=0)\n",
        "print('Test loss:', score[0])\n",
        "print('Test accuracy:', score[1])"
      ],
      "execution_count": 6,
      "outputs": [
        {
          "output_type": "stream",
          "text": [
            "Train on 50000 samples, validate on 10000 samples\n",
            "Epoch 1/10\n",
            "50000/50000 [==============================] - 10s 192us/step - loss: 2.2588 - acc: 0.2046 - val_loss: 1.9832 - val_acc: 0.2776\n",
            "Epoch 2/10\n",
            "50000/50000 [==============================] - 10s 191us/step - loss: 1.9826 - acc: 0.2890 - val_loss: 1.8350 - val_acc: 0.3327\n",
            "Epoch 3/10\n",
            "50000/50000 [==============================] - 9s 189us/step - loss: 1.8666 - acc: 0.3306 - val_loss: 1.7586 - val_acc: 0.3657\n",
            "Epoch 4/10\n",
            "50000/50000 [==============================] - 9s 187us/step - loss: 1.8097 - acc: 0.3516 - val_loss: 1.7845 - val_acc: 0.3600\n",
            "Epoch 5/10\n",
            "50000/50000 [==============================] - 9s 186us/step - loss: 1.7699 - acc: 0.3634 - val_loss: 1.7389 - val_acc: 0.3575\n",
            "Epoch 6/10\n",
            "50000/50000 [==============================] - 9s 185us/step - loss: 1.7354 - acc: 0.3818 - val_loss: 1.6949 - val_acc: 0.3871\n",
            "Epoch 7/10\n",
            "50000/50000 [==============================] - 9s 187us/step - loss: 1.7108 - acc: 0.3889 - val_loss: 1.6622 - val_acc: 0.3985\n",
            "Epoch 8/10\n",
            "50000/50000 [==============================] - 9s 186us/step - loss: 1.6896 - acc: 0.3942 - val_loss: 1.6933 - val_acc: 0.3968\n",
            "Epoch 9/10\n",
            "50000/50000 [==============================] - 9s 186us/step - loss: 1.6709 - acc: 0.4053 - val_loss: 1.6359 - val_acc: 0.4184\n",
            "Epoch 10/10\n",
            "50000/50000 [==============================] - 9s 185us/step - loss: 1.6588 - acc: 0.4088 - val_loss: 1.6305 - val_acc: 0.4172\n",
            "Test loss: 1.6304947841644286\n",
            "Test accuracy: 0.4172\n"
          ],
          "name": "stdout"
        }
      ]
    },
    {
      "metadata": {
        "id": "JGwH0lAtF--g",
        "colab_type": "text"
      },
      "cell_type": "markdown",
      "source": [
        "***5.2 Modifying the activation function to relu & elu***"
      ]
    },
    {
      "metadata": {
        "id": "nv7yW3TZGI7x",
        "colab_type": "code",
        "colab": {
          "base_uri": "https://localhost:8080/",
          "height": 51
        },
        "outputId": "018cfdea-21dd-48da-f8dc-8d78a3a073e3"
      },
      "cell_type": "code",
      "source": [
        "batch_size = 128\n",
        "num_classes = 10\n",
        "epochs = 10\n",
        "\n",
        "# the data, split between train and test sets\n",
        "(x_train, y_train), (x_test, y_test) = cifar10.load_data()\n",
        "\n",
        "x_train = x_train.reshape(-1, 3072)\n",
        "x_test = x_test.reshape(-1, 3072)\n",
        "x_train = x_train.astype('float32')\n",
        "x_test = x_test.astype('float32')\n",
        "x_train /= 255\n",
        "x_test /= 255\n",
        "print(x_train.shape[0], 'train samples')\n",
        "print(x_test.shape[0], 'test samples')"
      ],
      "execution_count": 8,
      "outputs": [
        {
          "output_type": "stream",
          "text": [
            "50000 train samples\n",
            "10000 test samples\n"
          ],
          "name": "stdout"
        }
      ]
    },
    {
      "metadata": {
        "id": "53ttGRMHGJGv",
        "colab_type": "code",
        "colab": {
          "base_uri": "https://localhost:8080/",
          "height": 306
        },
        "outputId": "4ac9ec04-f47e-4b0b-9262-40991965e57e"
      },
      "cell_type": "code",
      "source": [
        "# convert class vectors to binary class matrices\n",
        "y_train = keras.utils.to_categorical(y_train, num_classes)\n",
        "y_test = keras.utils.to_categorical(y_test, num_classes)\n",
        "\n",
        "model = Sequential()\n",
        "model.add(Dense(512, activation='relu', input_shape=(3072,)))\n",
        "model.add(Dropout(0.2))\n",
        "model.add(Dense(512, activation='relu'))\n",
        "model.add(Dropout(0.2))\n",
        "model.add(Dense(num_classes, activation='elu'))\n",
        "\n",
        "model.summary()"
      ],
      "execution_count": 9,
      "outputs": [
        {
          "output_type": "stream",
          "text": [
            "_________________________________________________________________\n",
            "Layer (type)                 Output Shape              Param #   \n",
            "=================================================================\n",
            "dense_4 (Dense)              (None, 512)               1573376   \n",
            "_________________________________________________________________\n",
            "dropout_3 (Dropout)          (None, 512)               0         \n",
            "_________________________________________________________________\n",
            "dense_5 (Dense)              (None, 512)               262656    \n",
            "_________________________________________________________________\n",
            "dropout_4 (Dropout)          (None, 512)               0         \n",
            "_________________________________________________________________\n",
            "dense_6 (Dense)              (None, 10)                5130      \n",
            "=================================================================\n",
            "Total params: 1,841,162\n",
            "Trainable params: 1,841,162\n",
            "Non-trainable params: 0\n",
            "_________________________________________________________________\n"
          ],
          "name": "stdout"
        }
      ]
    },
    {
      "metadata": {
        "id": "gBBTXH87GJSj",
        "colab_type": "code",
        "colab": {
          "base_uri": "https://localhost:8080/",
          "height": 408
        },
        "outputId": "5f7cc4a3-8600-48c5-93df-ff2e3caf1543"
      },
      "cell_type": "code",
      "source": [
        "model.compile(loss='categorical_crossentropy',\n",
        "              optimizer=opt,\n",
        "              metrics=['accuracy'])\n",
        "\n",
        "history = model.fit(x_train, y_train,\n",
        "                    batch_size=batch_size,\n",
        "                    epochs=epochs,\n",
        "                    verbose=1,\n",
        "                    validation_data=(x_test, y_test))\n",
        "score = model.evaluate(x_test, y_test, verbose=0)\n",
        "print('Test loss:', score[0])\n",
        "print('Test accuracy:', score[1])"
      ],
      "execution_count": 10,
      "outputs": [
        {
          "output_type": "stream",
          "text": [
            "Train on 50000 samples, validate on 10000 samples\n",
            "Epoch 1/10\n",
            "50000/50000 [==============================] - 21s 412us/step - loss: 8.8604 - acc: 0.1667 - val_loss: 8.7726 - val_acc: 0.2015\n",
            "Epoch 2/10\n",
            "50000/50000 [==============================] - 21s 412us/step - loss: 8.8655 - acc: 0.2064 - val_loss: 8.8342 - val_acc: 0.2548\n",
            "Epoch 3/10\n",
            "50000/50000 [==============================] - 20s 406us/step - loss: 8.8471 - acc: 0.2284 - val_loss: 8.7241 - val_acc: 0.2551\n",
            "Epoch 4/10\n",
            "50000/50000 [==============================] - 20s 404us/step - loss: 8.8186 - acc: 0.2382 - val_loss: 8.7529 - val_acc: 0.2617\n",
            "Epoch 5/10\n",
            "50000/50000 [==============================] - 20s 399us/step - loss: 8.8080 - acc: 0.2515 - val_loss: 8.7189 - val_acc: 0.2499\n",
            "Epoch 6/10\n",
            "50000/50000 [==============================] - 21s 422us/step - loss: 8.7906 - acc: 0.2599 - val_loss: 8.6859 - val_acc: 0.2735\n",
            "Epoch 7/10\n",
            "50000/50000 [==============================] - 21s 415us/step - loss: 8.7721 - acc: 0.2629 - val_loss: 8.8488 - val_acc: 0.2661\n",
            "Epoch 8/10\n",
            "50000/50000 [==============================] - 21s 418us/step - loss: 8.7818 - acc: 0.2712 - val_loss: 8.7164 - val_acc: 0.2543\n",
            "Epoch 9/10\n",
            "50000/50000 [==============================] - 21s 414us/step - loss: 8.7652 - acc: 0.2741 - val_loss: 8.6762 - val_acc: 0.2707\n",
            "Epoch 10/10\n",
            "50000/50000 [==============================] - 21s 414us/step - loss: 8.7742 - acc: 0.2733 - val_loss: 8.6614 - val_acc: 0.2944\n",
            "Test loss: 8.66142314453125\n",
            "Test accuracy: 0.2944\n"
          ],
          "name": "stdout"
        }
      ]
    },
    {
      "metadata": {
        "id": "jk2Mlse_IdlO",
        "colab_type": "text"
      },
      "cell_type": "markdown",
      "source": [
        "\n",
        "**Modified Results:**\n",
        "```\n",
        "**The accuracy decreased and the loss increased with the changed activation function.**\n",
        "**It seems that the relu and softmax makes the model better.**\n",
        "```\n"
      ]
    },
    {
      "metadata": {
        "id": "QSMHdmW9Ie4e",
        "colab_type": "text"
      },
      "cell_type": "markdown",
      "source": [
        "\n",
        "\n",
        "```\n",
        "```"
      ]
    },
    {
      "metadata": {
        "id": "E3Nk7B9hIhid",
        "colab_type": "text"
      },
      "cell_type": "markdown",
      "source": [
        "***6.1 Modifying the Dropout rate from 0.2 to 0.1***"
      ]
    },
    {
      "metadata": {
        "id": "LRoooSaDI1Ra",
        "colab_type": "code",
        "colab": {
          "base_uri": "https://localhost:8080/",
          "height": 51
        },
        "outputId": "c82d8edb-7192-419a-8949-8b49daec1dd0"
      },
      "cell_type": "code",
      "source": [
        "batch_size = 128\n",
        "num_classes = 10\n",
        "epochs = 10\n",
        "\n",
        "# the data, split between train and test sets\n",
        "(x_train, y_train), (x_test, y_test) = cifar10.load_data()\n",
        "\n",
        "x_train = x_train.reshape(-1, 3072)\n",
        "x_test = x_test.reshape(-1, 3072)\n",
        "x_train = x_train.astype('float32')\n",
        "x_test = x_test.astype('float32')\n",
        "x_train /= 255\n",
        "x_test /= 255\n",
        "print(x_train.shape[0], 'train samples')\n",
        "print(x_test.shape[0], 'test samples')"
      ],
      "execution_count": 14,
      "outputs": [
        {
          "output_type": "stream",
          "text": [
            "50000 train samples\n",
            "10000 test samples\n"
          ],
          "name": "stdout"
        }
      ]
    },
    {
      "metadata": {
        "id": "hfEiXpRXI1XR",
        "colab_type": "code",
        "colab": {
          "base_uri": "https://localhost:8080/",
          "height": 306
        },
        "outputId": "8b4f7219-fd60-42e4-bfba-205525289f41"
      },
      "cell_type": "code",
      "source": [
        "# convert class vectors to binary class matrices\n",
        "y_train = keras.utils.to_categorical(y_train, num_classes)\n",
        "y_test = keras.utils.to_categorical(y_test, num_classes)\n",
        "\n",
        "model = Sequential()\n",
        "model.add(Dense(512, activation='relu', input_shape=(3072,)))\n",
        "model.add(Dropout(0.1))\n",
        "model.add(Dense(512, activation='relu'))\n",
        "model.add(Dropout(0.1))\n",
        "model.add(Dense(num_classes, activation='softmax'))\n",
        "\n",
        "model.summary()"
      ],
      "execution_count": 18,
      "outputs": [
        {
          "output_type": "stream",
          "text": [
            "_________________________________________________________________\n",
            "Layer (type)                 Output Shape              Param #   \n",
            "=================================================================\n",
            "dense_13 (Dense)             (None, 512)               1573376   \n",
            "_________________________________________________________________\n",
            "dropout_9 (Dropout)          (None, 512)               0         \n",
            "_________________________________________________________________\n",
            "dense_14 (Dense)             (None, 512)               262656    \n",
            "_________________________________________________________________\n",
            "dropout_10 (Dropout)         (None, 512)               0         \n",
            "_________________________________________________________________\n",
            "dense_15 (Dense)             (None, 10)                5130      \n",
            "=================================================================\n",
            "Total params: 1,841,162\n",
            "Trainable params: 1,841,162\n",
            "Non-trainable params: 0\n",
            "_________________________________________________________________\n"
          ],
          "name": "stdout"
        }
      ]
    },
    {
      "metadata": {
        "id": "IF08c_JcI1cg",
        "colab_type": "code",
        "colab": {
          "base_uri": "https://localhost:8080/",
          "height": 408
        },
        "outputId": "2c04f998-ad91-4453-a76b-73ecd8864100"
      },
      "cell_type": "code",
      "source": [
        "model.compile(loss='categorical_crossentropy',\n",
        "              optimizer=opt,\n",
        "              metrics=['accuracy'])\n",
        "\n",
        "history = model.fit(x_train, y_train,\n",
        "                    batch_size=batch_size,\n",
        "                    epochs=epochs,\n",
        "                    verbose=1,\n",
        "                    validation_data=(x_test, y_test))\n",
        "score = model.evaluate(x_test, y_test, verbose=0)\n",
        "print('Test loss:', score[0])\n",
        "print('Test accuracy:', score[1])"
      ],
      "execution_count": 19,
      "outputs": [
        {
          "output_type": "stream",
          "text": [
            "Train on 50000 samples, validate on 10000 samples\n",
            "Epoch 1/10\n",
            "50000/50000 [==============================] - 18s 359us/step - loss: 2.2954 - acc: 0.2588 - val_loss: 1.8583 - val_acc: 0.3338\n",
            "Epoch 2/10\n",
            "50000/50000 [==============================] - 18s 351us/step - loss: 1.8213 - acc: 0.3419 - val_loss: 1.7499 - val_acc: 0.3779\n",
            "Epoch 3/10\n",
            "50000/50000 [==============================] - 18s 350us/step - loss: 1.7465 - acc: 0.3752 - val_loss: 1.6308 - val_acc: 0.4216\n",
            "Epoch 4/10\n",
            "50000/50000 [==============================] - 17s 349us/step - loss: 1.6831 - acc: 0.3999 - val_loss: 1.6313 - val_acc: 0.4129\n",
            "Epoch 5/10\n",
            "50000/50000 [==============================] - 18s 354us/step - loss: 1.6399 - acc: 0.4159 - val_loss: 1.6296 - val_acc: 0.4204\n",
            "Epoch 6/10\n",
            "50000/50000 [==============================] - 18s 351us/step - loss: 1.6039 - acc: 0.4283 - val_loss: 1.6964 - val_acc: 0.3978\n",
            "Epoch 7/10\n",
            "50000/50000 [==============================] - 18s 354us/step - loss: 1.5728 - acc: 0.4378 - val_loss: 1.6871 - val_acc: 0.3847\n",
            "Epoch 8/10\n",
            "50000/50000 [==============================] - 18s 356us/step - loss: 1.5506 - acc: 0.4442 - val_loss: 1.6172 - val_acc: 0.4092\n",
            "Epoch 9/10\n",
            "50000/50000 [==============================] - 18s 355us/step - loss: 1.5275 - acc: 0.4558 - val_loss: 1.4872 - val_acc: 0.4738\n",
            "Epoch 10/10\n",
            "50000/50000 [==============================] - 18s 354us/step - loss: 1.5117 - acc: 0.4607 - val_loss: 1.5024 - val_acc: 0.4632\n",
            "Test loss: 1.5023770065307618\n",
            "Test accuracy: 0.4632\n"
          ],
          "name": "stdout"
        }
      ]
    },
    {
      "metadata": {
        "id": "e0O3VBR1LPeo",
        "colab_type": "text"
      },
      "cell_type": "markdown",
      "source": [
        "***6.2 Modifying the Dropout rate from 0.2 to 0.5***"
      ]
    },
    {
      "metadata": {
        "id": "7vlYkw5NLUeK",
        "colab_type": "code",
        "colab": {
          "base_uri": "https://localhost:8080/",
          "height": 51
        },
        "outputId": "bcc75181-f9a0-4034-f6f6-8b5ac20e97a1"
      },
      "cell_type": "code",
      "source": [
        "batch_size = 128\n",
        "num_classes = 10\n",
        "epochs = 10\n",
        "\n",
        "# the data, split between train and test sets\n",
        "(x_train, y_train), (x_test, y_test) = cifar10.load_data()\n",
        "\n",
        "x_train = x_train.reshape(-1, 3072)\n",
        "x_test = x_test.reshape(-1, 3072)\n",
        "x_train = x_train.astype('float32')\n",
        "x_test = x_test.astype('float32')\n",
        "x_train /= 255\n",
        "x_test /= 255\n",
        "print(x_train.shape[0], 'train samples')\n",
        "print(x_test.shape[0], 'test samples')"
      ],
      "execution_count": 20,
      "outputs": [
        {
          "output_type": "stream",
          "text": [
            "50000 train samples\n",
            "10000 test samples\n"
          ],
          "name": "stdout"
        }
      ]
    },
    {
      "metadata": {
        "id": "l4EAfgENLchJ",
        "colab_type": "code",
        "colab": {
          "base_uri": "https://localhost:8080/",
          "height": 306
        },
        "outputId": "a02d4d03-a0fd-487e-9284-9c3a0879437e"
      },
      "cell_type": "code",
      "source": [
        "# convert class vectors to binary class matrices\n",
        "y_train = keras.utils.to_categorical(y_train, num_classes)\n",
        "y_test = keras.utils.to_categorical(y_test, num_classes)\n",
        "\n",
        "model = Sequential()\n",
        "model.add(Dense(512, activation='relu', input_shape=(3072,)))\n",
        "model.add(Dropout(0.5))\n",
        "model.add(Dense(512, activation='relu'))\n",
        "model.add(Dropout(0.5))\n",
        "model.add(Dense(num_classes, activation='softmax'))\n",
        "\n",
        "model.summary()"
      ],
      "execution_count": 21,
      "outputs": [
        {
          "output_type": "stream",
          "text": [
            "_________________________________________________________________\n",
            "Layer (type)                 Output Shape              Param #   \n",
            "=================================================================\n",
            "dense_16 (Dense)             (None, 512)               1573376   \n",
            "_________________________________________________________________\n",
            "dropout_11 (Dropout)         (None, 512)               0         \n",
            "_________________________________________________________________\n",
            "dense_17 (Dense)             (None, 512)               262656    \n",
            "_________________________________________________________________\n",
            "dropout_12 (Dropout)         (None, 512)               0         \n",
            "_________________________________________________________________\n",
            "dense_18 (Dense)             (None, 10)                5130      \n",
            "=================================================================\n",
            "Total params: 1,841,162\n",
            "Trainable params: 1,841,162\n",
            "Non-trainable params: 0\n",
            "_________________________________________________________________\n"
          ],
          "name": "stdout"
        }
      ]
    },
    {
      "metadata": {
        "id": "UZ_6OTILLfOy",
        "colab_type": "code",
        "colab": {
          "base_uri": "https://localhost:8080/",
          "height": 408
        },
        "outputId": "d969f413-daa5-41e0-c49a-a1ce70a4d769"
      },
      "cell_type": "code",
      "source": [
        "model.compile(loss='categorical_crossentropy',\n",
        "              optimizer=opt,\n",
        "              metrics=['accuracy'])\n",
        "\n",
        "history = model.fit(x_train, y_train,\n",
        "                    batch_size=batch_size,\n",
        "                    epochs=epochs,\n",
        "                    verbose=1,\n",
        "                    validation_data=(x_test, y_test))\n",
        "score = model.evaluate(x_test, y_test, verbose=0)\n",
        "print('Test loss:', score[0])\n",
        "print('Test accuracy:', score[1])"
      ],
      "execution_count": 22,
      "outputs": [
        {
          "output_type": "stream",
          "text": [
            "Train on 50000 samples, validate on 10000 samples\n",
            "Epoch 1/10\n",
            "50000/50000 [==============================] - 18s 366us/step - loss: 2.2148 - acc: 0.1873 - val_loss: 1.9757 - val_acc: 0.2851\n",
            "Epoch 2/10\n",
            "50000/50000 [==============================] - 18s 352us/step - loss: 2.0261 - acc: 0.2425 - val_loss: 1.9134 - val_acc: 0.3043\n",
            "Epoch 3/10\n",
            "50000/50000 [==============================] - 17s 349us/step - loss: 1.9849 - acc: 0.2648 - val_loss: 1.9086 - val_acc: 0.3310\n",
            "Epoch 4/10\n",
            "50000/50000 [==============================] - 18s 367us/step - loss: 1.9474 - acc: 0.2769 - val_loss: 1.9387 - val_acc: 0.3113\n",
            "Epoch 5/10\n",
            "50000/50000 [==============================] - 18s 359us/step - loss: 1.9262 - acc: 0.2905 - val_loss: 1.9071 - val_acc: 0.3381\n",
            "Epoch 6/10\n",
            "50000/50000 [==============================] - 18s 350us/step - loss: 1.9087 - acc: 0.2956 - val_loss: 1.8984 - val_acc: 0.3498\n",
            "Epoch 7/10\n",
            "50000/50000 [==============================] - 18s 351us/step - loss: 1.8947 - acc: 0.3074 - val_loss: 1.8586 - val_acc: 0.3329\n",
            "Epoch 8/10\n",
            "50000/50000 [==============================] - 18s 353us/step - loss: 1.8800 - acc: 0.3090 - val_loss: 1.9067 - val_acc: 0.3367\n",
            "Epoch 9/10\n",
            "50000/50000 [==============================] - 18s 351us/step - loss: 1.8766 - acc: 0.3105 - val_loss: 1.8642 - val_acc: 0.3576\n",
            "Epoch 10/10\n",
            "50000/50000 [==============================] - 18s 354us/step - loss: 1.8663 - acc: 0.3136 - val_loss: 1.8733 - val_acc: 0.3599\n",
            "Test loss: 1.8732824565887451\n",
            "Test accuracy: 0.3599\n"
          ],
          "name": "stdout"
        }
      ]
    },
    {
      "metadata": {
        "id": "OlD7rSaZMNsj",
        "colab_type": "text"
      },
      "cell_type": "markdown",
      "source": [
        "\n",
        "**Modified Results:**\n",
        "```\n",
        "**The accuracy increased and the loss decreased with the Dropout rate decreased.**\n",
        "**Lower dropout rate will improve the model performance.**\n",
        "```\n"
      ]
    },
    {
      "metadata": {
        "id": "ro0O_mKLMlsW",
        "colab_type": "text"
      },
      "cell_type": "markdown",
      "source": [
        "\n",
        "\n",
        "```\n",
        "```"
      ]
    },
    {
      "metadata": {
        "id": "3myWFQLyMoJV",
        "colab_type": "text"
      },
      "cell_type": "markdown",
      "source": [
        "### The Best Model"
      ]
    },
    {
      "metadata": {
        "id": "HJ4LqARZMto_",
        "colab_type": "text"
      },
      "cell_type": "markdown",
      "source": [
        "\n",
        "```\n",
        "The following configuration will be used to build the best model:\n",
        "\n",
        "1. No of epochs: 40\n",
        "2. Batch size: 128\n",
        "3. Network configuration\n",
        "    i. Number of neurons in a layer: 1024\n",
        "    ii. Number of layers: 3\n",
        "4. Learning rate: 0.0001\n",
        "5. Activation functions: relu & softmax\n",
        "6. Dropout rates: 0.1\n",
        "\n",
        "```\n",
        "\n"
      ]
    },
    {
      "metadata": {
        "id": "a3ALiuGaNrsp",
        "colab_type": "code",
        "colab": {}
      },
      "cell_type": "code",
      "source": [
        "batch_size = 128\n",
        "num_classes = 10\n",
        "epochs = 40\n",
        "\n",
        "opt = keras.optimizers.rmsprop(lr=0.0001, decay=1e-6)"
      ],
      "execution_count": 0,
      "outputs": []
    },
    {
      "metadata": {
        "id": "09QqVhP0Nsev",
        "colab_type": "code",
        "colab": {
          "base_uri": "https://localhost:8080/",
          "height": 51
        },
        "outputId": "a10e32cc-335a-4dbd-c62c-9c765acac96b"
      },
      "cell_type": "code",
      "source": [
        "# the data, split between train and test sets\n",
        "(x_train, y_train), (x_test, y_test) = cifar10.load_data()\n",
        "\n",
        "x_train = x_train.reshape(-1, 3072)\n",
        "x_test = x_test.reshape(-1, 3072)\n",
        "x_train = x_train.astype('float32')\n",
        "x_test = x_test.astype('float32')\n",
        "x_train /= 255\n",
        "x_test /= 255\n",
        "print(x_train.shape[0], 'train samples')\n",
        "print(x_test.shape[0], 'test samples')"
      ],
      "execution_count": 24,
      "outputs": [
        {
          "output_type": "stream",
          "text": [
            "50000 train samples\n",
            "10000 test samples\n"
          ],
          "name": "stdout"
        }
      ]
    },
    {
      "metadata": {
        "id": "IW9HYF8JO1Nv",
        "colab_type": "code",
        "colab": {
          "base_uri": "https://localhost:8080/",
          "height": 306
        },
        "outputId": "d96e7786-0e7d-4c65-feaa-8d9f33d0136a"
      },
      "cell_type": "code",
      "source": [
        "# convert class vectors to binary class matrices\n",
        "y_train = keras.utils.to_categorical(y_train, num_classes)\n",
        "y_test = keras.utils.to_categorical(y_test, num_classes)\n",
        "\n",
        "model = Sequential()\n",
        "model.add(Dense(1024, activation='relu', input_shape=(3072,)))\n",
        "model.add(Dropout(0.1))\n",
        "model.add(Dense(1024, activation='relu'))\n",
        "model.add(Dropout(0.1))\n",
        "model.add(Dense(num_classes, activation='softmax'))\n",
        "\n",
        "model.summary()"
      ],
      "execution_count": 25,
      "outputs": [
        {
          "output_type": "stream",
          "text": [
            "_________________________________________________________________\n",
            "Layer (type)                 Output Shape              Param #   \n",
            "=================================================================\n",
            "dense_19 (Dense)             (None, 1024)              3146752   \n",
            "_________________________________________________________________\n",
            "dropout_13 (Dropout)         (None, 1024)              0         \n",
            "_________________________________________________________________\n",
            "dense_20 (Dense)             (None, 1024)              1049600   \n",
            "_________________________________________________________________\n",
            "dropout_14 (Dropout)         (None, 1024)              0         \n",
            "_________________________________________________________________\n",
            "dense_21 (Dense)             (None, 10)                10250     \n",
            "=================================================================\n",
            "Total params: 4,206,602\n",
            "Trainable params: 4,206,602\n",
            "Non-trainable params: 0\n",
            "_________________________________________________________________\n"
          ],
          "name": "stdout"
        }
      ]
    },
    {
      "metadata": {
        "id": "yvM3jki7PPut",
        "colab_type": "code",
        "colab": {
          "base_uri": "https://localhost:8080/",
          "height": 1428
        },
        "outputId": "3d45c1d6-c0d9-4fcf-8e2e-a373e670149e"
      },
      "cell_type": "code",
      "source": [
        "model.compile(loss='categorical_crossentropy',\n",
        "              optimizer=opt,\n",
        "              metrics=['accuracy'])\n",
        "\n",
        "history = model.fit(x_train, y_train,\n",
        "                    batch_size=batch_size,\n",
        "                    epochs=epochs,\n",
        "                    verbose=1,\n",
        "                    validation_data=(x_test, y_test))\n",
        "score = model.evaluate(x_test, y_test, verbose=0)\n",
        "print('Test loss:', score[0])\n",
        "print('Test accuracy:', score[1])"
      ],
      "execution_count": 26,
      "outputs": [
        {
          "output_type": "stream",
          "text": [
            "Train on 50000 samples, validate on 10000 samples\n",
            "Epoch 1/40\n",
            "50000/50000 [==============================] - 43s 862us/step - loss: 1.9003 - acc: 0.3166 - val_loss: 1.7292 - val_acc: 0.3837\n",
            "Epoch 2/40\n",
            "50000/50000 [==============================] - 43s 861us/step - loss: 1.7028 - acc: 0.3949 - val_loss: 1.6156 - val_acc: 0.4248\n",
            "Epoch 3/40\n",
            "50000/50000 [==============================] - 43s 866us/step - loss: 1.6225 - acc: 0.4255 - val_loss: 1.5525 - val_acc: 0.4487\n",
            "Epoch 4/40\n",
            "50000/50000 [==============================] - 44s 875us/step - loss: 1.5635 - acc: 0.4476 - val_loss: 1.5728 - val_acc: 0.4345\n",
            "Epoch 5/40\n",
            "50000/50000 [==============================] - 44s 888us/step - loss: 1.5166 - acc: 0.4630 - val_loss: 1.4724 - val_acc: 0.4803\n",
            "Epoch 6/40\n",
            "50000/50000 [==============================] - 43s 868us/step - loss: 1.4731 - acc: 0.4782 - val_loss: 1.5179 - val_acc: 0.4576\n",
            "Epoch 7/40\n",
            "50000/50000 [==============================] - 43s 865us/step - loss: 1.4378 - acc: 0.4923 - val_loss: 1.4518 - val_acc: 0.4802\n",
            "Epoch 8/40\n",
            "50000/50000 [==============================] - 43s 861us/step - loss: 1.4068 - acc: 0.5033 - val_loss: 1.4450 - val_acc: 0.4897\n",
            "Epoch 9/40\n",
            "50000/50000 [==============================] - 43s 859us/step - loss: 1.3773 - acc: 0.5160 - val_loss: 1.3916 - val_acc: 0.5106\n",
            "Epoch 10/40\n",
            "50000/50000 [==============================] - 43s 860us/step - loss: 1.3475 - acc: 0.5230 - val_loss: 1.3996 - val_acc: 0.5030\n",
            "Epoch 11/40\n",
            "50000/50000 [==============================] - 45s 899us/step - loss: 1.3237 - acc: 0.5353 - val_loss: 1.4409 - val_acc: 0.4873\n",
            "Epoch 12/40\n",
            "50000/50000 [==============================] - 45s 895us/step - loss: 1.2974 - acc: 0.5440 - val_loss: 1.3782 - val_acc: 0.5085\n",
            "Epoch 13/40\n",
            "50000/50000 [==============================] - 43s 853us/step - loss: 1.2748 - acc: 0.5525 - val_loss: 1.3863 - val_acc: 0.5057\n",
            "Epoch 14/40\n",
            "50000/50000 [==============================] - 42s 849us/step - loss: 1.2530 - acc: 0.5605 - val_loss: 1.3552 - val_acc: 0.5161\n",
            "Epoch 15/40\n",
            "50000/50000 [==============================] - 42s 847us/step - loss: 1.2256 - acc: 0.5692 - val_loss: 1.3373 - val_acc: 0.5214\n",
            "Epoch 16/40\n",
            "50000/50000 [==============================] - 43s 857us/step - loss: 1.2020 - acc: 0.5769 - val_loss: 1.3266 - val_acc: 0.5342\n",
            "Epoch 17/40\n",
            "50000/50000 [==============================] - 43s 865us/step - loss: 1.1817 - acc: 0.5849 - val_loss: 1.3213 - val_acc: 0.5339\n",
            "Epoch 18/40\n",
            "50000/50000 [==============================] - 43s 870us/step - loss: 1.1644 - acc: 0.5895 - val_loss: 1.3600 - val_acc: 0.5253\n",
            "Epoch 19/40\n",
            "50000/50000 [==============================] - 45s 909us/step - loss: 1.1423 - acc: 0.5991 - val_loss: 1.3647 - val_acc: 0.5229\n",
            "Epoch 20/40\n",
            "50000/50000 [==============================] - 44s 876us/step - loss: 1.1182 - acc: 0.6063 - val_loss: 1.4212 - val_acc: 0.5086\n",
            "Epoch 21/40\n",
            "50000/50000 [==============================] - 44s 872us/step - loss: 1.0988 - acc: 0.6151 - val_loss: 1.3119 - val_acc: 0.5412\n",
            "Epoch 22/40\n",
            "50000/50000 [==============================] - 44s 878us/step - loss: 1.0834 - acc: 0.6191 - val_loss: 1.2925 - val_acc: 0.5488\n",
            "Epoch 23/40\n",
            "50000/50000 [==============================] - 45s 892us/step - loss: 1.0620 - acc: 0.6274 - val_loss: 1.3326 - val_acc: 0.5402\n",
            "Epoch 24/40\n",
            "50000/50000 [==============================] - 44s 871us/step - loss: 1.0431 - acc: 0.6342 - val_loss: 1.3473 - val_acc: 0.5327\n",
            "Epoch 25/40\n",
            "50000/50000 [==============================] - 43s 859us/step - loss: 1.0266 - acc: 0.6407 - val_loss: 1.3522 - val_acc: 0.5285\n",
            "Epoch 26/40\n",
            "50000/50000 [==============================] - 45s 899us/step - loss: 1.0077 - acc: 0.6463 - val_loss: 1.3031 - val_acc: 0.5451\n",
            "Epoch 27/40\n",
            "50000/50000 [==============================] - 43s 869us/step - loss: 0.9875 - acc: 0.6543 - val_loss: 1.3698 - val_acc: 0.5231\n",
            "Epoch 28/40\n",
            "50000/50000 [==============================] - 44s 871us/step - loss: 0.9717 - acc: 0.6597 - val_loss: 1.2903 - val_acc: 0.5548\n",
            "Epoch 29/40\n",
            "50000/50000 [==============================] - 43s 866us/step - loss: 0.9551 - acc: 0.6645 - val_loss: 1.2876 - val_acc: 0.5528\n",
            "Epoch 30/40\n",
            "50000/50000 [==============================] - 44s 879us/step - loss: 0.9354 - acc: 0.6730 - val_loss: 1.3763 - val_acc: 0.5383\n",
            "Epoch 31/40\n",
            "50000/50000 [==============================] - 44s 881us/step - loss: 0.9219 - acc: 0.6775 - val_loss: 1.4142 - val_acc: 0.5192\n",
            "Epoch 32/40\n",
            "50000/50000 [==============================] - 44s 890us/step - loss: 0.9077 - acc: 0.6846 - val_loss: 1.3892 - val_acc: 0.5319\n",
            "Epoch 33/40\n",
            "50000/50000 [==============================] - 44s 882us/step - loss: 0.8876 - acc: 0.6894 - val_loss: 1.3541 - val_acc: 0.5426\n",
            "Epoch 34/40\n",
            "50000/50000 [==============================] - 43s 862us/step - loss: 0.8740 - acc: 0.6938 - val_loss: 1.3363 - val_acc: 0.5480\n",
            "Epoch 35/40\n",
            "50000/50000 [==============================] - 43s 861us/step - loss: 0.8544 - acc: 0.7037 - val_loss: 1.4546 - val_acc: 0.5266\n",
            "Epoch 36/40\n",
            "50000/50000 [==============================] - 43s 857us/step - loss: 0.8408 - acc: 0.7069 - val_loss: 1.3331 - val_acc: 0.5622\n",
            "Epoch 37/40\n",
            "50000/50000 [==============================] - 43s 862us/step - loss: 0.8257 - acc: 0.7090 - val_loss: 1.3160 - val_acc: 0.5547\n",
            "Epoch 38/40\n",
            "50000/50000 [==============================] - 44s 872us/step - loss: 0.8074 - acc: 0.7178 - val_loss: 1.3520 - val_acc: 0.5497\n",
            "Epoch 39/40\n",
            "50000/50000 [==============================] - 43s 866us/step - loss: 0.7928 - acc: 0.7228 - val_loss: 1.4349 - val_acc: 0.5298\n",
            "Epoch 40/40\n",
            "50000/50000 [==============================] - 45s 891us/step - loss: 0.7773 - acc: 0.7292 - val_loss: 1.3383 - val_acc: 0.5561\n",
            "Test loss: 1.3383456182479858\n",
            "Test accuracy: 0.5561\n"
          ],
          "name": "stdout"
        }
      ]
    }
  ]
}