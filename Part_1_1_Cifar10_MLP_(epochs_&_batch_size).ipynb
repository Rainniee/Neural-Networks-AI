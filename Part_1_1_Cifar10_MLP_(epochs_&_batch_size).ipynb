{
  "nbformat": 4,
  "nbformat_minor": 0,
  "metadata": {
    "colab": {
      "name": "Part 1.1_Cifar10_MLP (epochs & batch size).ipynb",
      "version": "0.3.2",
      "provenance": [],
      "include_colab_link": true
    },
    "kernelspec": {
      "name": "python3",
      "display_name": "Python 3"
    },
    "accelerator": "GPU"
  },
  "cells": [
    {
      "cell_type": "markdown",
      "metadata": {
        "id": "view-in-github",
        "colab_type": "text"
      },
      "source": [
        "<a href=\"https://colab.research.google.com/github/Rainniee/Neural-Networks-AI/blob/master/Part_1_1_Cifar10_MLP_(epochs_%26_batch_size).ipynb\" target=\"_parent\"><img src=\"https://colab.research.google.com/assets/colab-badge.svg\" alt=\"Open In Colab\"/></a>"
      ]
    },
    {
      "metadata": {
        "id": "zlBuW1u0q4yT",
        "colab_type": "text"
      },
      "cell_type": "markdown",
      "source": [
        "### Original Model For Cifar_10 MLP"
      ]
    },
    {
      "metadata": {
        "id": "S7LXlpy0qrIB",
        "colab_type": "code",
        "colab": {
          "base_uri": "https://localhost:8080/",
          "height": 34
        },
        "outputId": "8849ad67-b3ba-4a16-c2b9-6eb454d31ad4"
      },
      "cell_type": "code",
      "source": [
        "from __future__ import print_function\n",
        "\n",
        "import keras\n",
        "from keras.datasets import mnist\n",
        "from keras.models import Sequential\n",
        "from keras.layers import Dense, Dropout\n",
        "from keras.optimizers import RMSprop\n",
        "\n",
        "from keras.datasets import cifar10"
      ],
      "execution_count": 1,
      "outputs": [
        {
          "output_type": "stream",
          "text": [
            "Using TensorFlow backend.\n"
          ],
          "name": "stderr"
        }
      ]
    },
    {
      "metadata": {
        "id": "_hz1bG3EreYM",
        "colab_type": "text"
      },
      "cell_type": "markdown",
      "source": [
        "\n",
        "\n",
        "\n",
        "```\n",
        "The following configuration used to build the model:\n",
        "\n",
        "1. No of epochs: 10\n",
        "2. Batch size: 128\n",
        "3. Network configuration\n",
        "    i. Number of neurons in a layer: 512\n",
        "    ii. Number of layers: 3\n",
        "4. Learning rate: 0.001\n",
        "5. Activation functions: relu\n",
        "6. Dropout rates: 0.2\n",
        "```\n",
        "\n"
      ]
    },
    {
      "metadata": {
        "id": "MbJLK46hrOvR",
        "colab_type": "code",
        "colab": {}
      },
      "cell_type": "code",
      "source": [
        "batch_size = 128\n",
        "num_classes = 10\n",
        "epochs = 10"
      ],
      "execution_count": 0,
      "outputs": []
    },
    {
      "metadata": {
        "id": "VMZFz7Dyrcoi",
        "colab_type": "code",
        "colab": {
          "base_uri": "https://localhost:8080/",
          "height": 85
        },
        "outputId": "80854cb9-22bb-473b-e18f-861bb80495d1"
      },
      "cell_type": "code",
      "source": [
        "# the data, split between train and test sets\n",
        "(x_train, y_train), (x_test, y_test) = cifar10.load_data()\n",
        "\n",
        "x_train = x_train.reshape(-1, 3072)\n",
        "x_test = x_test.reshape(-1, 3072)\n",
        "x_train = x_train.astype('float32')\n",
        "x_test = x_test.astype('float32')\n",
        "x_train /= 255\n",
        "x_test /= 255\n",
        "print(x_train.shape[0], 'train samples')\n",
        "print(x_test.shape[0], 'test samples')"
      ],
      "execution_count": 4,
      "outputs": [
        {
          "output_type": "stream",
          "text": [
            "Downloading data from https://www.cs.toronto.edu/~kriz/cifar-10-python.tar.gz\n",
            "170500096/170498071 [==============================] - 45s 0us/step\n",
            "50000 train samples\n",
            "10000 test samples\n"
          ],
          "name": "stdout"
        }
      ]
    },
    {
      "metadata": {
        "id": "D3mXfLk7rct0",
        "colab_type": "code",
        "colab": {
          "base_uri": "https://localhost:8080/",
          "height": 306
        },
        "outputId": "20d663d0-297a-47a1-f127-4e39c8a24ecd"
      },
      "cell_type": "code",
      "source": [
        "# convert class vectors to binary class matrices\n",
        "y_train = keras.utils.to_categorical(y_train, num_classes)\n",
        "y_test = keras.utils.to_categorical(y_test, num_classes)\n",
        "\n",
        "model = Sequential()\n",
        "model.add(Dense(512, activation='relu', input_shape=(3072,)))\n",
        "model.add(Dropout(0.2))\n",
        "model.add(Dense(512, activation='relu'))\n",
        "model.add(Dropout(0.2))\n",
        "model.add(Dense(num_classes, activation='softmax'))\n",
        "\n",
        "model.summary()"
      ],
      "execution_count": 5,
      "outputs": [
        {
          "output_type": "stream",
          "text": [
            "_________________________________________________________________\n",
            "Layer (type)                 Output Shape              Param #   \n",
            "=================================================================\n",
            "dense_1 (Dense)              (None, 512)               1573376   \n",
            "_________________________________________________________________\n",
            "dropout_1 (Dropout)          (None, 512)               0         \n",
            "_________________________________________________________________\n",
            "dense_2 (Dense)              (None, 512)               262656    \n",
            "_________________________________________________________________\n",
            "dropout_2 (Dropout)          (None, 512)               0         \n",
            "_________________________________________________________________\n",
            "dense_3 (Dense)              (None, 10)                5130      \n",
            "=================================================================\n",
            "Total params: 1,841,162\n",
            "Trainable params: 1,841,162\n",
            "Non-trainable params: 0\n",
            "_________________________________________________________________\n"
          ],
          "name": "stdout"
        }
      ]
    },
    {
      "metadata": {
        "id": "C986S7ChrcmM",
        "colab_type": "code",
        "colab": {}
      },
      "cell_type": "code",
      "source": [
        "# initiate RMSprop optimizer\n",
        "opt = keras.optimizers.rmsprop(lr=0.001, decay=1e-6)"
      ],
      "execution_count": 0,
      "outputs": []
    },
    {
      "metadata": {
        "id": "5I3esozBtLQ5",
        "colab_type": "code",
        "colab": {
          "base_uri": "https://localhost:8080/",
          "height": 408
        },
        "outputId": "4421ad59-96f9-4e4a-a164-d3955f9e3fcf"
      },
      "cell_type": "code",
      "source": [
        "model.compile(loss='categorical_crossentropy',\n",
        "              optimizer=opt,\n",
        "              metrics=['accuracy'])\n",
        "\n",
        "history = model.fit(x_train, y_train,\n",
        "                    batch_size=batch_size,\n",
        "                    epochs=epochs,\n",
        "                    verbose=1,\n",
        "                    validation_data=(x_test, y_test))\n",
        "score = model.evaluate(x_test, y_test, verbose=0)\n",
        "print('Test loss:', score[0])\n",
        "print('Test accuracy:', score[1])"
      ],
      "execution_count": 7,
      "outputs": [
        {
          "output_type": "stream",
          "text": [
            "Train on 50000 samples, validate on 10000 samples\n",
            "Epoch 1/10\n",
            "50000/50000 [==============================] - 5s 107us/step - loss: 2.1971 - acc: 0.2475 - val_loss: 1.8578 - val_acc: 0.3230\n",
            "Epoch 2/10\n",
            "50000/50000 [==============================] - 3s 64us/step - loss: 1.8551 - acc: 0.3295 - val_loss: 1.7897 - val_acc: 0.3364\n",
            "Epoch 3/10\n",
            "50000/50000 [==============================] - 3s 64us/step - loss: 1.7790 - acc: 0.3616 - val_loss: 1.6973 - val_acc: 0.3998\n",
            "Epoch 4/10\n",
            "50000/50000 [==============================] - 3s 63us/step - loss: 1.7311 - acc: 0.3800 - val_loss: 1.6578 - val_acc: 0.4132\n",
            "Epoch 5/10\n",
            "50000/50000 [==============================] - 3s 63us/step - loss: 1.6920 - acc: 0.3956 - val_loss: 1.6559 - val_acc: 0.4062\n",
            "Epoch 6/10\n",
            "50000/50000 [==============================] - 3s 63us/step - loss: 1.6601 - acc: 0.4051 - val_loss: 1.5752 - val_acc: 0.4379\n",
            "Epoch 7/10\n",
            "50000/50000 [==============================] - 3s 62us/step - loss: 1.6456 - acc: 0.4116 - val_loss: 1.5906 - val_acc: 0.4442\n",
            "Epoch 8/10\n",
            "50000/50000 [==============================] - 3s 63us/step - loss: 1.6252 - acc: 0.4173 - val_loss: 1.5624 - val_acc: 0.4437\n",
            "Epoch 9/10\n",
            "50000/50000 [==============================] - 3s 63us/step - loss: 1.6106 - acc: 0.4237 - val_loss: 1.6775 - val_acc: 0.4031\n",
            "Epoch 10/10\n",
            "50000/50000 [==============================] - 3s 63us/step - loss: 1.5938 - acc: 0.4314 - val_loss: 1.5914 - val_acc: 0.4362\n",
            "Test loss: 1.5913666017532349\n",
            "Test accuracy: 0.4362\n"
          ],
          "name": "stdout"
        }
      ]
    },
    {
      "metadata": {
        "id": "BoMhsjnPt0VW",
        "colab_type": "code",
        "colab": {
          "base_uri": "https://localhost:8080/",
          "height": 762
        },
        "outputId": "fa96eaa5-1315-483f-fddd-49b267f1d3e5"
      },
      "cell_type": "code",
      "source": [
        "import matplotlib.pyplot as plt\n",
        "import numpy as np\n",
        "\n",
        "plt.figure(0)\n",
        "plt.plot(history.history['acc'],'r')\n",
        "plt.plot(history.history['val_acc'],'g')\n",
        "plt.xticks(np.arange(0, 12, 2.0))\n",
        "plt.rcParams['figure.figsize'] = (8, 6)\n",
        "plt.xlabel(\"Num of Epochs\")\n",
        "plt.ylabel(\"Accuracy\")\n",
        "plt.title(\"Training Accuracy vs Validation Accuracy\")\n",
        "plt.legend(['train','validation'])\n",
        "\n",
        "plt.figure(1)\n",
        "plt.plot(history.history['loss'],'r')\n",
        "plt.plot(history.history['val_loss'],'g')\n",
        "plt.xticks(np.arange(0, 12, 2.0))\n",
        "plt.rcParams['figure.figsize'] = (8, 6)\n",
        "plt.xlabel(\"Num of Epochs\")\n",
        "plt.ylabel(\"Loss\")\n",
        "plt.title(\"Training Loss vs Validation Loss\")\n",
        "plt.legend(['train','validation'])\n",
        " \n",
        "plt.show() "
      ],
      "execution_count": 8,
      "outputs": [
        {
          "output_type": "display_data",
          "data": {
            "image/png": "[encoded data removed]",
            "text/plain": [
              "<Figure size 576x396 with 1 Axes>"
            ]
          },
          "metadata": {
            "tags": []
          }
        },
        {
          "output_type": "display_data",
          "data": {
            "image/png": "[encoded data removed]",
            "text/plain": [
              "<Figure size 576x432 with 1 Axes>"
            ]
          },
          "metadata": {
            "tags": []
          }
        }
      ]
    },
    {
      "metadata": {
        "id": "QdS5tAo6uNA4",
        "colab_type": "text"
      },
      "cell_type": "markdown",
      "source": [
        "### Modifying Model For Cifar_10 MLP"
      ]
    },
    {
      "metadata": {
        "id": "zhdMIdOKt-MF",
        "colab_type": "text"
      },
      "cell_type": "markdown",
      "source": [
        "***1.1 Modify the empochs number from 10 to 20***"
      ]
    },
    {
      "metadata": {
        "id": "3BK94R2ZuIY7",
        "colab_type": "code",
        "colab": {}
      },
      "cell_type": "code",
      "source": [
        "batch_size = 128\n",
        "num_classes = 10\n",
        "epochs = 20"
      ],
      "execution_count": 0,
      "outputs": []
    },
    {
      "metadata": {
        "id": "GH9ptF-yuenC",
        "colab_type": "code",
        "colab": {
          "base_uri": "https://localhost:8080/",
          "height": 51
        },
        "outputId": "b928bf93-8883-4f51-e1d8-b65d65615925"
      },
      "cell_type": "code",
      "source": [
        "# the data, split between train and test sets\n",
        "(x_train, y_train), (x_test, y_test) = cifar10.load_data()\n",
        "\n",
        "x_train = x_train.reshape(-1, 3072)\n",
        "x_test = x_test.reshape(-1, 3072)\n",
        "x_train = x_train.astype('float32')\n",
        "x_test = x_test.astype('float32')\n",
        "x_train /= 255\n",
        "x_test /= 255\n",
        "print(x_train.shape[0], 'train samples')\n",
        "print(x_test.shape[0], 'test samples')"
      ],
      "execution_count": 11,
      "outputs": [
        {
          "output_type": "stream",
          "text": [
            "50000 train samples\n",
            "10000 test samples\n"
          ],
          "name": "stdout"
        }
      ]
    },
    {
      "metadata": {
        "id": "hx3icsHHukfp",
        "colab_type": "code",
        "colab": {
          "base_uri": "https://localhost:8080/",
          "height": 306
        },
        "outputId": "6aa92d19-affb-4d5c-8143-3fe0648b5d14"
      },
      "cell_type": "code",
      "source": [
        "# convert class vectors to binary class matrices\n",
        "y_train = keras.utils.to_categorical(y_train, num_classes)\n",
        "y_test = keras.utils.to_categorical(y_test, num_classes)\n",
        "\n",
        "model = Sequential()\n",
        "model.add(Dense(512, activation='relu', input_shape=(3072,)))\n",
        "model.add(Dropout(0.2))\n",
        "model.add(Dense(512, activation='relu'))\n",
        "model.add(Dropout(0.2))\n",
        "model.add(Dense(num_classes, activation='softmax'))\n",
        "\n",
        "model.summary()"
      ],
      "execution_count": 12,
      "outputs": [
        {
          "output_type": "stream",
          "text": [
            "_________________________________________________________________\n",
            "Layer (type)                 Output Shape              Param #   \n",
            "=================================================================\n",
            "dense_4 (Dense)              (None, 512)               1573376   \n",
            "_________________________________________________________________\n",
            "dropout_3 (Dropout)          (None, 512)               0         \n",
            "_________________________________________________________________\n",
            "dense_5 (Dense)              (None, 512)               262656    \n",
            "_________________________________________________________________\n",
            "dropout_4 (Dropout)          (None, 512)               0         \n",
            "_________________________________________________________________\n",
            "dense_6 (Dense)              (None, 10)                5130      \n",
            "=================================================================\n",
            "Total params: 1,841,162\n",
            "Trainable params: 1,841,162\n",
            "Non-trainable params: 0\n",
            "_________________________________________________________________\n"
          ],
          "name": "stdout"
        }
      ]
    },
    {
      "metadata": {
        "id": "URgMYUJQulpU",
        "colab_type": "code",
        "colab": {}
      },
      "cell_type": "code",
      "source": [
        "# initiate RMSprop optimizer\n",
        "opt = keras.optimizers.rmsprop(lr=0.001, decay=1e-6)"
      ],
      "execution_count": 0,
      "outputs": []
    },
    {
      "metadata": {
        "id": "FDKOvnjcuqm9",
        "colab_type": "code",
        "colab": {
          "base_uri": "https://localhost:8080/",
          "height": 748
        },
        "outputId": "38bb250e-9970-4479-bd47-d63b8fd522df"
      },
      "cell_type": "code",
      "source": [
        "model.compile(loss='categorical_crossentropy',\n",
        "              optimizer=opt,\n",
        "              metrics=['accuracy'])\n",
        "\n",
        "history = model.fit(x_train, y_train,\n",
        "                    batch_size=batch_size,\n",
        "                    epochs=epochs,\n",
        "                    verbose=1,\n",
        "                    validation_data=(x_test, y_test))\n",
        "score = model.evaluate(x_test, y_test, verbose=0)\n",
        "print('Test loss:', score[0])\n",
        "print('Test accuracy:', score[1])"
      ],
      "execution_count": 14,
      "outputs": [
        {
          "output_type": "stream",
          "text": [
            "Train on 50000 samples, validate on 10000 samples\n",
            "Epoch 1/20\n",
            "50000/50000 [==============================] - 3s 70us/step - loss: 2.1850 - acc: 0.2509 - val_loss: 1.8535 - val_acc: 0.3071\n",
            "Epoch 2/20\n",
            "50000/50000 [==============================] - 3s 65us/step - loss: 1.8593 - acc: 0.3308 - val_loss: 1.7973 - val_acc: 0.3411\n",
            "Epoch 3/20\n",
            "50000/50000 [==============================] - 3s 64us/step - loss: 1.7853 - acc: 0.3565 - val_loss: 1.7144 - val_acc: 0.3808\n",
            "Epoch 4/20\n",
            "50000/50000 [==============================] - 3s 64us/step - loss: 1.7367 - acc: 0.3738 - val_loss: 1.6635 - val_acc: 0.4095\n",
            "Epoch 5/20\n",
            "50000/50000 [==============================] - 3s 64us/step - loss: 1.7027 - acc: 0.3890 - val_loss: 1.6728 - val_acc: 0.4055\n",
            "Epoch 6/20\n",
            "50000/50000 [==============================] - 3s 64us/step - loss: 1.6760 - acc: 0.3981 - val_loss: 1.6467 - val_acc: 0.4014\n",
            "Epoch 7/20\n",
            "50000/50000 [==============================] - 3s 64us/step - loss: 1.6539 - acc: 0.4062 - val_loss: 1.6243 - val_acc: 0.4144\n",
            "Epoch 8/20\n",
            "50000/50000 [==============================] - 3s 64us/step - loss: 1.6450 - acc: 0.4118 - val_loss: 1.5798 - val_acc: 0.4397\n",
            "Epoch 9/20\n",
            "50000/50000 [==============================] - 3s 63us/step - loss: 1.6236 - acc: 0.4193 - val_loss: 1.6309 - val_acc: 0.4242\n",
            "Epoch 10/20\n",
            "50000/50000 [==============================] - 3s 64us/step - loss: 1.6124 - acc: 0.4210 - val_loss: 1.5621 - val_acc: 0.4535\n",
            "Epoch 11/20\n",
            "50000/50000 [==============================] - 3s 64us/step - loss: 1.5988 - acc: 0.4297 - val_loss: 1.5955 - val_acc: 0.4440\n",
            "Epoch 12/20\n",
            "50000/50000 [==============================] - 3s 64us/step - loss: 1.5886 - acc: 0.4307 - val_loss: 1.6252 - val_acc: 0.4160\n",
            "Epoch 13/20\n",
            "50000/50000 [==============================] - 3s 64us/step - loss: 1.5815 - acc: 0.4346 - val_loss: 1.5699 - val_acc: 0.4591\n",
            "Epoch 14/20\n",
            "50000/50000 [==============================] - 3s 64us/step - loss: 1.5724 - acc: 0.4404 - val_loss: 1.5368 - val_acc: 0.4555\n",
            "Epoch 15/20\n",
            "50000/50000 [==============================] - 3s 64us/step - loss: 1.5650 - acc: 0.4406 - val_loss: 1.5286 - val_acc: 0.4640\n",
            "Epoch 16/20\n",
            "50000/50000 [==============================] - 3s 63us/step - loss: 1.5557 - acc: 0.4427 - val_loss: 1.6015 - val_acc: 0.4196\n",
            "Epoch 17/20\n",
            "50000/50000 [==============================] - 3s 63us/step - loss: 1.5547 - acc: 0.4456 - val_loss: 1.5540 - val_acc: 0.4653\n",
            "Epoch 18/20\n",
            "50000/50000 [==============================] - 3s 63us/step - loss: 1.5419 - acc: 0.4531 - val_loss: 1.6108 - val_acc: 0.4313\n",
            "Epoch 19/20\n",
            "50000/50000 [==============================] - 3s 63us/step - loss: 1.5437 - acc: 0.4494 - val_loss: 1.5054 - val_acc: 0.4786\n",
            "Epoch 20/20\n",
            "50000/50000 [==============================] - 3s 63us/step - loss: 1.5395 - acc: 0.4515 - val_loss: 1.4949 - val_acc: 0.4803\n",
            "Test loss: 1.4949335035324096\n",
            "Test accuracy: 0.4803\n"
          ],
          "name": "stdout"
        }
      ]
    },
    {
      "metadata": {
        "id": "rshiTNRy0jVt",
        "colab_type": "text"
      },
      "cell_type": "markdown",
      "source": [
        "***1.2 Modify the empochs number from 20 to 40***"
      ]
    },
    {
      "metadata": {
        "id": "ltleRXro0j8i",
        "colab_type": "code",
        "colab": {}
      },
      "cell_type": "code",
      "source": [
        "batch_size = 128\n",
        "num_classes = 10\n",
        "epochs = 40"
      ],
      "execution_count": 0,
      "outputs": []
    },
    {
      "metadata": {
        "id": "fWjP-3h70rHw",
        "colab_type": "code",
        "colab": {
          "base_uri": "https://localhost:8080/",
          "height": 51
        },
        "outputId": "7a5f0294-ed60-4980-c080-c1cd3943a01c"
      },
      "cell_type": "code",
      "source": [
        "# the data, split between train and test sets\n",
        "(x_train, y_train), (x_test, y_test) = cifar10.load_data()\n",
        "\n",
        "x_train = x_train.reshape(-1, 3072)\n",
        "x_test = x_test.reshape(-1, 3072)\n",
        "x_train = x_train.astype('float32')\n",
        "x_test = x_test.astype('float32')\n",
        "x_train /= 255\n",
        "x_test /= 255\n",
        "print(x_train.shape[0], 'train samples')\n",
        "print(x_test.shape[0], 'test samples')"
      ],
      "execution_count": 16,
      "outputs": [
        {
          "output_type": "stream",
          "text": [
            "50000 train samples\n",
            "10000 test samples\n"
          ],
          "name": "stdout"
        }
      ]
    },
    {
      "metadata": {
        "id": "r144Wljd0rOW",
        "colab_type": "code",
        "colab": {
          "base_uri": "https://localhost:8080/",
          "height": 306
        },
        "outputId": "eec5f131-a6eb-4200-9935-8213a3278b53"
      },
      "cell_type": "code",
      "source": [
        "# convert class vectors to binary class matrices\n",
        "y_train = keras.utils.to_categorical(y_train, num_classes)\n",
        "y_test = keras.utils.to_categorical(y_test, num_classes)\n",
        "\n",
        "model = Sequential()\n",
        "model.add(Dense(512, activation='relu', input_shape=(3072,)))\n",
        "model.add(Dropout(0.2))\n",
        "model.add(Dense(512, activation='relu'))\n",
        "model.add(Dropout(0.2))\n",
        "model.add(Dense(num_classes, activation='softmax'))\n",
        "\n",
        "model.summary()"
      ],
      "execution_count": 17,
      "outputs": [
        {
          "output_type": "stream",
          "text": [
            "_________________________________________________________________\n",
            "Layer (type)                 Output Shape              Param #   \n",
            "=================================================================\n",
            "dense_7 (Dense)              (None, 512)               1573376   \n",
            "_________________________________________________________________\n",
            "dropout_5 (Dropout)          (None, 512)               0         \n",
            "_________________________________________________________________\n",
            "dense_8 (Dense)              (None, 512)               262656    \n",
            "_________________________________________________________________\n",
            "dropout_6 (Dropout)          (None, 512)               0         \n",
            "_________________________________________________________________\n",
            "dense_9 (Dense)              (None, 10)                5130      \n",
            "=================================================================\n",
            "Total params: 1,841,162\n",
            "Trainable params: 1,841,162\n",
            "Non-trainable params: 0\n",
            "_________________________________________________________________\n"
          ],
          "name": "stdout"
        }
      ]
    },
    {
      "metadata": {
        "id": "4C1RhAJP0rTR",
        "colab_type": "code",
        "colab": {
          "base_uri": "https://localhost:8080/",
          "height": 1428
        },
        "outputId": "63a75cbf-03b8-44f7-b552-df69f02a7966"
      },
      "cell_type": "code",
      "source": [
        "# initiate RMSprop optimizer\n",
        "opt = keras.optimizers.rmsprop(lr=0.001, decay=1e-6)\n",
        "\n",
        "model.compile(loss='categorical_crossentropy',\n",
        "              optimizer=opt,\n",
        "              metrics=['accuracy'])\n",
        "\n",
        "history = model.fit(x_train, y_train,\n",
        "                    batch_size=batch_size,\n",
        "                    epochs=epochs,\n",
        "                    verbose=1,\n",
        "                    validation_data=(x_test, y_test))\n",
        "score = model.evaluate(x_test, y_test, verbose=0)\n",
        "print('Test loss:', score[0])\n",
        "print('Test accuracy:', score[1])"
      ],
      "execution_count": 18,
      "outputs": [
        {
          "output_type": "stream",
          "text": [
            "Train on 50000 samples, validate on 10000 samples\n",
            "Epoch 1/40\n",
            "50000/50000 [==============================] - 4s 72us/step - loss: 2.1531 - acc: 0.2474 - val_loss: 1.8684 - val_acc: 0.3079\n",
            "Epoch 2/40\n",
            "50000/50000 [==============================] - 3s 65us/step - loss: 1.8577 - acc: 0.3290 - val_loss: 1.8018 - val_acc: 0.3517\n",
            "Epoch 3/40\n",
            "50000/50000 [==============================] - 3s 64us/step - loss: 1.7869 - acc: 0.3585 - val_loss: 1.7184 - val_acc: 0.3813\n",
            "Epoch 4/40\n",
            "50000/50000 [==============================] - 3s 64us/step - loss: 1.7439 - acc: 0.3756 - val_loss: 1.6732 - val_acc: 0.4125\n",
            "Epoch 5/40\n",
            "50000/50000 [==============================] - 3s 64us/step - loss: 1.7077 - acc: 0.3874 - val_loss: 1.6429 - val_acc: 0.4260\n",
            "Epoch 6/40\n",
            "50000/50000 [==============================] - 3s 64us/step - loss: 1.6789 - acc: 0.3992 - val_loss: 1.6458 - val_acc: 0.4186\n",
            "Epoch 7/40\n",
            "50000/50000 [==============================] - 3s 64us/step - loss: 1.6551 - acc: 0.4078 - val_loss: 1.5951 - val_acc: 0.4366\n",
            "Epoch 8/40\n",
            "50000/50000 [==============================] - 3s 64us/step - loss: 1.6352 - acc: 0.4164 - val_loss: 1.6270 - val_acc: 0.4072\n",
            "Epoch 9/40\n",
            "50000/50000 [==============================] - 3s 64us/step - loss: 1.6218 - acc: 0.4194 - val_loss: 1.5590 - val_acc: 0.4565\n",
            "Epoch 10/40\n",
            "50000/50000 [==============================] - 3s 64us/step - loss: 1.6031 - acc: 0.4292 - val_loss: 1.5703 - val_acc: 0.4474\n",
            "Epoch 11/40\n",
            "50000/50000 [==============================] - 3s 64us/step - loss: 1.5888 - acc: 0.4297 - val_loss: 1.5547 - val_acc: 0.4549\n",
            "Epoch 12/40\n",
            "50000/50000 [==============================] - 3s 64us/step - loss: 1.5800 - acc: 0.4330 - val_loss: 1.5591 - val_acc: 0.4391\n",
            "Epoch 13/40\n",
            "50000/50000 [==============================] - 3s 64us/step - loss: 1.5685 - acc: 0.4389 - val_loss: 1.5380 - val_acc: 0.4553\n",
            "Epoch 14/40\n",
            "50000/50000 [==============================] - 3s 64us/step - loss: 1.5638 - acc: 0.4448 - val_loss: 1.5421 - val_acc: 0.4581\n",
            "Epoch 15/40\n",
            "50000/50000 [==============================] - 3s 64us/step - loss: 1.5489 - acc: 0.4455 - val_loss: 1.5431 - val_acc: 0.4482\n",
            "Epoch 16/40\n",
            "50000/50000 [==============================] - 3s 64us/step - loss: 1.5465 - acc: 0.4495 - val_loss: 1.5831 - val_acc: 0.4391\n",
            "Epoch 17/40\n",
            "50000/50000 [==============================] - 3s 64us/step - loss: 1.5354 - acc: 0.4545 - val_loss: 1.5320 - val_acc: 0.4472\n",
            "Epoch 18/40\n",
            "50000/50000 [==============================] - 3s 64us/step - loss: 1.5283 - acc: 0.4532 - val_loss: 1.4940 - val_acc: 0.4763\n",
            "Epoch 19/40\n",
            "50000/50000 [==============================] - 3s 64us/step - loss: 1.5254 - acc: 0.4570 - val_loss: 1.5511 - val_acc: 0.4491\n",
            "Epoch 20/40\n",
            "50000/50000 [==============================] - 3s 64us/step - loss: 1.5223 - acc: 0.4577 - val_loss: 1.5516 - val_acc: 0.4385\n",
            "Epoch 21/40\n",
            "50000/50000 [==============================] - 3s 63us/step - loss: 1.5156 - acc: 0.4588 - val_loss: 1.4667 - val_acc: 0.4840\n",
            "Epoch 22/40\n",
            "50000/50000 [==============================] - 3s 63us/step - loss: 1.5079 - acc: 0.4631 - val_loss: 1.5258 - val_acc: 0.4682\n",
            "Epoch 23/40\n",
            "50000/50000 [==============================] - 3s 63us/step - loss: 1.5115 - acc: 0.4621 - val_loss: 1.4950 - val_acc: 0.4784\n",
            "Epoch 24/40\n",
            "50000/50000 [==============================] - 3s 63us/step - loss: 1.5018 - acc: 0.4662 - val_loss: 1.4650 - val_acc: 0.4910\n",
            "Epoch 25/40\n",
            "50000/50000 [==============================] - 3s 63us/step - loss: 1.4985 - acc: 0.4657 - val_loss: 1.4900 - val_acc: 0.4793\n",
            "Epoch 26/40\n",
            "50000/50000 [==============================] - 3s 63us/step - loss: 1.4915 - acc: 0.4683 - val_loss: 1.5459 - val_acc: 0.4550\n",
            "Epoch 27/40\n",
            "50000/50000 [==============================] - 3s 63us/step - loss: 1.4919 - acc: 0.4702 - val_loss: 1.5176 - val_acc: 0.4661\n",
            "Epoch 28/40\n",
            "50000/50000 [==============================] - 3s 63us/step - loss: 1.4892 - acc: 0.4711 - val_loss: 1.4942 - val_acc: 0.4725\n",
            "Epoch 29/40\n",
            "50000/50000 [==============================] - 3s 63us/step - loss: 1.4828 - acc: 0.4731 - val_loss: 1.5208 - val_acc: 0.4742\n",
            "Epoch 30/40\n",
            "50000/50000 [==============================] - 3s 63us/step - loss: 1.4813 - acc: 0.4730 - val_loss: 1.4447 - val_acc: 0.4815\n",
            "Epoch 31/40\n",
            "50000/50000 [==============================] - 3s 63us/step - loss: 1.4760 - acc: 0.4752 - val_loss: 1.4890 - val_acc: 0.4648\n",
            "Epoch 32/40\n",
            "50000/50000 [==============================] - 3s 63us/step - loss: 1.4739 - acc: 0.4775 - val_loss: 1.4816 - val_acc: 0.4792\n",
            "Epoch 33/40\n",
            "50000/50000 [==============================] - 3s 64us/step - loss: 1.4775 - acc: 0.4756 - val_loss: 1.4773 - val_acc: 0.4848\n",
            "Epoch 34/40\n",
            "50000/50000 [==============================] - 3s 63us/step - loss: 1.4767 - acc: 0.4749 - val_loss: 1.4910 - val_acc: 0.4744\n",
            "Epoch 35/40\n",
            "50000/50000 [==============================] - 3s 63us/step - loss: 1.4674 - acc: 0.4791 - val_loss: 1.4902 - val_acc: 0.4622\n",
            "Epoch 36/40\n",
            "50000/50000 [==============================] - 3s 63us/step - loss: 1.4688 - acc: 0.4788 - val_loss: 1.4593 - val_acc: 0.4894\n",
            "Epoch 37/40\n",
            "50000/50000 [==============================] - 3s 63us/step - loss: 1.4607 - acc: 0.4848 - val_loss: 1.4645 - val_acc: 0.4781\n",
            "Epoch 38/40\n",
            "50000/50000 [==============================] - 3s 63us/step - loss: 1.4602 - acc: 0.4828 - val_loss: 1.4476 - val_acc: 0.4944\n",
            "Epoch 39/40\n",
            "50000/50000 [==============================] - 3s 63us/step - loss: 1.4573 - acc: 0.4822 - val_loss: 1.4610 - val_acc: 0.4818\n",
            "Epoch 40/40\n",
            "50000/50000 [==============================] - 3s 63us/step - loss: 1.4548 - acc: 0.4863 - val_loss: 1.4752 - val_acc: 0.4895\n",
            "Test loss: 1.4752250045776367\n",
            "Test accuracy: 0.4895\n"
          ],
          "name": "stdout"
        }
      ]
    },
    {
      "metadata": {
        "id": "ZN-sVu3J2rq8",
        "colab_type": "text"
      },
      "cell_type": "markdown",
      "source": [
        "\n",
        "**Modified Results:**\n",
        "```\n",
        "**The accuracy increased with the epochs increased.**\n",
        "**The loss decreased with the epochs increased.**\n",
        "**There is a positive effect within the epochs number and the model performance.**\n",
        "```\n",
        "\n"
      ]
    },
    {
      "metadata": {
        "id": "4aedDC-a3z3q",
        "colab_type": "text"
      },
      "cell_type": "markdown",
      "source": [
        "\n",
        "\n",
        "```\n",
        "```\n",
        "\n"
      ]
    },
    {
      "metadata": {
        "id": "PjTiW2Dq32cM",
        "colab_type": "text"
      },
      "cell_type": "markdown",
      "source": [
        "***2.1 Modify the batch size from 128 to 32***"
      ]
    },
    {
      "metadata": {
        "id": "_p5fgLOM4JzV",
        "colab_type": "code",
        "colab": {}
      },
      "cell_type": "code",
      "source": [
        "batch_size = 32\n",
        "num_classes = 10\n",
        "epochs = 10"
      ],
      "execution_count": 0,
      "outputs": []
    },
    {
      "metadata": {
        "id": "TgY9DDlm4J7M",
        "colab_type": "code",
        "colab": {
          "base_uri": "https://localhost:8080/",
          "height": 51
        },
        "outputId": "1f1a5519-44ac-41ab-ebb2-4128fe73e6cd"
      },
      "cell_type": "code",
      "source": [
        "# the data, split between train and test sets\n",
        "(x_train, y_train), (x_test, y_test) = cifar10.load_data()\n",
        "\n",
        "x_train = x_train.reshape(-1, 3072)\n",
        "x_test = x_test.reshape(-1, 3072)\n",
        "x_train = x_train.astype('float32')\n",
        "x_test = x_test.astype('float32')\n",
        "x_train /= 255\n",
        "x_test /= 255\n",
        "print(x_train.shape[0], 'train samples')\n",
        "print(x_test.shape[0], 'test samples')"
      ],
      "execution_count": 25,
      "outputs": [
        {
          "output_type": "stream",
          "text": [
            "50000 train samples\n",
            "10000 test samples\n"
          ],
          "name": "stdout"
        }
      ]
    },
    {
      "metadata": {
        "id": "UF-oFN3W4J_J",
        "colab_type": "code",
        "colab": {
          "base_uri": "https://localhost:8080/",
          "height": 306
        },
        "outputId": "13b28155-1dc4-4ae6-c7a0-0fc3fb0cdbb5"
      },
      "cell_type": "code",
      "source": [
        "# convert class vectors to binary class matrices\n",
        "y_train = keras.utils.to_categorical(y_train, num_classes)\n",
        "y_test = keras.utils.to_categorical(y_test, num_classes)\n",
        "\n",
        "model = Sequential()\n",
        "model.add(Dense(512, activation='relu', input_shape=(3072,)))\n",
        "model.add(Dropout(0.2))\n",
        "model.add(Dense(512, activation='relu'))\n",
        "model.add(Dropout(0.2))\n",
        "model.add(Dense(num_classes, activation='softmax'))\n",
        "\n",
        "model.summary()"
      ],
      "execution_count": 26,
      "outputs": [
        {
          "output_type": "stream",
          "text": [
            "_________________________________________________________________\n",
            "Layer (type)                 Output Shape              Param #   \n",
            "=================================================================\n",
            "dense_16 (Dense)             (None, 512)               1573376   \n",
            "_________________________________________________________________\n",
            "dropout_11 (Dropout)         (None, 512)               0         \n",
            "_________________________________________________________________\n",
            "dense_17 (Dense)             (None, 512)               262656    \n",
            "_________________________________________________________________\n",
            "dropout_12 (Dropout)         (None, 512)               0         \n",
            "_________________________________________________________________\n",
            "dense_18 (Dense)             (None, 10)                5130      \n",
            "=================================================================\n",
            "Total params: 1,841,162\n",
            "Trainable params: 1,841,162\n",
            "Non-trainable params: 0\n",
            "_________________________________________________________________\n"
          ],
          "name": "stdout"
        }
      ]
    },
    {
      "metadata": {
        "id": "IkdZiSBt4J4_",
        "colab_type": "code",
        "colab": {
          "base_uri": "https://localhost:8080/",
          "height": 408
        },
        "outputId": "bd35755f-0f4e-4a00-958e-018c0fc51559"
      },
      "cell_type": "code",
      "source": [
        "model.compile(loss='categorical_crossentropy',\n",
        "              optimizer=opt,\n",
        "              metrics=['accuracy'])\n",
        "\n",
        "history = model.fit(x_train, y_train,\n",
        "                    batch_size=batch_size,\n",
        "                    epochs=epochs,\n",
        "                    verbose=1,\n",
        "                    validation_data=(x_test, y_test))\n",
        "score = model.evaluate(x_test, y_test, verbose=0)\n",
        "print('Test loss:', score[0])\n",
        "print('Test accuracy:', score[1])"
      ],
      "execution_count": 27,
      "outputs": [
        {
          "output_type": "stream",
          "text": [
            "Train on 50000 samples, validate on 10000 samples\n",
            "Epoch 1/10\n",
            "50000/50000 [==============================] - 11s 224us/step - loss: 2.0327 - acc: 0.2665 - val_loss: 1.8921 - val_acc: 0.3320\n",
            "Epoch 2/10\n",
            "50000/50000 [==============================] - 11s 217us/step - loss: 1.8657 - acc: 0.3232 - val_loss: 1.7853 - val_acc: 0.3563\n",
            "Epoch 3/10\n",
            "50000/50000 [==============================] - 11s 218us/step - loss: 1.8215 - acc: 0.3418 - val_loss: 1.7417 - val_acc: 0.3731\n",
            "Epoch 4/10\n",
            "50000/50000 [==============================] - 11s 217us/step - loss: 1.8051 - acc: 0.3477 - val_loss: 1.8135 - val_acc: 0.3564\n",
            "Epoch 5/10\n",
            "50000/50000 [==============================] - 11s 217us/step - loss: 1.7939 - acc: 0.3561 - val_loss: 1.6960 - val_acc: 0.3862\n",
            "Epoch 6/10\n",
            "50000/50000 [==============================] - 11s 217us/step - loss: 1.7889 - acc: 0.3580 - val_loss: 1.7046 - val_acc: 0.3983\n",
            "Epoch 7/10\n",
            "50000/50000 [==============================] - 11s 216us/step - loss: 1.7841 - acc: 0.3608 - val_loss: 1.6879 - val_acc: 0.3855\n",
            "Epoch 8/10\n",
            "50000/50000 [==============================] - 11s 216us/step - loss: 1.7816 - acc: 0.3616 - val_loss: 1.7016 - val_acc: 0.3863\n",
            "Epoch 9/10\n",
            "50000/50000 [==============================] - 11s 216us/step - loss: 1.7789 - acc: 0.3636 - val_loss: 1.7135 - val_acc: 0.3876\n",
            "Epoch 10/10\n",
            "50000/50000 [==============================] - 11s 216us/step - loss: 1.7723 - acc: 0.3653 - val_loss: 1.6873 - val_acc: 0.3942\n",
            "Test loss: 1.6872755857467652\n",
            "Test accuracy: 0.3942\n"
          ],
          "name": "stdout"
        }
      ]
    },
    {
      "metadata": {
        "id": "ezNUXDgQ4_E9",
        "colab_type": "text"
      },
      "cell_type": "markdown",
      "source": [
        "***2.2 Modify the batch size from 128 to 256***"
      ]
    },
    {
      "metadata": {
        "id": "1kBhlAgw5DaA",
        "colab_type": "code",
        "colab": {}
      },
      "cell_type": "code",
      "source": [
        "batch_size = 256\n",
        "num_classes = 10\n",
        "epochs = 10"
      ],
      "execution_count": 0,
      "outputs": []
    },
    {
      "metadata": {
        "id": "IsgtJWm65DhZ",
        "colab_type": "code",
        "colab": {
          "base_uri": "https://localhost:8080/",
          "height": 51
        },
        "outputId": "fa3b21be-f351-44df-eafa-e8ac518bf03f"
      },
      "cell_type": "code",
      "source": [
        "# the data, split between train and test sets\n",
        "(x_train, y_train), (x_test, y_test) = cifar10.load_data()\n",
        "\n",
        "x_train = x_train.reshape(-1, 3072)\n",
        "x_test = x_test.reshape(-1, 3072)\n",
        "x_train = x_train.astype('float32')\n",
        "x_test = x_test.astype('float32')\n",
        "x_train /= 255\n",
        "x_test /= 255\n",
        "print(x_train.shape[0], 'train samples')\n",
        "print(x_test.shape[0], 'test samples')"
      ],
      "execution_count": 29,
      "outputs": [
        {
          "output_type": "stream",
          "text": [
            "50000 train samples\n",
            "10000 test samples\n"
          ],
          "name": "stdout"
        }
      ]
    },
    {
      "metadata": {
        "id": "BfJTek5U5Dnz",
        "colab_type": "code",
        "colab": {
          "base_uri": "https://localhost:8080/",
          "height": 306
        },
        "outputId": "2af4edb0-9e06-4b3c-e208-24fa0866fc0e"
      },
      "cell_type": "code",
      "source": [
        "# convert class vectors to binary class matrices\n",
        "y_train = keras.utils.to_categorical(y_train, num_classes)\n",
        "y_test = keras.utils.to_categorical(y_test, num_classes)\n",
        "\n",
        "model = Sequential()\n",
        "model.add(Dense(512, activation='relu', input_shape=(3072,)))\n",
        "model.add(Dropout(0.2))\n",
        "model.add(Dense(512, activation='relu'))\n",
        "model.add(Dropout(0.2))\n",
        "model.add(Dense(num_classes, activation='softmax'))\n",
        "\n",
        "model.summary()"
      ],
      "execution_count": 30,
      "outputs": [
        {
          "output_type": "stream",
          "text": [
            "_________________________________________________________________\n",
            "Layer (type)                 Output Shape              Param #   \n",
            "=================================================================\n",
            "dense_19 (Dense)             (None, 512)               1573376   \n",
            "_________________________________________________________________\n",
            "dropout_13 (Dropout)         (None, 512)               0         \n",
            "_________________________________________________________________\n",
            "dense_20 (Dense)             (None, 512)               262656    \n",
            "_________________________________________________________________\n",
            "dropout_14 (Dropout)         (None, 512)               0         \n",
            "_________________________________________________________________\n",
            "dense_21 (Dense)             (None, 10)                5130      \n",
            "=================================================================\n",
            "Total params: 1,841,162\n",
            "Trainable params: 1,841,162\n",
            "Non-trainable params: 0\n",
            "_________________________________________________________________\n"
          ],
          "name": "stdout"
        }
      ]
    },
    {
      "metadata": {
        "id": "_4uIErpv5Mhi",
        "colab_type": "code",
        "colab": {
          "base_uri": "https://localhost:8080/",
          "height": 408
        },
        "outputId": "71e8cd41-48bc-4060-e8db-d104651bace9"
      },
      "cell_type": "code",
      "source": [
        "model.compile(loss='categorical_crossentropy',\n",
        "              optimizer=opt,\n",
        "              metrics=['accuracy'])\n",
        "\n",
        "history = model.fit(x_train, y_train,\n",
        "                    batch_size=batch_size,\n",
        "                    epochs=epochs,\n",
        "                    verbose=1,\n",
        "                    validation_data=(x_test, y_test))\n",
        "score = model.evaluate(x_test, y_test, verbose=0)\n",
        "print('Test loss:', score[0])\n",
        "print('Test accuracy:', score[1])"
      ],
      "execution_count": 31,
      "outputs": [
        {
          "output_type": "stream",
          "text": [
            "Train on 50000 samples, validate on 10000 samples\n",
            "Epoch 1/10\n",
            "50000/50000 [==============================] - 2s 48us/step - loss: 2.5241 - acc: 0.2217 - val_loss: 2.0383 - val_acc: 0.2668\n",
            "Epoch 2/10\n",
            "50000/50000 [==============================] - 2s 39us/step - loss: 1.9131 - acc: 0.3072 - val_loss: 1.8559 - val_acc: 0.3193\n",
            "Epoch 3/10\n",
            "50000/50000 [==============================] - 2s 38us/step - loss: 1.8354 - acc: 0.3357 - val_loss: 1.7894 - val_acc: 0.3544\n",
            "Epoch 4/10\n",
            "50000/50000 [==============================] - 2s 38us/step - loss: 1.7729 - acc: 0.3615 - val_loss: 1.7867 - val_acc: 0.3410\n",
            "Epoch 5/10\n",
            "50000/50000 [==============================] - 2s 39us/step - loss: 1.7387 - acc: 0.3752 - val_loss: 1.7683 - val_acc: 0.3716\n",
            "Epoch 6/10\n",
            "50000/50000 [==============================] - 2s 38us/step - loss: 1.7000 - acc: 0.3916 - val_loss: 1.7073 - val_acc: 0.3830\n",
            "Epoch 7/10\n",
            "50000/50000 [==============================] - 2s 38us/step - loss: 1.6703 - acc: 0.4002 - val_loss: 1.6822 - val_acc: 0.3848\n",
            "Epoch 8/10\n",
            "50000/50000 [==============================] - 2s 38us/step - loss: 1.6489 - acc: 0.4062 - val_loss: 1.7751 - val_acc: 0.3669\n",
            "Epoch 9/10\n",
            "50000/50000 [==============================] - 2s 38us/step - loss: 1.6319 - acc: 0.4147 - val_loss: 1.5934 - val_acc: 0.4341\n",
            "Epoch 10/10\n",
            "50000/50000 [==============================] - 2s 38us/step - loss: 1.6099 - acc: 0.4233 - val_loss: 1.5939 - val_acc: 0.4247\n",
            "Test loss: 1.593945323562622\n",
            "Test accuracy: 0.4247\n"
          ],
          "name": "stdout"
        }
      ]
    },
    {
      "metadata": {
        "id": "iii5JFAF5Rnj",
        "colab_type": "text"
      },
      "cell_type": "markdown",
      "source": [
        "\n",
        "**Modified Results:**\n",
        "```\n",
        "**The accuracy decreased with the epochs increased from 128 to 256 and also decreased from 128 to 32.**\n",
        "**The loss increased with the epochs increased from 128 to 256 and also decreased from 128 to 32.**\n",
        "**It seems that epochs = 128 is a good choice for the model performance.**\n",
        "```\n"
      ]
    }
  ]
}