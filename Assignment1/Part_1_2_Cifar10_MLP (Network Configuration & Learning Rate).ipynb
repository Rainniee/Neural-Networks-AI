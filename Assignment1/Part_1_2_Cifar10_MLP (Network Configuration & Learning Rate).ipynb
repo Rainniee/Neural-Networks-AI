{
  "nbformat": 4,
  "nbformat_minor": 0,
  "metadata": {
    "colab": {
      "name": "Part 1.2_Cifar10_MLP (network configuration & learning rate).ipynb",
      "version": "0.3.2",
      "provenance": [],
      "include_colab_link": true
    },
    "kernelspec": {
      "name": "python3",
      "display_name": "Python 3"
    }
  },
  "cells": [
    {
      "cell_type": "markdown",
      "metadata": {
        "id": "view-in-github",
        "colab_type": "text"
      },
      "source": [
        "<a href=\"https://colab.research.google.com/github/Rainniee/Neural-Networks-AI/blob/master/Part_1_2_Cifar10_MLP_(network_configuration_%26_learning_rate).ipynb\" target=\"_parent\"><img src=\"https://colab.research.google.com/assets/colab-badge.svg\" alt=\"Open In Colab\"/></a>"
      ]
    },
    {
      "metadata": {
        "id": "UlmbtSsAoSAZ",
        "colab_type": "text"
      },
      "cell_type": "markdown",
      "source": [
        "### Modifying Model For Cifar_10 MLP"
      ]
    },
    {
      "metadata": {
        "id": "kRiDrJSo2QS8",
        "colab_type": "text"
      },
      "cell_type": "markdown",
      "source": [
        "\n",
        "\n",
        "```\n",
        "The original configuration used to build the model:\n",
        "\n",
        "1. No of epochs: 10\n",
        "2. Batch size: 128\n",
        "3. Network configuration\n",
        "    i. Number of neurons in a layer: 512\n",
        "    ii. Number of layers: 3\n",
        "4. Learning rate: 0.001\n",
        "5. Activation functions: relu & softmax\n",
        "6. Dropout rates: 0.2\n",
        "\n",
        "The original Test loss: 1.5913666017532349\n",
        "The original Test accuracy: 0.4362\n",
        "```\n",
        "\n"
      ]
    },
    {
      "metadata": {
        "id": "-AFuEmvP1cHD",
        "colab_type": "text"
      },
      "cell_type": "markdown",
      "source": [
        "***3 Modify the Network configuration***"
      ]
    },
    {
      "metadata": {
        "id": "8Dawfc9V1kb0",
        "colab_type": "text"
      },
      "cell_type": "markdown",
      "source": [
        "***3.1-1 Modifying the number of neurons in a layer from 512 to 256***"
      ]
    },
    {
      "metadata": {
        "id": "ku4MmRZeoEvL",
        "colab_type": "code",
        "colab": {}
      },
      "cell_type": "code",
      "source": [
        "from __future__ import print_function\n",
        "\n",
        "import keras\n",
        "from keras.datasets import mnist\n",
        "from keras.models import Sequential\n",
        "from keras.layers import Dense, Dropout\n",
        "from keras.optimizers import RMSprop\n",
        "\n",
        "from keras.datasets import cifar10"
      ],
      "execution_count": 0,
      "outputs": []
    },
    {
      "metadata": {
        "id": "2HLeehsNoYqi",
        "colab_type": "code",
        "colab": {}
      },
      "cell_type": "code",
      "source": [
        "batch_size = 128\n",
        "num_classes = 10\n",
        "epochs = 10"
      ],
      "execution_count": 0,
      "outputs": []
    },
    {
      "metadata": {
        "id": "p-vXdTXHoYzr",
        "colab_type": "code",
        "colab": {
          "base_uri": "https://localhost:8080/",
          "height": 34
        },
        "outputId": "0753066e-7daf-4cd0-f45c-96c879ca428d"
      },
      "cell_type": "code",
      "source": [
        "# the data, split between train and test sets\n",
        "(x_train, y_train), (x_test, y_test) = cifar10.load_data()\n",
        "\n",
        "x_train = x_train.reshape(-1, 3072)\n",
        "x_test = x_test.reshape(-1, 3072)\n",
        "x_train = x_train.astype('float32')\n",
        "x_test = x_test.astype('float32')\n",
        "x_train /= 255\n",
        "x_test /= 255\n",
        "print(x_train.shape[0], 'train samples')"
      ],
      "execution_count": 14,
      "outputs": [
        {
          "output_type": "stream",
          "text": [
            "50000 train samples\n"
          ],
          "name": "stdout"
        }
      ]
    },
    {
      "metadata": {
        "id": "7W9tdvHJoY3D",
        "colab_type": "code",
        "colab": {
          "base_uri": "https://localhost:8080/",
          "height": 306
        },
        "outputId": "73a8dee3-2b7c-4455-9197-f3b20b1f1a8e"
      },
      "cell_type": "code",
      "source": [
        "# convert class vectors to binary class matrices\n",
        "y_train = keras.utils.to_categorical(y_train, num_classes)\n",
        "y_test = keras.utils.to_categorical(y_test, num_classes)\n",
        "\n",
        "model = Sequential()\n",
        "model.add(Dense(256, activation='relu', input_shape=(3072,)))\n",
        "model.add(Dropout(0.2))\n",
        "model.add(Dense(256, activation='relu'))\n",
        "model.add(Dropout(0.2))\n",
        "model.add(Dense(num_classes, activation='softmax'))\n",
        "\n",
        "model.summary()"
      ],
      "execution_count": 15,
      "outputs": [
        {
          "output_type": "stream",
          "text": [
            "_________________________________________________________________\n",
            "Layer (type)                 Output Shape              Param #   \n",
            "=================================================================\n",
            "dense_7 (Dense)              (None, 256)               786688    \n",
            "_________________________________________________________________\n",
            "dropout_5 (Dropout)          (None, 256)               0         \n",
            "_________________________________________________________________\n",
            "dense_8 (Dense)              (None, 256)               65792     \n",
            "_________________________________________________________________\n",
            "dropout_6 (Dropout)          (None, 256)               0         \n",
            "_________________________________________________________________\n",
            "dense_9 (Dense)              (None, 10)                2570      \n",
            "=================================================================\n",
            "Total params: 855,050\n",
            "Trainable params: 855,050\n",
            "Non-trainable params: 0\n",
            "_________________________________________________________________\n"
          ],
          "name": "stdout"
        }
      ]
    },
    {
      "metadata": {
        "id": "ErgqL-TZokUy",
        "colab_type": "code",
        "colab": {
          "base_uri": "https://localhost:8080/",
          "height": 408
        },
        "outputId": "be03cd1c-6dd1-433a-f430-8bea90d1b9ca"
      },
      "cell_type": "code",
      "source": [
        "# initiate RMSprop optimizer\n",
        "opt = keras.optimizers.rmsprop(lr=0.001, decay=1e-6)\n",
        "\n",
        "model.compile(loss='categorical_crossentropy',\n",
        "              optimizer=opt,\n",
        "              metrics=['accuracy'])\n",
        "\n",
        "history = model.fit(x_train, y_train,\n",
        "                    batch_size=batch_size,\n",
        "                    epochs=epochs,\n",
        "                    verbose=1,\n",
        "                    validation_data=(x_test, y_test))\n",
        "score = model.evaluate(x_test, y_test, verbose=0)\n",
        "print('Test loss:', score[0])\n",
        "print('Test accuracy:', score[1])"
      ],
      "execution_count": 17,
      "outputs": [
        {
          "output_type": "stream",
          "text": [
            "Train on 50000 samples, validate on 10000 samples\n",
            "Epoch 1/10\n",
            "50000/50000 [==============================] - 11s 212us/step - loss: 2.1230 - acc: 0.2445 - val_loss: 1.8925 - val_acc: 0.3077\n",
            "Epoch 2/10\n",
            "50000/50000 [==============================] - 10s 208us/step - loss: 1.8781 - acc: 0.3197 - val_loss: 1.7802 - val_acc: 0.3569\n",
            "Epoch 3/10\n",
            "50000/50000 [==============================] - 10s 207us/step - loss: 1.7970 - acc: 0.3546 - val_loss: 1.7554 - val_acc: 0.3776\n",
            "Epoch 4/10\n",
            "50000/50000 [==============================] - 10s 205us/step - loss: 1.7517 - acc: 0.3710 - val_loss: 1.7181 - val_acc: 0.3981\n",
            "Epoch 5/10\n",
            "50000/50000 [==============================] - 10s 208us/step - loss: 1.7194 - acc: 0.3847 - val_loss: 1.7335 - val_acc: 0.3690\n",
            "Epoch 6/10\n",
            "50000/50000 [==============================] - 10s 205us/step - loss: 1.6916 - acc: 0.3924 - val_loss: 1.7612 - val_acc: 0.3720\n",
            "Epoch 7/10\n",
            "50000/50000 [==============================] - 10s 205us/step - loss: 1.6713 - acc: 0.3990 - val_loss: 1.6740 - val_acc: 0.3971\n",
            "Epoch 8/10\n",
            "50000/50000 [==============================] - 10s 206us/step - loss: 1.6506 - acc: 0.4104 - val_loss: 1.6134 - val_acc: 0.4269\n",
            "Epoch 9/10\n",
            "50000/50000 [==============================] - 10s 204us/step - loss: 1.6331 - acc: 0.4162 - val_loss: 1.5564 - val_acc: 0.4466\n",
            "Epoch 10/10\n",
            "50000/50000 [==============================] - 10s 206us/step - loss: 1.6214 - acc: 0.4240 - val_loss: 1.5514 - val_acc: 0.4559\n",
            "Test loss: 1.5514096771240233\n",
            "Test accuracy: 0.4559\n"
          ],
          "name": "stdout"
        }
      ]
    },
    {
      "metadata": {
        "id": "DTuV792Roo9m",
        "colab_type": "text"
      },
      "cell_type": "markdown",
      "source": [
        "***3.1-2 Modifying the number of neurons in a layer from 512 to 1024***"
      ]
    },
    {
      "metadata": {
        "id": "1JMd0nKTo9x-",
        "colab_type": "code",
        "colab": {}
      },
      "cell_type": "code",
      "source": [
        "batch_size = 128\n",
        "num_classes = 10\n",
        "epochs = 10"
      ],
      "execution_count": 0,
      "outputs": []
    },
    {
      "metadata": {
        "id": "O9Rw_bunpL1G",
        "colab_type": "code",
        "colab": {
          "base_uri": "https://localhost:8080/",
          "height": 51
        },
        "outputId": "c2da1a3b-cde7-42db-b627-b4e7efb688b7"
      },
      "cell_type": "code",
      "source": [
        "# the data, split between train and test sets\n",
        "(x_train, y_train), (x_test, y_test) = cifar10.load_data()\n",
        "\n",
        "x_train = x_train.reshape(-1, 3072)\n",
        "x_test = x_test.reshape(-1, 3072)\n",
        "x_train = x_train.astype('float32')\n",
        "x_test = x_test.astype('float32')\n",
        "x_train /= 255\n",
        "x_test /= 255\n",
        "print(x_train.shape[0], 'train samples')\n",
        "print(x_test.shape[0], 'test samples')"
      ],
      "execution_count": 37,
      "outputs": [
        {
          "output_type": "stream",
          "text": [
            "50000 train samples\n",
            "10000 test samples\n"
          ],
          "name": "stdout"
        }
      ]
    },
    {
      "metadata": {
        "id": "FrrplMfNpL6P",
        "colab_type": "code",
        "colab": {
          "base_uri": "https://localhost:8080/",
          "height": 306
        },
        "outputId": "9dd8cffa-c3f3-424c-e592-801af04e669e"
      },
      "cell_type": "code",
      "source": [
        "# convert class vectors to binary class matrices\n",
        "y_train = keras.utils.to_categorical(y_train, num_classes)\n",
        "y_test = keras.utils.to_categorical(y_test, num_classes)\n",
        "\n",
        "model = Sequential()\n",
        "model.add(Dense(1024, activation='relu', input_shape=(3072,)))\n",
        "model.add(Dropout(0.2))\n",
        "model.add(Dense(1024, activation='relu'))\n",
        "model.add(Dropout(0.2))\n",
        "model.add(Dense(num_classes, activation='softmax'))\n",
        "\n",
        "model.summary()"
      ],
      "execution_count": 38,
      "outputs": [
        {
          "output_type": "stream",
          "text": [
            "_________________________________________________________________\n",
            "Layer (type)                 Output Shape              Param #   \n",
            "=================================================================\n",
            "dense_37 (Dense)             (None, 1024)              3146752   \n",
            "_________________________________________________________________\n",
            "dropout_28 (Dropout)         (None, 1024)              0         \n",
            "_________________________________________________________________\n",
            "dense_38 (Dense)             (None, 1024)              1049600   \n",
            "_________________________________________________________________\n",
            "dropout_29 (Dropout)         (None, 1024)              0         \n",
            "_________________________________________________________________\n",
            "dense_39 (Dense)             (None, 10)                10250     \n",
            "=================================================================\n",
            "Total params: 4,206,602\n",
            "Trainable params: 4,206,602\n",
            "Non-trainable params: 0\n",
            "_________________________________________________________________\n"
          ],
          "name": "stdout"
        }
      ]
    },
    {
      "metadata": {
        "id": "JH6gfA5JpMAf",
        "colab_type": "code",
        "colab": {
          "base_uri": "https://localhost:8080/",
          "height": 408
        },
        "outputId": "91c88793-c764-4f4c-ae9a-9de43628cd2d"
      },
      "cell_type": "code",
      "source": [
        "model.compile(loss='categorical_crossentropy',\n",
        "              optimizer=opt,\n",
        "              metrics=['accuracy'])\n",
        "\n",
        "history = model.fit(x_train, y_train,\n",
        "                    batch_size=batch_size,\n",
        "                    epochs=epochs,\n",
        "                    verbose=1,\n",
        "                    validation_data=(x_test, y_test))\n",
        "score = model.evaluate(x_test, y_test, verbose=0)\n",
        "print('Test loss:', score[0])\n",
        "print('Test accuracy:', score[1])"
      ],
      "execution_count": 39,
      "outputs": [
        {
          "output_type": "stream",
          "text": [
            "Train on 50000 samples, validate on 10000 samples\n",
            "Epoch 1/10\n",
            "50000/50000 [==============================] - 43s 858us/step - loss: 4.6559 - acc: 0.2157 - val_loss: 1.8716 - val_acc: 0.3078\n",
            "Epoch 2/10\n",
            "50000/50000 [==============================] - 42s 840us/step - loss: 1.8606 - acc: 0.3303 - val_loss: 1.8789 - val_acc: 0.3328\n",
            "Epoch 3/10\n",
            "50000/50000 [==============================] - 42s 849us/step - loss: 1.7744 - acc: 0.3659 - val_loss: 1.7206 - val_acc: 0.3838\n",
            "Epoch 4/10\n",
            "50000/50000 [==============================] - 42s 845us/step - loss: 1.7201 - acc: 0.3855 - val_loss: 1.7305 - val_acc: 0.3705\n",
            "Epoch 5/10\n",
            "50000/50000 [==============================] - 43s 853us/step - loss: 1.6810 - acc: 0.3992 - val_loss: 1.6604 - val_acc: 0.4126\n",
            "Epoch 6/10\n",
            "50000/50000 [==============================] - 42s 844us/step - loss: 1.6549 - acc: 0.4063 - val_loss: 1.6349 - val_acc: 0.4137\n",
            "Epoch 7/10\n",
            "50000/50000 [==============================] - 42s 845us/step - loss: 1.6290 - acc: 0.4185 - val_loss: 1.5804 - val_acc: 0.4538\n",
            "Epoch 8/10\n",
            "50000/50000 [==============================] - 42s 838us/step - loss: 1.6143 - acc: 0.4244 - val_loss: 1.6188 - val_acc: 0.4155\n",
            "Epoch 9/10\n",
            "50000/50000 [==============================] - 43s 852us/step - loss: 1.5936 - acc: 0.4304 - val_loss: 1.5488 - val_acc: 0.4578\n",
            "Epoch 10/10\n",
            "50000/50000 [==============================] - 43s 858us/step - loss: 1.5891 - acc: 0.4371 - val_loss: 1.5350 - val_acc: 0.4755\n",
            "Test loss: 1.534957527923584\n",
            "Test accuracy: 0.4755\n"
          ],
          "name": "stdout"
        }
      ]
    },
    {
      "metadata": {
        "id": "zACqggvcpXKb",
        "colab_type": "text"
      },
      "cell_type": "markdown",
      "source": [
        "\n",
        "**Modified Results:**\n",
        "```\n",
        "**The accuracy increased with the neurons increased.**\n",
        "**The loss decreased with the neurons increased.**\n",
        "```\n"
      ]
    },
    {
      "metadata": {
        "id": "Y77ZzEWJ5aOt",
        "colab_type": "text"
      },
      "cell_type": "markdown",
      "source": [
        "***3.2-1 Modifying the number of layers from 3 to 4***"
      ]
    },
    {
      "metadata": {
        "id": "f7GKoR9z5rX5",
        "colab_type": "code",
        "colab": {}
      },
      "cell_type": "code",
      "source": [
        "batch_size = 128\n",
        "num_classes = 10\n",
        "epochs = 10"
      ],
      "execution_count": 0,
      "outputs": []
    },
    {
      "metadata": {
        "id": "RahRA8Mi5re-",
        "colab_type": "code",
        "colab": {
          "base_uri": "https://localhost:8080/",
          "height": 51
        },
        "outputId": "e19c5039-222d-4898-b6dd-f4416812d631"
      },
      "cell_type": "code",
      "source": [
        "# the data, split between train and test sets\n",
        "(x_train, y_train), (x_test, y_test) = cifar10.load_data()\n",
        "\n",
        "x_train = x_train.reshape(-1, 3072)\n",
        "x_test = x_test.reshape(-1, 3072)\n",
        "x_train = x_train.astype('float32')\n",
        "x_test = x_test.astype('float32')\n",
        "x_train /= 255\n",
        "x_test /= 255\n",
        "print(x_train.shape[0], 'train samples')\n",
        "print(x_test.shape[0], 'test samples')"
      ],
      "execution_count": 25,
      "outputs": [
        {
          "output_type": "stream",
          "text": [
            "50000 train samples\n",
            "10000 test samples\n"
          ],
          "name": "stdout"
        }
      ]
    },
    {
      "metadata": {
        "id": "vlmY5q7U5rmY",
        "colab_type": "code",
        "colab": {
          "base_uri": "https://localhost:8080/",
          "height": 374
        },
        "outputId": "7da9167f-4bea-4d8f-a16c-1f47f6890cd7"
      },
      "cell_type": "code",
      "source": [
        "# convert class vectors to binary class matrices\n",
        "y_train = keras.utils.to_categorical(y_train, num_classes)\n",
        "y_test = keras.utils.to_categorical(y_test, num_classes)\n",
        "\n",
        "model = Sequential()\n",
        "model.add(Dense(512, activation='relu', input_shape=(3072,)))\n",
        "model.add(Dropout(0.2))\n",
        "model.add(Dense(512, activation='relu'))\n",
        "model.add(Dropout(0.2))\n",
        "model.add(Dense(512, activation='relu'))\n",
        "model.add(Dropout(0.2))\n",
        "model.add(Dense(num_classes, activation='softmax'))\n",
        "\n",
        "model.summary()"
      ],
      "execution_count": 27,
      "outputs": [
        {
          "output_type": "stream",
          "text": [
            "_________________________________________________________________\n",
            "Layer (type)                 Output Shape              Param #   \n",
            "=================================================================\n",
            "dense_16 (Dense)             (None, 512)               1573376   \n",
            "_________________________________________________________________\n",
            "dropout_11 (Dropout)         (None, 512)               0         \n",
            "_________________________________________________________________\n",
            "dense_17 (Dense)             (None, 512)               262656    \n",
            "_________________________________________________________________\n",
            "dropout_12 (Dropout)         (None, 512)               0         \n",
            "_________________________________________________________________\n",
            "dense_18 (Dense)             (None, 512)               262656    \n",
            "_________________________________________________________________\n",
            "dropout_13 (Dropout)         (None, 512)               0         \n",
            "_________________________________________________________________\n",
            "dense_19 (Dense)             (None, 10)                5130      \n",
            "=================================================================\n",
            "Total params: 2,103,818\n",
            "Trainable params: 2,103,818\n",
            "Non-trainable params: 0\n",
            "_________________________________________________________________\n"
          ],
          "name": "stdout"
        }
      ]
    },
    {
      "metadata": {
        "id": "POen27Xa56_K",
        "colab_type": "code",
        "colab": {
          "base_uri": "https://localhost:8080/",
          "height": 408
        },
        "outputId": "2b5c52f7-dd0d-4765-e168-dedad4f51e07"
      },
      "cell_type": "code",
      "source": [
        "model.compile(loss='categorical_crossentropy',\n",
        "              optimizer=opt,\n",
        "              metrics=['accuracy'])\n",
        "\n",
        "history = model.fit(x_train, y_train,\n",
        "                    batch_size=batch_size,\n",
        "                    epochs=epochs,\n",
        "                    verbose=1,\n",
        "                    validation_data=(x_test, y_test))\n",
        "score = model.evaluate(x_test, y_test, verbose=0)\n",
        "print('Test loss:', score[0])\n",
        "print('Test accuracy:', score[1])"
      ],
      "execution_count": 28,
      "outputs": [
        {
          "output_type": "stream",
          "text": [
            "Train on 50000 samples, validate on 10000 samples\n",
            "Epoch 1/10\n",
            "50000/50000 [==============================] - 22s 447us/step - loss: 2.0985 - acc: 0.2434 - val_loss: 1.8694 - val_acc: 0.3464\n",
            "Epoch 2/10\n",
            "50000/50000 [==============================] - 22s 443us/step - loss: 1.8669 - acc: 0.3257 - val_loss: 1.7331 - val_acc: 0.3758\n",
            "Epoch 3/10\n",
            "50000/50000 [==============================] - 22s 439us/step - loss: 1.8000 - acc: 0.3584 - val_loss: 1.7377 - val_acc: 0.3800\n",
            "Epoch 4/10\n",
            "50000/50000 [==============================] - 22s 437us/step - loss: 1.7568 - acc: 0.3726 - val_loss: 1.7088 - val_acc: 0.3801\n",
            "Epoch 5/10\n",
            "50000/50000 [==============================] - 22s 445us/step - loss: 1.7204 - acc: 0.3834 - val_loss: 1.7236 - val_acc: 0.3836\n",
            "Epoch 6/10\n",
            "50000/50000 [==============================] - 22s 440us/step - loss: 1.6934 - acc: 0.3934 - val_loss: 1.6537 - val_acc: 0.4210\n",
            "Epoch 7/10\n",
            "50000/50000 [==============================] - 22s 440us/step - loss: 1.6738 - acc: 0.4001 - val_loss: 1.6524 - val_acc: 0.4147\n",
            "Epoch 8/10\n",
            "50000/50000 [==============================] - 23s 456us/step - loss: 1.6581 - acc: 0.4106 - val_loss: 1.5843 - val_acc: 0.4541\n",
            "Epoch 9/10\n",
            "50000/50000 [==============================] - 22s 442us/step - loss: 1.6457 - acc: 0.4150 - val_loss: 1.5926 - val_acc: 0.4481\n",
            "Epoch 10/10\n",
            "50000/50000 [==============================] - 22s 446us/step - loss: 1.6324 - acc: 0.4190 - val_loss: 1.6077 - val_acc: 0.4189\n",
            "Test loss: 1.6076992792129516\n",
            "Test accuracy: 0.4189\n"
          ],
          "name": "stdout"
        }
      ]
    },
    {
      "metadata": {
        "id": "ulL1rLc559J8",
        "colab_type": "text"
      },
      "cell_type": "markdown",
      "source": [
        "***3.2-2 Modifying the number of layers from 3 to 6***"
      ]
    },
    {
      "metadata": {
        "id": "DZpquGqj60yt",
        "colab_type": "code",
        "colab": {
          "base_uri": "https://localhost:8080/",
          "height": 51
        },
        "outputId": "20c6a4ad-c726-427f-a710-03c63c59938e"
      },
      "cell_type": "code",
      "source": [
        "# the data, split between train and test sets\n",
        "(x_train, y_train), (x_test, y_test) = cifar10.load_data()\n",
        "\n",
        "x_train = x_train.reshape(-1, 3072)\n",
        "x_test = x_test.reshape(-1, 3072)\n",
        "x_train = x_train.astype('float32')\n",
        "x_test = x_test.astype('float32')\n",
        "x_train /= 255\n",
        "x_test /= 255\n",
        "print(x_train.shape[0], 'train samples')\n",
        "print(x_test.shape[0], 'test samples')"
      ],
      "execution_count": 33,
      "outputs": [
        {
          "output_type": "stream",
          "text": [
            "50000 train samples\n",
            "10000 test samples\n"
          ],
          "name": "stdout"
        }
      ]
    },
    {
      "metadata": {
        "id": "Vd_Nv0t-605-",
        "colab_type": "code",
        "colab": {
          "base_uri": "https://localhost:8080/",
          "height": 510
        },
        "outputId": "7fc23c94-2962-43ab-c30b-3ca9fb28d9f3"
      },
      "cell_type": "code",
      "source": [
        "# convert class vectors to binary class matrices\n",
        "y_train = keras.utils.to_categorical(y_train, num_classes)\n",
        "y_test = keras.utils.to_categorical(y_test, num_classes)\n",
        "\n",
        "model = Sequential()\n",
        "model.add(Dense(512, activation='relu', input_shape=(3072,)))\n",
        "model.add(Dropout(0.2))\n",
        "model.add(Dense(512, activation='relu'))\n",
        "model.add(Dropout(0.2))\n",
        "model.add(Dense(512, activation='relu'))\n",
        "model.add(Dropout(0.2))\n",
        "model.add(Dense(512, activation='relu'))\n",
        "model.add(Dropout(0.2))\n",
        "model.add(Dense(512, activation='relu'))\n",
        "model.add(Dropout(0.2))\n",
        "model.add(Dense(num_classes, activation='softmax'))\n",
        "\n",
        "model.summary()"
      ],
      "execution_count": 34,
      "outputs": [
        {
          "output_type": "stream",
          "text": [
            "_________________________________________________________________\n",
            "Layer (type)                 Output Shape              Param #   \n",
            "=================================================================\n",
            "dense_31 (Dense)             (None, 512)               1573376   \n",
            "_________________________________________________________________\n",
            "dropout_23 (Dropout)         (None, 512)               0         \n",
            "_________________________________________________________________\n",
            "dense_32 (Dense)             (None, 512)               262656    \n",
            "_________________________________________________________________\n",
            "dropout_24 (Dropout)         (None, 512)               0         \n",
            "_________________________________________________________________\n",
            "dense_33 (Dense)             (None, 512)               262656    \n",
            "_________________________________________________________________\n",
            "dropout_25 (Dropout)         (None, 512)               0         \n",
            "_________________________________________________________________\n",
            "dense_34 (Dense)             (None, 512)               262656    \n",
            "_________________________________________________________________\n",
            "dropout_26 (Dropout)         (None, 512)               0         \n",
            "_________________________________________________________________\n",
            "dense_35 (Dense)             (None, 512)               262656    \n",
            "_________________________________________________________________\n",
            "dropout_27 (Dropout)         (None, 512)               0         \n",
            "_________________________________________________________________\n",
            "dense_36 (Dense)             (None, 10)                5130      \n",
            "=================================================================\n",
            "Total params: 2,629,130\n",
            "Trainable params: 2,629,130\n",
            "Non-trainable params: 0\n",
            "_________________________________________________________________\n"
          ],
          "name": "stdout"
        }
      ]
    },
    {
      "metadata": {
        "id": "ghySQCUF69bb",
        "colab_type": "code",
        "colab": {
          "base_uri": "https://localhost:8080/",
          "height": 408
        },
        "outputId": "28eed332-2926-44b7-de18-36960cf16f1f"
      },
      "cell_type": "code",
      "source": [
        "model.compile(loss='categorical_crossentropy',\n",
        "              optimizer=opt,\n",
        "              metrics=['accuracy'])\n",
        "\n",
        "history = model.fit(x_train, y_train,\n",
        "                    batch_size=batch_size,\n",
        "                    epochs=epochs,\n",
        "                    verbose=1,\n",
        "                    validation_data=(x_test, y_test))\n",
        "score = model.evaluate(x_test, y_test, verbose=0)\n",
        "print('Test loss:', score[0])\n",
        "print('Test accuracy:', score[1])"
      ],
      "execution_count": 35,
      "outputs": [
        {
          "output_type": "stream",
          "text": [
            "Train on 50000 samples, validate on 10000 samples\n",
            "Epoch 1/10\n",
            "50000/50000 [==============================] - 32s 639us/step - loss: 14.4707 - acc: 0.0995 - val_loss: 14.5063 - val_acc: 0.1000\n",
            "Epoch 2/10\n",
            "50000/50000 [==============================] - 31s 615us/step - loss: 14.5063 - acc: 0.1000 - val_loss: 14.5063 - val_acc: 0.1000\n",
            "Epoch 3/10\n",
            "50000/50000 [==============================] - 31s 617us/step - loss: 14.5063 - acc: 0.1000 - val_loss: 14.5063 - val_acc: 0.1000\n",
            "Epoch 4/10\n",
            "50000/50000 [==============================] - 31s 619us/step - loss: 14.5063 - acc: 0.1000 - val_loss: 14.5063 - val_acc: 0.1000\n",
            "Epoch 5/10\n",
            "50000/50000 [==============================] - 31s 621us/step - loss: 14.5063 - acc: 0.1000 - val_loss: 14.5063 - val_acc: 0.1000\n",
            "Epoch 6/10\n",
            "50000/50000 [==============================] - 32s 632us/step - loss: 14.5063 - acc: 0.1000 - val_loss: 14.5063 - val_acc: 0.1000\n",
            "Epoch 7/10\n",
            "50000/50000 [==============================] - 31s 618us/step - loss: 14.5063 - acc: 0.1000 - val_loss: 14.5063 - val_acc: 0.1000\n",
            "Epoch 8/10\n",
            "50000/50000 [==============================] - 30s 607us/step - loss: 14.5063 - acc: 0.1000 - val_loss: 14.5063 - val_acc: 0.1000\n",
            "Epoch 9/10\n",
            "50000/50000 [==============================] - 31s 617us/step - loss: 14.5063 - acc: 0.1000 - val_loss: 14.5063 - val_acc: 0.1000\n",
            "Epoch 10/10\n",
            "50000/50000 [==============================] - 30s 608us/step - loss: 14.5063 - acc: 0.1000 - val_loss: 14.5063 - val_acc: 0.1000\n",
            "Test loss: 14.506285662841798\n",
            "Test accuracy: 0.1\n"
          ],
          "name": "stdout"
        }
      ]
    },
    {
      "metadata": {
        "id": "Vwue8Y3w7iV8",
        "colab_type": "text"
      },
      "cell_type": "markdown",
      "source": [
        "**Modified Results:**\n",
        "```\n",
        "**The accuracy decreased with the layers increased.**\n",
        "**The loss increased with the alyers increased.**\n",
        "**There is a negative effect within the layers number and the model performance.**\n",
        "```"
      ]
    },
    {
      "metadata": {
        "id": "lTnZlFwj71Se",
        "colab_type": "text"
      },
      "cell_type": "markdown",
      "source": [
        "\n",
        "\n",
        "```\n",
        "```\n",
        "\n"
      ]
    },
    {
      "metadata": {
        "id": "g8EKRWPn7WVk",
        "colab_type": "text"
      },
      "cell_type": "markdown",
      "source": [
        "***4.1 Modify the learning rate from 0.001 to 0.005***"
      ]
    },
    {
      "metadata": {
        "id": "6V3qukuk9OPc",
        "colab_type": "code",
        "colab": {
          "base_uri": "https://localhost:8080/",
          "height": 51
        },
        "outputId": "9e9c8bdf-804b-45d6-9a93-d1f0e7fb7be5"
      },
      "cell_type": "code",
      "source": [
        "batch_size = 128\n",
        "num_classes = 10\n",
        "epochs = 10\n",
        "\n",
        "# the data, split between train and test sets\n",
        "(x_train, y_train), (x_test, y_test) = cifar10.load_data()\n",
        "\n",
        "x_train = x_train.reshape(-1, 3072)\n",
        "x_test = x_test.reshape(-1, 3072)\n",
        "x_train = x_train.astype('float32')\n",
        "x_test = x_test.astype('float32')\n",
        "x_train /= 255\n",
        "x_test /= 255\n",
        "print(x_train.shape[0], 'train samples')\n",
        "print(x_test.shape[0], 'test samples')"
      ],
      "execution_count": 40,
      "outputs": [
        {
          "output_type": "stream",
          "text": [
            "50000 train samples\n",
            "10000 test samples\n"
          ],
          "name": "stdout"
        }
      ]
    },
    {
      "metadata": {
        "id": "mnhYanEA9OZq",
        "colab_type": "code",
        "colab": {
          "base_uri": "https://localhost:8080/",
          "height": 306
        },
        "outputId": "732eeadc-a215-4fcd-f82f-773c449f798d"
      },
      "cell_type": "code",
      "source": [
        "# convert class vectors to binary class matrices\n",
        "y_train = keras.utils.to_categorical(y_train, num_classes)\n",
        "y_test = keras.utils.to_categorical(y_test, num_classes)\n",
        "\n",
        "model = Sequential()\n",
        "model.add(Dense(512, activation='relu', input_shape=(3072,)))\n",
        "model.add(Dropout(0.2))\n",
        "model.add(Dense(512, activation='relu'))\n",
        "model.add(Dropout(0.2))\n",
        "model.add(Dense(num_classes, activation='softmax'))\n",
        "\n",
        "model.summary()"
      ],
      "execution_count": 41,
      "outputs": [
        {
          "output_type": "stream",
          "text": [
            "_________________________________________________________________\n",
            "Layer (type)                 Output Shape              Param #   \n",
            "=================================================================\n",
            "dense_40 (Dense)             (None, 512)               1573376   \n",
            "_________________________________________________________________\n",
            "dropout_30 (Dropout)         (None, 512)               0         \n",
            "_________________________________________________________________\n",
            "dense_41 (Dense)             (None, 512)               262656    \n",
            "_________________________________________________________________\n",
            "dropout_31 (Dropout)         (None, 512)               0         \n",
            "_________________________________________________________________\n",
            "dense_42 (Dense)             (None, 10)                5130      \n",
            "=================================================================\n",
            "Total params: 1,841,162\n",
            "Trainable params: 1,841,162\n",
            "Non-trainable params: 0\n",
            "_________________________________________________________________\n"
          ],
          "name": "stdout"
        }
      ]
    },
    {
      "metadata": {
        "id": "63FevSVF9OlY",
        "colab_type": "code",
        "colab": {}
      },
      "cell_type": "code",
      "source": [
        "# initiate RMSprop optimizer\n",
        "opt = keras.optimizers.rmsprop(lr=0.005, decay=1e-6)"
      ],
      "execution_count": 0,
      "outputs": []
    },
    {
      "metadata": {
        "id": "7mr0YeRh9Ov2",
        "colab_type": "code",
        "colab": {
          "base_uri": "https://localhost:8080/",
          "height": 408
        },
        "outputId": "0d826ad5-b60e-4069-888f-e8452b08d275"
      },
      "cell_type": "code",
      "source": [
        "model.compile(loss='categorical_crossentropy',\n",
        "              optimizer=opt,\n",
        "              metrics=['accuracy'])\n",
        "\n",
        "history = model.fit(x_train, y_train,\n",
        "                    batch_size=batch_size,\n",
        "                    epochs=epochs,\n",
        "                    verbose=1,\n",
        "                    validation_data=(x_test, y_test))\n",
        "score = model.evaluate(x_test, y_test, verbose=0)\n",
        "print('Test loss:', score[0])\n",
        "print('Test accuracy:', score[1])"
      ],
      "execution_count": 43,
      "outputs": [
        {
          "output_type": "stream",
          "text": [
            "Train on 50000 samples, validate on 10000 samples\n",
            "Epoch 1/10\n",
            "50000/50000 [==============================] - 21s 426us/step - loss: 14.4808 - acc: 0.0998 - val_loss: 14.5063 - val_acc: 0.1000\n",
            "Epoch 2/10\n",
            "50000/50000 [==============================] - 20s 409us/step - loss: 14.5063 - acc: 0.1000 - val_loss: 14.5063 - val_acc: 0.1000\n",
            "Epoch 3/10\n",
            "50000/50000 [==============================] - 20s 410us/step - loss: 14.5063 - acc: 0.1000 - val_loss: 14.5063 - val_acc: 0.1000\n",
            "Epoch 4/10\n",
            "50000/50000 [==============================] - 21s 411us/step - loss: 14.5063 - acc: 0.1000 - val_loss: 14.5063 - val_acc: 0.1000\n",
            "Epoch 5/10\n",
            "50000/50000 [==============================] - 20s 408us/step - loss: 14.5063 - acc: 0.1000 - val_loss: 14.5063 - val_acc: 0.1000\n",
            "Epoch 6/10\n",
            "50000/50000 [==============================] - 20s 404us/step - loss: 14.5063 - acc: 0.1000 - val_loss: 14.5063 - val_acc: 0.1000\n",
            "Epoch 7/10\n",
            "50000/50000 [==============================] - 20s 405us/step - loss: 14.5063 - acc: 0.1000 - val_loss: 14.5063 - val_acc: 0.1000\n",
            "Epoch 8/10\n",
            "50000/50000 [==============================] - 21s 411us/step - loss: 14.5063 - acc: 0.1000 - val_loss: 14.5063 - val_acc: 0.1000\n",
            "Epoch 9/10\n",
            "50000/50000 [==============================] - 22s 432us/step - loss: 14.5063 - acc: 0.1000 - val_loss: 14.5063 - val_acc: 0.1000\n",
            "Epoch 10/10\n",
            "50000/50000 [==============================] - 21s 417us/step - loss: 14.5063 - acc: 0.1000 - val_loss: 14.5063 - val_acc: 0.1000\n",
            "Test loss: 14.506285684204101\n",
            "Test accuracy: 0.1\n"
          ],
          "name": "stdout"
        }
      ]
    },
    {
      "metadata": {
        "id": "ZOxrWPLP9dtv",
        "colab_type": "text"
      },
      "cell_type": "markdown",
      "source": [
        "***4.2 Modify the learning rate from 0.001 to 0.0001***"
      ]
    },
    {
      "metadata": {
        "id": "JS8pK-lF9c6x",
        "colab_type": "code",
        "colab": {
          "base_uri": "https://localhost:8080/",
          "height": 51
        },
        "outputId": "6de77b51-29d9-48e9-9338-05ea1654acb1"
      },
      "cell_type": "code",
      "source": [
        "# the data, split between train and test sets\n",
        "(x_train, y_train), (x_test, y_test) = cifar10.load_data()\n",
        "\n",
        "x_train = x_train.reshape(-1, 3072)\n",
        "x_test = x_test.reshape(-1, 3072)\n",
        "x_train = x_train.astype('float32')\n",
        "x_test = x_test.astype('float32')\n",
        "x_train /= 255\n",
        "x_test /= 255\n",
        "print(x_train.shape[0], 'train samples')\n",
        "print(x_test.shape[0], 'test samples')"
      ],
      "execution_count": 44,
      "outputs": [
        {
          "output_type": "stream",
          "text": [
            "50000 train samples\n",
            "10000 test samples\n"
          ],
          "name": "stdout"
        }
      ]
    },
    {
      "metadata": {
        "id": "Rls-567P9lwO",
        "colab_type": "code",
        "colab": {
          "base_uri": "https://localhost:8080/",
          "height": 306
        },
        "outputId": "30c56752-3e2a-4407-cee1-7e2cca9b50b3"
      },
      "cell_type": "code",
      "source": [
        "# convert class vectors to binary class matrices\n",
        "y_train = keras.utils.to_categorical(y_train, num_classes)\n",
        "y_test = keras.utils.to_categorical(y_test, num_classes)\n",
        "\n",
        "model = Sequential()\n",
        "model.add(Dense(512, activation='relu', input_shape=(3072,)))\n",
        "model.add(Dropout(0.2))\n",
        "model.add(Dense(512, activation='relu'))\n",
        "model.add(Dropout(0.2))\n",
        "model.add(Dense(num_classes, activation='softmax'))\n",
        "\n",
        "model.summary()"
      ],
      "execution_count": 45,
      "outputs": [
        {
          "output_type": "stream",
          "text": [
            "_________________________________________________________________\n",
            "Layer (type)                 Output Shape              Param #   \n",
            "=================================================================\n",
            "dense_43 (Dense)             (None, 512)               1573376   \n",
            "_________________________________________________________________\n",
            "dropout_32 (Dropout)         (None, 512)               0         \n",
            "_________________________________________________________________\n",
            "dense_44 (Dense)             (None, 512)               262656    \n",
            "_________________________________________________________________\n",
            "dropout_33 (Dropout)         (None, 512)               0         \n",
            "_________________________________________________________________\n",
            "dense_45 (Dense)             (None, 10)                5130      \n",
            "=================================================================\n",
            "Total params: 1,841,162\n",
            "Trainable params: 1,841,162\n",
            "Non-trainable params: 0\n",
            "_________________________________________________________________\n"
          ],
          "name": "stdout"
        }
      ]
    },
    {
      "metadata": {
        "id": "_ZKRjatO9mBt",
        "colab_type": "code",
        "colab": {}
      },
      "cell_type": "code",
      "source": [
        "# initiate RMSprop optimizer\n",
        "opt = keras.optimizers.rmsprop(lr=0.0001, decay=1e-6)"
      ],
      "execution_count": 0,
      "outputs": []
    },
    {
      "metadata": {
        "id": "exChA9tI9mVC",
        "colab_type": "code",
        "colab": {
          "base_uri": "https://localhost:8080/",
          "height": 408
        },
        "outputId": "a3e5294f-b394-4baa-8ed0-1dd521b9a431"
      },
      "cell_type": "code",
      "source": [
        "model.compile(loss='categorical_crossentropy',\n",
        "              optimizer=opt,\n",
        "              metrics=['accuracy'])\n",
        "\n",
        "history = model.fit(x_train, y_train,\n",
        "                    batch_size=batch_size,\n",
        "                    epochs=epochs,\n",
        "                    verbose=1,\n",
        "                    validation_data=(x_test, y_test))\n",
        "score = model.evaluate(x_test, y_test, verbose=0)\n",
        "print('Test loss:', score[0])\n",
        "print('Test accuracy:', score[1])"
      ],
      "execution_count": 47,
      "outputs": [
        {
          "output_type": "stream",
          "text": [
            "Train on 50000 samples, validate on 10000 samples\n",
            "Epoch 1/10\n",
            "50000/50000 [==============================] - 21s 426us/step - loss: 1.9518 - acc: 0.2935 - val_loss: 1.8206 - val_acc: 0.3698\n",
            "Epoch 2/10\n",
            "50000/50000 [==============================] - 21s 413us/step - loss: 1.7694 - acc: 0.3708 - val_loss: 1.7548 - val_acc: 0.3752\n",
            "Epoch 3/10\n",
            "50000/50000 [==============================] - 20s 410us/step - loss: 1.6917 - acc: 0.3966 - val_loss: 1.6302 - val_acc: 0.4170\n",
            "Epoch 4/10\n",
            "50000/50000 [==============================] - 20s 407us/step - loss: 1.6344 - acc: 0.4216 - val_loss: 1.6470 - val_acc: 0.4121\n",
            "Epoch 5/10\n",
            "50000/50000 [==============================] - 21s 411us/step - loss: 1.5930 - acc: 0.4362 - val_loss: 1.5650 - val_acc: 0.4471\n",
            "Epoch 6/10\n",
            "50000/50000 [==============================] - 21s 411us/step - loss: 1.5605 - acc: 0.4453 - val_loss: 1.5000 - val_acc: 0.4685\n",
            "Epoch 7/10\n",
            "50000/50000 [==============================] - 21s 410us/step - loss: 1.5304 - acc: 0.4589 - val_loss: 1.5201 - val_acc: 0.4571\n",
            "Epoch 8/10\n",
            "50000/50000 [==============================] - 21s 411us/step - loss: 1.5071 - acc: 0.4678 - val_loss: 1.5306 - val_acc: 0.4599\n",
            "Epoch 9/10\n",
            "50000/50000 [==============================] - 22s 432us/step - loss: 1.4837 - acc: 0.4752 - val_loss: 1.4343 - val_acc: 0.4912\n",
            "Epoch 10/10\n",
            "50000/50000 [==============================] - 20s 407us/step - loss: 1.4618 - acc: 0.4834 - val_loss: 1.4636 - val_acc: 0.4698\n",
            "Test loss: 1.463600728416443\n",
            "Test accuracy: 0.4698\n"
          ],
          "name": "stdout"
        }
      ]
    },
    {
      "metadata": {
        "id": "6fEO_2zL_5AC",
        "colab_type": "text"
      },
      "cell_type": "markdown",
      "source": [
        "\n",
        "**Modified Results:**\n",
        "```\n",
        "**The accuracy increased with the learning rate decreased.**\n",
        "**The loss decreased with the learning rate decreased.**\n",
        "**Lower learning rate like 0.0001 can improve the model performance.**\n",
        "```\n"
      ]
    }
  ]
}
